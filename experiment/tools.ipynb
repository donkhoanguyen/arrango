{
 "cells": [
  {
   "cell_type": "markdown",
   "metadata": {},
   "source": [
    "## 0. Dependencies"
   ]
  },
  {
   "cell_type": "code",
   "execution_count": 37,
   "metadata": {},
   "outputs": [
    {
     "name": "stderr",
     "output_type": "stream",
     "text": [
      "[22:06:01 -0500] [INFO]: Graph 'sprint1' exists.\n",
      "[22:06:01 -0500] [INFO]: Default node type set to 'employee'\n"
     ]
    }
   ],
   "source": [
    "# 5. Import the required modules\n",
    "\n",
    "import networkx as nx\n",
    "import nx_arangodb as nxadb\n",
    "\n",
    "from arango import ArangoClient\n",
    "\n",
    "import pandas as pd\n",
    "import numpy as np\n",
    "import networkx as nx\n",
    "import matplotlib.pyplot as plt\n",
    "from random import randint\n",
    "import re\n",
    "\n",
    "from langgraph.prebuilt import create_react_agent\n",
    "from langgraph.checkpoint.memory import MemorySaver\n",
    "from langchain_openai import ChatOpenAI\n",
    "from langchain_community.graphs import ArangoGraph\n",
    "from langchain_community.chains.graph_qa.arangodb import ArangoGraphQAChain\n",
    "from langchain_core.tools import tool\n",
    "\n",
    "import os\n",
    "import networkx as nx\n",
    "import nx_arangodb as nxadb\n",
    "\n",
    "os.environ[\"DATABASE_HOST\"] = \"https://b61c3b83bfe6.arangodb.cloud:8529\"\n",
    "os.environ[\"DATABASE_USERNAME\"] = \"root\"\n",
    "os.environ[\"DATABASE_PASSWORD\"] = \"RHr0KzkRUVlp61IisH8G\"\n",
    "os.environ[\"DATABASE_NAME\"] = \"DAC_devops_log\"\n",
    "\n",
    "db = ArangoClient(hosts=\"https://b61c3b83bfe6.arangodb.cloud:8529\") \\\n",
    "    .db(username=\"root\", \n",
    "        password=\"RHr0KzkRUVlp61IisH8G\", \n",
    "        name=\"DAC_devops_log\",\n",
    "        verify=True)\n",
    "\n",
    "arango_graph = ArangoGraph(db)\n",
    "\n",
    "G = nxadb.Graph(name=\"sprint1\")"
   ]
  },
  {
   "cell_type": "code",
   "execution_count": 38,
   "metadata": {},
   "outputs": [
    {
     "name": "stdout",
     "output_type": "stream",
     "text": [
      "{'Graph Schema': [{'graph_name': 'MyGraph', 'edge_definitions': [{'edge_collection': 'MyGraph_node_to_MyGraph_node', 'from_vertex_collections': ['MyGraph_node'], 'to_vertex_collections': ['MyGraph_node']}]}, {'graph_name': 'sprint1', 'edge_definitions': [{'edge_collection': 'emp_adv_task', 'from_vertex_collections': ['employee'], 'to_vertex_collections': ['task']}, {'edge_collection': 'emp_do_task', 'from_vertex_collections': ['employee'], 'to_vertex_collections': ['task']}, {'edge_collection': 'task_precede_task', 'from_vertex_collections': ['task'], 'to_vertex_collections': ['task']}]}], 'Collection Schema': [{'collection_name': 'task_precede_task', 'collection_type': 'edge', 'edge_properties': [{'name': '_key', 'type': 'str'}, {'name': '_id', 'type': 'str'}, {'name': '_from', 'type': 'str'}, {'name': '_to', 'type': 'str'}, {'name': '_rev', 'type': 'str'}], 'example_edge': {'_key': '10010471', '_id': 'task_precede_task/10010471', '_from': 'task/TSK-98C9448B', '_to': 'task/TSK-5C2187CF', '_rev': '_jSntI4q---'}}, {'collection_name': 'emp_adv_task', 'collection_type': 'edge', 'edge_properties': [{'name': '_key', 'type': 'str'}, {'name': '_id', 'type': 'str'}, {'name': '_from', 'type': 'str'}, {'name': '_to', 'type': 'str'}, {'name': '_rev', 'type': 'str'}], 'example_edge': {'_key': '10010327', '_id': 'emp_adv_task/10010327', '_from': 'employee/13', '_to': 'task/TSK-CB0C0404', '_rev': '_jSntIai---'}}, {'collection_name': 'employee', 'collection_type': 'document', 'document_properties': [{'name': '_key', 'type': 'str'}, {'name': '_id', 'type': 'str'}, {'name': '_rev', 'type': 'str'}, {'name': 'ManagerID', 'type': 'str'}, {'name': 'Salary', 'type': 'str'}, {'name': 'HireDate', 'type': 'str'}, {'name': 'Seniority', 'type': 'str'}, {'name': 'Team', 'type': 'str'}, {'name': 'Department', 'type': 'str'}, {'name': 'Role', 'type': 'str'}, {'name': 'Email', 'type': 'str'}, {'name': 'LastName', 'type': 'str'}, {'name': 'FirstName', 'type': 'str'}, {'name': 'EmpID', 'type': 'str'}], 'example_document': {'_key': '1', '_id': 'employee/1', '_rev': '_jSntGK6---', 'ManagerID': '', 'Salary': '186265', 'HireDate': '2017-02-21', 'Seniority': 'Director', 'Team': 'Leadership', 'Department': 'Data', 'Role': 'Director', 'Email': 'stephanie.harris@company.com', 'LastName': 'Harris', 'FirstName': 'Stephanie', 'EmpID': '1'}}, {'collection_name': 'task', 'collection_type': 'document', 'document_properties': [{'name': '_key', 'type': 'str'}, {'name': '_id', 'type': 'str'}, {'name': '_rev', 'type': 'str'}, {'name': 'TaskID', 'type': 'str'}, {'name': 'Description', 'type': 'str'}, {'name': 'AssignedEmployees', 'type': 'str'}, {'name': 'Advisors', 'type': 'str'}, {'name': 'PrecedingTasks', 'type': 'str'}, {'name': 'StoryPoints', 'type': 'str'}, {'name': 'StartTime', 'type': 'str'}, {'name': 'EstimatedFinishTime', 'type': 'str'}, {'name': 'Status', 'type': 'str'}, {'name': 'ActualFinishTime', 'type': 'str'}], 'example_document': {'_key': 'TSK-CB0C0404', '_id': 'task/TSK-CB0C0404', '_rev': '_jSntHIq---', 'TaskID': 'TSK-CB0C0404', 'Description': 'Initial project setup and configuration', 'AssignedEmployees': '36,1', 'Advisors': '13,25', 'PrecedingTasks': '', 'StoryPoints': '2', 'StartTime': '2025-02-27', 'EstimatedFinishTime': '2025-02-28', 'Status': 'Planned', 'ActualFinishTime': ''}}, {'collection_name': 'emp_do_task', 'collection_type': 'edge', 'edge_properties': [{'name': '_key', 'type': 'str'}, {'name': '_id', 'type': 'str'}, {'name': '_from', 'type': 'str'}, {'name': '_to', 'type': 'str'}, {'name': '_rev', 'type': 'str'}], 'example_edge': {'_key': '10010149', '_id': 'emp_do_task/10010149', '_from': 'employee/36', '_to': 'task/TSK-CB0C0404', '_rev': '_jSntH2q---'}}]}\n"
     ]
    }
   ],
   "source": [
    "print(arango_graph.schema)"
   ]
  },
  {
   "cell_type": "code",
   "execution_count": null,
   "metadata": {},
   "outputs": [
    {
     "data": {
      "text/plain": [
       "\"Task: Generate an ArangoDB Query Language (AQL) query from a User Input.\\n\\nYou are an ArangoDB Query Language (AQL) expert responsible for translating a `User Input` into an ArangoDB Query Language (AQL) query.\\n\\nYou are given an `ArangoDB Schema`. It is a JSON Object containing:\\n1. `Graph Schema`: Lists all Graphs within the ArangoDB Database Instance, along with their Edge Relationships.\\n2. `Collection Schema`: Lists all Collections within the ArangoDB Database Instance, along with their document/edge properties and a document/edge example.\\n\\nYou may also be given a set of `AQL Query Examples` to help you create the `AQL Query`. If provided, the `AQL Query Examples` should be used as a reference, similar to how `ArangoDB Schema` should be used.\\n\\nThings you should do:\\n- Think step by step.\\n- Rely on `ArangoDB Schema` and `AQL Query Examples` (if provided) to generate the query.\\n- Begin the `AQL Query` by the `WITH` AQL keyword to specify all of the ArangoDB Collections required.\\n- Return the `AQL Query` wrapped in 3 backticks (```).\\n- Use only the provided relationship types and properties in the `ArangoDB Schema` and any `AQL Query Examples` queries.\\n- Only answer to requests related to generating an AQL Query.\\n- If a request is unrelated to generating AQL Query, say that you cannot help the user.\\n\\nThings you should not do:\\n- Do not use any properties/relationships that can't be inferred from the `ArangoDB Schema` or the `AQL Query Examples`. \\n- Do not include any text except the generated AQL Query.\\n- Do not provide explanations or apologies in your responses.\\n- Do not generate an AQL Query that removes or deletes any data.\\n\\nUnder no circumstance should you generate an AQL Query that deletes any data whatsoever.\\n\\nArangoDB Schema:\\n{'Graph Schema': [{'graph_name': 'sprint1', 'edge_definitions': [{'edge_collection': 'sprint1_node_to_sprint1_node', 'from_vertex_collections': ['sprint1_node'], 'to_vertex_collections': ['sprint1_node']}]}], 'Collection Schema': []}\\n\\n\\nAQL Query: \\n\""
      ]
     },
     "execution_count": 27,
     "metadata": {},
     "output_type": "execute_result"
    }
   ],
   "source": [
    "# from langchain_core.prompts import PromptTemplate\n",
    "\n",
    "# AQL_GENERATION_TEMPLATE = \"\"\"Task: Generate an ArangoDB Query Language (AQL) query from a User Input.\n",
    "\n",
    "# You are an ArangoDB Query Language (AQL) expert responsible for translating a `User Input` into an ArangoDB Query Language (AQL) query.\n",
    "\n",
    "# You are given an `ArangoDB Schema`. It is a JSON Object containing:\n",
    "# 1. `Graph Schema`: Lists all Graphs within the ArangoDB Database Instance, along with their Edge Relationships.\n",
    "# 2. `Collection Schema`: Lists all Collections within the ArangoDB Database Instance, along with their document/edge properties and a document/edge example.\n",
    "\n",
    "# You may also be given a set of `AQL Query Examples` to help you create the `AQL Query`. If provided, the `AQL Query Examples` should be used as a reference, similar to how `ArangoDB Schema` should be used.\n",
    "\n",
    "# Things you should do:\n",
    "# - Think step by step.\n",
    "# - Rely on `ArangoDB Schema` and `AQL Query Examples` (if provided) to generate the query.\n",
    "# - Begin the `AQL Query` by the `WITH` AQL keyword to specify all of the ArangoDB Collections required.\n",
    "# - Return the `AQL Query` wrapped in 3 backticks (```).\n",
    "# - Use only the provided relationship types and properties in the `ArangoDB Schema` and any `AQL Query Examples` queries.\n",
    "# - Only answer to requests related to generating an AQL Query.\n",
    "# - If a request is unrelated to generating AQL Query, say that you cannot help the user.\n",
    "\n",
    "# Things you should not do:\n",
    "# - Do not use any properties/relationships that can't be inferred from the `ArangoDB Schema` or the `AQL Query Examples`. \n",
    "# - Do not include any text except the generated AQL Query.\n",
    "# - Do not provide explanations or apologies in your responses.\n",
    "# - Do not generate an AQL Query that removes or deletes any data.\n",
    "\n",
    "# Under no circumstance should you generate an AQL Query that deletes any data whatsoever.\n",
    "\n",
    "# ArangoDB Schema:\n",
    "# {adb_schema}\n",
    "\n",
    "\n",
    "# AQL Query: \n",
    "# \"\"\"\n",
    "# aql_prompt = PromptTemplate(\n",
    "#     input_variables=[\"adb_schema\"],\n",
    "#     template=AQL_GENERATION_TEMPLATE,\n",
    "# )\n",
    "\n",
    "# aql_prompt.format(adb_schema=arango_graph.schema)\n"
   ]
  },
  {
   "cell_type": "markdown",
   "metadata": {},
   "source": [
    "## Example 1: basic query"
   ]
  },
  {
   "cell_type": "code",
   "execution_count": 39,
   "metadata": {},
   "outputs": [],
   "source": [
    "@tool\n",
    "def text_to_aql_to_text(query: str):\n",
    "    \"\"\"This tool is available to invoke the\n",
    "    ArangoGraphQAChain object, which enables you to\n",
    "    translate a Natural Language Query into AQL, execute\n",
    "    the query, and translate the result back into Natural Language.\n",
    "    \"\"\"\n",
    "\n",
    "    llm = ChatOpenAI(temperature=0, model_name=\"gpt-4o\")\n",
    "\n",
    "    chain = ArangoGraphQAChain.from_llm(\n",
    "    \tllm=llm,\n",
    "    \tgraph=arango_graph,\n",
    "    \tverbose=True,\n",
    "        allow_dangerous_requests=True,\n",
    "        # aql_generation_prompt=aql_prompt\n",
    "\n",
    "    )\n",
    "    \n",
    "    result = chain.invoke(query)\n",
    "\n",
    "    return str(result[\"result\"])"
   ]
  },
  {
   "cell_type": "code",
   "execution_count": 41,
   "metadata": {},
   "outputs": [
    {
     "name": "stdout",
     "output_type": "stream",
     "text": [
      "\n",
      "\n",
      "\u001b[1m> Entering new ArangoGraphQAChain chain...\u001b[0m\n",
      "AQL Query (1):\u001b[32;1m\u001b[1;3m\n",
      "WITH task\n",
      "FOR t IN task\n",
      "SORT t.StoryPoints DESC\n",
      "LIMIT 1\n",
      "RETURN t\n",
      "\u001b[0m\n",
      "AQL Result:\n",
      "\u001b[32;1m\u001b[1;3m[{'_key': 'TSK-BBA87B09', '_id': 'task/TSK-BBA87B09', '_rev': '_jSntHIq--6', 'TaskID': 'TSK-BBA87B09', 'Description': 'Configuring server for scalability', 'AssignedEmployees': '33', 'Advisors': '27', 'PrecedingTasks': '', 'StoryPoints': '9', 'StartTime': '2025-03-18 00:00:00', 'EstimatedFinishTime': '2025-03-26 00:00:00', 'Status': 'Planned', 'ActualFinishTime': ''}]\u001b[0m\n",
      "\n",
      "\u001b[1m> Finished chain.\u001b[0m\n"
     ]
    },
    {
     "data": {
      "text/plain": [
       "'The most important task in your graph, based on the highest number of story points, is \"Configuring server for scalability.\" This task is identified by the TaskID \"TSK-BBA87B09\" and is currently in the \"Planned\" status. It is scheduled to start on March 18, 2025, and is estimated to be completed by March 26, 2025. The task is assigned to employee 33 and has advisor 27.'"
      ]
     },
     "execution_count": 41,
     "metadata": {},
     "output_type": "execute_result"
    }
   ],
   "source": [
    "text_to_aql_to_text(\"what is the most important task in my graph?\")"
   ]
  },
  {
   "cell_type": "code",
   "execution_count": 42,
   "metadata": {},
   "outputs": [
    {
     "name": "stdout",
     "output_type": "stream",
     "text": [
      "\n",
      "\n",
      "\u001b[1m> Entering new ArangoGraphQAChain chain...\u001b[0m\n",
      "AQL Query (1):\u001b[32;1m\u001b[1;3m\n",
      "WITH task, task_precede_task\n",
      "FOR t IN task\n",
      "    LET precedingCount = LENGTH(\n",
      "        FOR tp IN task_precede_task\n",
      "            FILTER tp._to == t._id\n",
      "            RETURN tp\n",
      "    )\n",
      "    SORT precedingCount DESC\n",
      "    LIMIT 1\n",
      "    RETURN { task: t, precedingCount: precedingCount }\n",
      "\u001b[0m\n",
      "AQL Result:\n",
      "\u001b[32;1m\u001b[1;3m[{'task': {'_key': 'TSK-B03EF789', '_id': 'task/TSK-B03EF789', '_rev': '_jSntHIq-_F', 'TaskID': 'TSK-B03EF789', 'Description': 'Perform full data migration dry run', 'AssignedEmployees': '23', 'Advisors': '3,5', 'PrecedingTasks': 'TSK-42E44473,TSK-F567DBE1,TSK-A0500206,TSK-5A434477', 'StoryPoints': '13', 'StartTime': '2025-03-07 00:00:00', 'EstimatedFinishTime': '2025-03-14 00:00:00', 'Status': 'Planned', 'ActualFinishTime': ''}, 'precedingCount': 4}]\u001b[0m\n",
      "\n",
      "\u001b[1m> Finished chain.\u001b[0m\n"
     ]
    },
    {
     "data": {
      "text/plain": [
       "'The task with the highest number of preceding tasks in your graph is \"Perform full data migration dry run\" (Task ID: TSK-B03EF789). This task has four preceding tasks, indicating that it is dependent on the completion of these tasks before it can begin. The task is currently planned to start on March 7, 2025, and is estimated to finish by March 14, 2025.'"
      ]
     },
     "execution_count": 42,
     "metadata": {},
     "output_type": "execute_result"
    }
   ],
   "source": [
    "text_to_aql_to_text(\"what is the task that has the highest number of preceding tasks in my graph?\")"
   ]
  },
  {
   "cell_type": "markdown",
   "metadata": {},
   "source": [
    "## 2: Example PageRank"
   ]
  },
  {
   "cell_type": "code",
   "execution_count": 43,
   "metadata": {},
   "outputs": [],
   "source": [
    "@tool\n",
    "def text_to_nx_algorithm_to_text(query):\n",
    "    \"\"\"This tool is available to invoke a NetworkX Algorithm on\n",
    "    the ArangoDB Graph. You are responsible for accepting the\n",
    "    Natural Language Query, establishing which algorithm needs to\n",
    "    be executed, executing the algorithm, and translating the results back\n",
    "    to Natural Language, with respect to the original query.\n",
    "\n",
    "    If the query (e.g traversals, shortest path, etc.) can be solved using the Arango Query Language, then do not use\n",
    "    this tool.\n",
    "    \"\"\"\n",
    "\n",
    "    llm = ChatOpenAI(temperature=0, model_name=\"gpt-4o\")\n",
    "\n",
    "    ######################\n",
    "    print(\"1) Generating NetworkX code\")\n",
    "\n",
    "    text_to_nx = llm.invoke(f\"\"\"\n",
    "    I have a NetworkX Graph called `G_adb`. It has the following schema: {arango_graph.schema}\n",
    "\n",
    "    I have the following graph analysis query: {query}.\n",
    "\n",
    "    Generate the Python Code required to answer the query using the `G_adb` object.\n",
    "\n",
    "    Be very precise on the NetworkX algorithm you select to answer this query. Think step by step.\n",
    "\n",
    "    Only assume that networkx is installed, and other base python dependencies.\n",
    "\n",
    "    Always set the last variable as `FINAL_RESULT`, which represents the answer to the original query.\n",
    "\n",
    "    Only provide python code that I can directly execute via `exec()`. Do not provide any instructions.\n",
    "\n",
    "    Make sure that `FINAL_RESULT` stores a short & consice answer. Avoid setting this variable to a long sequence.\n",
    "\n",
    "    Your code:\n",
    "    \"\"\").content\n",
    "\n",
    "    text_to_nx_cleaned = re.sub(r\"^```python\\n|```$\", \"\", text_to_nx, flags=re.MULTILINE).strip()\n",
    "    \n",
    "    print('-'*10)\n",
    "    print(text_to_nx_cleaned)\n",
    "    print('-'*10)\n",
    "\n",
    "    ######################\n",
    "\n",
    "    print(\"\\n2) Executing NetworkX code\")\n",
    "    global_vars = {\"G_adb\": G, \"nx\": nx}\n",
    "    local_vars = {}\n",
    "\n",
    "    try:\n",
    "        exec(text_to_nx_cleaned, global_vars, local_vars)\n",
    "        text_to_nx_final = text_to_nx\n",
    "    except Exception as e:\n",
    "        print(f\"EXEC ERROR: {e}\")\n",
    "        return f\"EXEC ERROR: {e}\"\n",
    "\n",
    "        # TODO: Consider experimenting with a code corrector!\n",
    "        attempt = 1\n",
    "        MAX_ATTEMPTS = 3\n",
    "\n",
    "        # while attempt <= MAX_ATTEMPTS\n",
    "            # ...\n",
    "\n",
    "    print('-'*10)\n",
    "    FINAL_RESULT = local_vars[\"FINAL_RESULT\"]\n",
    "    print(f\"FINAL_RESULT: {FINAL_RESULT}\")\n",
    "    print('-'*10)\n",
    "\n",
    "    ######################\n",
    "\n",
    "    print(\"3) Formulating final answer\")\n",
    "\n",
    "    nx_to_text = llm.invoke(f\"\"\"\n",
    "        I have a NetworkX Graph called `G_adb`. It has the following schema: {arango_graph.schema}\n",
    "\n",
    "        I have the following graph analysis query: {query}.\n",
    "\n",
    "        I have executed the following python code to help me answer my query:\n",
    "\n",
    "        ---\n",
    "        {text_to_nx_final}\n",
    "        ---\n",
    "\n",
    "        The `FINAL_RESULT` variable is set to the following: {FINAL_RESULT}.\n",
    "\n",
    "        Based on my original Query and FINAL_RESULT, generate a short and concise response to\n",
    "        answer my query.\n",
    "        \n",
    "        Your response:\n",
    "    \"\"\").content\n",
    "\n",
    "    return nx_to_text\n"
   ]
  },
  {
   "cell_type": "code",
   "execution_count": 46,
   "metadata": {},
   "outputs": [
    {
     "name": "stdout",
     "output_type": "stream",
     "text": [
      "1) Generating NetworkX code\n",
      "----------\n",
      "import networkx as nx\n",
      "\n",
      "# Assuming G_adb is already defined and is a NetworkX DiGraph\n",
      "\n",
      "# Step 1: Calculate PageRank for the tasks\n",
      "pagerank_scores = nx.pagerank(G_adb)\n",
      "\n",
      "# Step 2: Filter out the tasks from the PageRank scores\n",
      "task_scores = {node: score for node, score in pagerank_scores.items() if node.startswith('task/')}\n",
      "\n",
      "# Step 3: Find the task with the highest PageRank score\n",
      "most_important_task = max(task_scores, key=task_scores.get)\n",
      "\n",
      "# Step 4: Extract the task ID from the node identifier\n",
      "FINAL_RESULT = most_important_task.split('/')[1]\n",
      "----------\n",
      "\n",
      "2) Executing NetworkX code\n"
     ]
    },
    {
     "name": "stderr",
     "output_type": "stream",
     "text": [
      "[22:18:17 -0500] [INFO]: Graph 'sprint1' load took 2.423762083053589s\n"
     ]
    },
    {
     "name": "stdout",
     "output_type": "stream",
     "text": [
      "----------\n",
      "FINAL_RESULT: TSK-AE8CFDEC\n",
      "----------\n",
      "3) Formulating final answer\n"
     ]
    },
    {
     "data": {
      "text/plain": [
       "'The task identified as the most important and should be completed first, based on PageRank analysis, is TSK-AE8CFDEC.'"
      ]
     },
     "execution_count": 46,
     "metadata": {},
     "output_type": "execute_result"
    }
   ],
   "source": [
    "text_to_nx_algorithm_to_text(\"which task should be the most important and should be completed first if you are to use page rank?\")"
   ]
  },
  {
   "cell_type": "markdown",
   "metadata": {},
   "source": [
    "## 3. Employee Importance"
   ]
  },
  {
   "cell_type": "code",
   "execution_count": 53,
   "metadata": {},
   "outputs": [
    {
     "name": "stdout",
     "output_type": "stream",
     "text": [
      "1) Generating NetworkX code\n",
      "----------\n",
      "import networkx as nx\n",
      "\n",
      "# Assuming G_adb is already defined and is a NetworkX graph\n",
      "\n",
      "# Step 1: Calculate PageRank for tasks\n",
      "task_nodes = [n for n, d in G_adb.nodes(data=True) if d.get('collection') == 'task']\n",
      "pagerank = nx.pagerank(G_adb, personalization=None, max_iter=100, tol=1e-06, nstart=None, weight='weight', dangling=None)\n",
      "\n",
      "# Step 2: Filter PageRank values for task nodes\n",
      "task_pagerank = {node: rank for node, rank in pagerank.items() if node in task_nodes}\n",
      "\n",
      "# Step 3: Create a mapping of employees to tasks they completed\n",
      "emp_do_task_edges = [(u, v) for u, v, d in G_adb.edges(data=True) if d.get('collection') == 'emp_do_task']\n",
      "employee_task_map = {}\n",
      "for emp, task in emp_do_task_edges:\n",
      "    if emp not in employee_task_map:\n",
      "        employee_task_map[emp] = []\n",
      "    employee_task_map[emp].append(task)\n",
      "\n",
      "# Step 4: Calculate total PageRank for tasks completed by each employee\n",
      "employee_pagerank = {}\n",
      "for emp, tasks in employee_task_map.items():\n",
      "    total_pagerank = sum(task_pagerank.get(task, 0) for task in tasks)\n",
      "    employee_pagerank[emp] = total_pagerank\n",
      "\n",
      "# Step 5: Retrieve employee titles\n",
      "employee_titles = {n: d.get('Seniority', 'Unknown') for n, d in G_adb.nodes(data=True) if d.get('collection') == 'employee'}\n",
      "\n",
      "# Step 6: Prepare the final result\n",
      "FINAL_RESULT = [(emp, employee_titles.get(emp, 'Unknown'), total_pagerank) for emp, total_pagerank in employee_pagerank.items()]\n",
      "----------\n",
      "\n",
      "2) Executing NetworkX code\n",
      "----------\n",
      "FINAL_RESULT: []\n",
      "----------\n",
      "3) Formulating final answer\n"
     ]
    },
    {
     "data": {
      "text/plain": [
       "\"It seems that the `FINAL_RESULT` is empty, which indicates that no employees have completed any tasks, or there might be an issue with the data or the code logic. Here are a few things to check:\\n\\n1. **Data Verification**: Ensure that the `G_adb` graph is correctly populated with nodes and edges, especially the `emp_do_task` edges that link employees to tasks.\\n\\n2. **Collection Attribute**: Verify that the nodes and edges have the correct 'collection' attribute set, as the code relies on this to filter tasks and employee-task relationships.\\n\\n3. **Task Completion**: Confirm that there are tasks marked as completed by employees in the `emp_do_task` collection.\\n\\n4. **Code Logic**: Double-check the code logic to ensure that it correctly maps employees to tasks and calculates the PageRank for tasks.\\n\\nIf everything is set up correctly, the `FINAL_RESULT` should list employees, their titles, and the total PageRank of tasks they have completed. If issues persist, consider debugging the graph data and the code to identify any discrepancies.\""
      ]
     },
     "execution_count": 53,
     "metadata": {},
     "output_type": "execute_result"
    }
   ],
   "source": [
    "text_to_nx_algorithm_to_text(\"\"\"\n",
    "I need to understand the importance of my employees\n",
    "                             \n",
    "Help me create this output:\n",
    "Employee | employee title | total pagerank of all the tasks this employee completed\n",
    "\"\"\")"
   ]
  },
  {
   "cell_type": "markdown",
   "metadata": {},
   "source": [
    "## 4. Create schedule"
   ]
  },
  {
   "cell_type": "code",
   "execution_count": null,
   "metadata": {},
   "outputs": [
    {
     "name": "stdout",
     "output_type": "stream",
     "text": [
      "1) Generating NetworkX code\n",
      "----------\n",
      "import networkx as nx\n",
      "\n",
      "# Assuming G_adb is already defined and is a NetworkX DiGraph\n",
      "\n",
      "# Step 1: Calculate PageRank for all tasks\n",
      "pagerank = nx.pagerank(G_adb)\n",
      "\n",
      "# Step 2: Extract tasks and their PageRank scores\n",
      "tasks_pagerank = {node: score for node, score in pagerank.items() if node.startswith('task/')}\n",
      "\n",
      "# Step 3: Sort tasks by PageRank score in descending order\n",
      "sorted_tasks = sorted(tasks_pagerank, key=tasks_pagerank.get, reverse=True)\n",
      "\n",
      "# Step 4: Create a subgraph with only task nodes and task_precede_task edges\n",
      "task_nodes = [node for node in G_adb.nodes if node.startswith('task/')]\n",
      "task_edges = [(u, v) for u, v in G_adb.edges if u.startswith('task/') and v.startswith('task/')]\n",
      "task_graph = nx.DiGraph()\n",
      "task_graph.add_nodes_from(task_nodes)\n",
      "task_graph.add_edges_from(task_edges)\n",
      "\n",
      "# Step 5: Perform a topological sort on the task graph to respect task dependencies\n",
      "topological_order = list(nx.topological_sort(task_graph))\n",
      "\n",
      "# Step 6: Combine PageRank and topological order to determine the final task order\n",
      "final_task_order = []\n",
      "for task in sorted_tasks:\n",
      "    if task in topological_order:\n",
      "        final_task_order.append(task)\n",
      "\n",
      "# Step 7: Set the final result\n",
      "FINAL_RESULT = final_task_order\n",
      "----------\n",
      "\n",
      "2) Executing NetworkX code\n"
     ]
    },
    {
     "name": "stderr",
     "output_type": "stream",
     "text": [
      "[22:28:30 -0500] [INFO]: Graph 'sprint1' load took 2.4557292461395264s\n"
     ]
    },
    {
     "name": "stdout",
     "output_type": "stream",
     "text": [
      "----------\n",
      "FINAL_RESULT: ['task/TSK-AE8CFDEC', 'task/TSK-7E9F09A9', 'task/TSK-F7E19B69', 'task/TSK-B03EF789', 'task/TSK-5C2187CF', 'task/TSK-29CE08AD', 'task/TSK-98C9448B', 'task/TSK-F51C17B5', 'task/TSK-1FE396B7', 'task/TSK-FBD87AD9', 'task/TSK-763CE1C3', 'task/TSK-59CE546C', 'task/TSK-A0500206', 'task/TSK-8CD3CA3E', 'task/TSK-E73A7D25', 'task/TSK-01D25D85', 'task/TSK-F567DBE1', 'task/TSK-C2D38D23', 'task/TSK-DFB54467', 'task/TSK-5D974201', 'task/TSK-AAF06E6A', 'task/TSK-2B1FAB57', 'task/TSK-1B43CB90', 'task/TSK-FD3B1EFF', 'task/TSK-D5031D4A', 'task/TSK-89BBB564', 'task/TSK-983C30DC', 'task/TSK-4A3587C9', 'task/TSK-B600DD62', 'task/TSK-3D21853C', 'task/TSK-89806FDF', 'task/TSK-E6CFDD02', 'task/TSK-427652F3', 'task/TSK-5A434477', 'task/TSK-3BA37747', 'task/TSK-42E44473', 'task/TSK-0E209EFC', 'task/TSK-CB0C0404', 'task/TSK-FEA63216', 'task/TSK-85D5D00C', 'task/TSK-89754CBF', 'task/TSK-BE9555AC', 'task/TSK-FAAA4D51', 'task/TSK-84305F2F', 'task/TSK-BE4188D4', 'task/TSK-A6994DD6', 'task/TSK-C440EB07', 'task/TSK-10847035', 'task/TSK-795E9201', 'task/TSK-B3B5A8F6', 'task/TSK-CAFF3B09', 'task/TSK-54F9521F', 'task/TSK-255E6310', 'task/TSK-FB3E490E', 'task/TSK-0115FED3', 'task/TSK-A0CCA417', 'task/TSK-0985DBA9', 'task/TSK-A8A24727', 'task/TSK-93F18D57', 'task/TSK-30DBEA24', 'task/TSK-1A209469', 'task/TSK-2F459E7F', 'task/TSK-977CB080', 'task/TSK-514F6016', 'task/TSK-E2842052', 'task/TSK-A3E27D20', 'task/TSK-4D677758', 'task/TSK-C891B895', 'task/TSK-0AEE35B2', 'task/TSK-3941DB43', 'task/TSK-2970AC03', 'task/TSK-FAC99DF1', 'task/TSK-E2E87C0B', 'task/TSK-736E3B28', 'task/TSK-2179FF75', 'task/TSK-EBA1C369', 'task/TSK-41ECEB44', 'task/TSK-91119F5B', 'task/TSK-DA566BCB', 'task/TSK-C4D5CB75', 'task/TSK-DC3ED3E2', 'task/TSK-CB292DC1', 'task/TSK-39885F7F', 'task/TSK-46138F7D', 'task/TSK-0885F3E9', 'task/TSK-19A45EE8', 'task/TSK-1AA8BEAF', 'task/TSK-991E6E11', 'task/TSK-FBED5511', 'task/TSK-BBA87B09']\n",
      "----------\n",
      "3) Formulating final answer\n"
     ]
    },
    {
     "data": {
      "text/plain": [
       "'Based on the analysis, the tasks should be completed in the following order, respecting both their importance (as determined by PageRank) and their dependencies (ensuring all preceding tasks are completed first):\\n\\n1. TSK-AE8CFDEC\\n2. TSK-7E9F09A9\\n3. TSK-F7E19B69\\n4. TSK-B03EF789\\n5. TSK-5C2187CF\\n6. TSK-29CE08AD\\n7. TSK-98C9448B\\n8. TSK-F51C17B5\\n9. TSK-1FE396B7\\n10. TSK-FBD87AD9\\n11. TSK-763CE1C3\\n12. TSK-59CE546C\\n13. TSK-A0500206\\n14. TSK-8CD3CA3E\\n15. TSK-E73A7D25\\n16. TSK-01D25D85\\n17. TSK-F567DBE1\\n18. TSK-C2D38D23\\n19. TSK-DFB54467\\n20. TSK-5D974201\\n21. TSK-AAF06E6A\\n22. TSK-2B1FAB57\\n23. TSK-1B43CB90\\n24. TSK-FD3B1EFF\\n25. TSK-D5031D4A\\n26. TSK-89BBB564\\n27. TSK-983C30DC\\n28. TSK-4A3587C9\\n29. TSK-B600DD62\\n30. TSK-3D21853C\\n31. TSK-89806FDF\\n32. TSK-E6CFDD02\\n33. TSK-427652F3\\n34. TSK-5A434477\\n35. TSK-3BA37747\\n36. TSK-42E44473\\n37. TSK-0E209EFC\\n38. TSK-CB0C0404\\n39. TSK-FEA63216\\n40. TSK-85D5D00C\\n41. TSK-89754CBF\\n42. TSK-BE9555AC\\n43. TSK-FAAA4D51\\n44. TSK-84305F2F\\n45. TSK-BE4188D4\\n46. TSK-A6994DD6\\n47. TSK-C440EB07\\n48. TSK-10847035\\n49. TSK-795E9201\\n50. TSK-B3B5A8F6\\n51. TSK-CAFF3B09\\n52. TSK-54F9521F\\n53. TSK-255E6310\\n54. TSK-FB3E490E\\n55. TSK-0115FED3\\n56. TSK-A0CCA417\\n57. TSK-0985DBA9\\n58. TSK-A8A24727\\n59. TSK-93F18D57\\n60. TSK-30DBEA24\\n61. TSK-1A209469\\n62. TSK-2F459E7F\\n63. TSK-977CB080\\n64. TSK-514F6016\\n65. TSK-E2842052\\n66. TSK-A3E27D20\\n67. TSK-4D677758\\n68. TSK-C891B895\\n69. TSK-0AEE35B2\\n70. TSK-3941DB43\\n71. TSK-2970AC03\\n72. TSK-FAC99DF1\\n73. TSK-E2E87C0B\\n74. TSK-736E3B28\\n75. TSK-2179FF75\\n76. TSK-EBA1C369\\n77. TSK-41ECEB44\\n78. TSK-91119F5B\\n79. TSK-DA566BCB\\n80. TSK-C4D5CB75\\n81. TSK-DC3ED3E2\\n82. TSK-CB292DC1\\n83. TSK-39885F7F\\n84. TSK-46138F7D\\n85. TSK-0885F3E9\\n86. TSK-19A45EE8\\n87. TSK-1AA8BEAF\\n88. TSK-991E6E11\\n89. TSK-FBED5511\\n90. TSK-BBA87B09\\n\\nThis order ensures that more important tasks are prioritized while respecting the dependencies between tasks.'"
      ]
     },
     "execution_count": 48,
     "metadata": {},
     "output_type": "execute_result"
    }
   ],
   "source": [
    "text_to_nx_algorithm_to_text(\"\"\"\n",
    "    Ignore start date and end date of any task\n",
    "                             \n",
    "    I will now need to set up a timeline to do all these tasks. I believe it can be done with respect to these conditions:\n",
    "    - Using page rank, more important tasks should be done first\n",
    "    - A task can only be done if all of its preceding tasks are done\n",
    "                             \n",
    "    Give me the order of all the tasks I need to do. Here is how I imagine you should do it:\n",
    "    - For each task, calculate its pagerank\n",
    "    - Calculate the order of tasks based on\n",
    "    \n",
    "\"\"\")"
   ]
  },
  {
   "cell_type": "code",
   "execution_count": null,
   "metadata": {},
   "outputs": [],
   "source": []
  }
 ],
 "metadata": {
  "kernelspec": {
   "display_name": "3.12.0",
   "language": "python",
   "name": "python3"
  },
  "language_info": {
   "codemirror_mode": {
    "name": "ipython",
    "version": 3
   },
   "file_extension": ".py",
   "mimetype": "text/x-python",
   "name": "python",
   "nbconvert_exporter": "python",
   "pygments_lexer": "ipython3",
   "version": "3.12.0"
  }
 },
 "nbformat": 4,
 "nbformat_minor": 2
}
