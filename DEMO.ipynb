{
  "cells": [
    {
      "cell_type": "markdown",
      "source": [
        "# **Confluence Copilot** Demo Notebook\n",
        "\n",
        "Disclaimer: Since we built our application with Streamlit, we have to develop with Python `.py` files instead of in-notebook. This results in a much better UI/UX, as you will see later, but setting these thing up to be ran in a Jupyter Notebook might take some time. However, we believe the experience will be worth your while, so stick around :)\n",
        "\n",
        "## Installation\n",
        "First, we have to clone our git repository and change directory to `arrango/src/ingest`.\n",
        "\n",
        "NOTE: MAKE SURE TO RUN THIS CODE CELL BELOW ONLY ONCE!"
      ],
      "metadata": {
        "id": "j_a44B7MvasL"
      }
    },
    {
      "cell_type": "code",
      "execution_count": 1,
      "metadata": {
        "vscode": {
          "languageId": "plaintext"
        },
        "colab": {
          "base_uri": "https://localhost:8080/"
        },
        "id": "OOnkeuGyvPmC",
        "outputId": "a6ed500b-9ed0-4521-e933-37dc6d3e33c6"
      },
      "outputs": [
        {
          "output_type": "stream",
          "name": "stdout",
          "text": [
            "Cloning into 'arrango'...\n",
            "remote: Enumerating objects: 960, done.\u001b[K\n",
            "remote: Counting objects: 100% (324/324), done.\u001b[K\n",
            "remote: Compressing objects: 100% (151/151), done.\u001b[K\n",
            "remote: Total 960 (delta 225), reused 260 (delta 173), pack-reused 636 (from 1)\u001b[K\n",
            "Receiving objects: 100% (960/960), 1.55 MiB | 3.86 MiB/s, done.\n",
            "Resolving deltas: 100% (518/518), done.\n",
            "/content/arrango/src/ingest\n",
            "This should say context/arrango/src/ingest\n",
            "/content/arrango/src/ingest\n"
          ]
        }
      ],
      "source": [
        "# Clone repository\n",
        "!git clone https://github.com/donkhoanguyen/arrango\n",
        "\n",
        "# Change directory\n",
        "%cd arrango/src/ingest\n",
        "\n",
        "# Confirming directory\n",
        "!echo \"This should say context/arrango/src/ingest\"\n",
        "!pwd"
      ]
    },
    {
      "cell_type": "markdown",
      "source": [
        "Next, we install required packages"
      ],
      "metadata": {
        "id": "38paI5cQxGhT"
      }
    },
    {
      "cell_type": "code",
      "source": [
        "!git pull"
      ],
      "metadata": {
        "colab": {
          "base_uri": "https://localhost:8080/"
        },
        "id": "31GYJJyv29Vn",
        "outputId": "b93267e6-5e39-4edf-db57-84ee286c92d8"
      },
      "execution_count": 34,
      "outputs": [
        {
          "output_type": "stream",
          "name": "stdout",
          "text": [
            "remote: Enumerating objects: 9, done.\u001b[K\n",
            "remote: Counting objects:  11% (1/9)\u001b[K\rremote: Counting objects:  22% (2/9)\u001b[K\rremote: Counting objects:  33% (3/9)\u001b[K\rremote: Counting objects:  44% (4/9)\u001b[K\rremote: Counting objects:  55% (5/9)\u001b[K\rremote: Counting objects:  66% (6/9)\u001b[K\rremote: Counting objects:  77% (7/9)\u001b[K\rremote: Counting objects:  88% (8/9)\u001b[K\rremote: Counting objects: 100% (9/9)\u001b[K\rremote: Counting objects: 100% (9/9), done.\u001b[K\n",
            "remote: Compressing objects:  50% (1/2)\u001b[K\rremote: Compressing objects: 100% (2/2)\u001b[K\rremote: Compressing objects: 100% (2/2), done.\u001b[K\n",
            "remote: Total 5 (delta 3), reused 5 (delta 3), pack-reused 0 (from 0)\u001b[K\n",
            "Unpacking objects:  20% (1/5)\rUnpacking objects:  40% (2/5)\rUnpacking objects:  60% (3/5)\rUnpacking objects:  80% (4/5)\rUnpacking objects: 100% (5/5)\rUnpacking objects: 100% (5/5), 495 bytes | 165.00 KiB/s, done.\n",
            "From https://github.com/donkhoanguyen/arrango\n",
            "   15a3547..ec3fc95  main       -> origin/main\n",
            "Updating 15a3547..ec3fc95\n",
            "Fast-forward\n",
            " src/ingest/database.py | 2 \u001b[32m+\u001b[m\u001b[31m-\u001b[m\n",
            " 1 file changed, 1 insertion(+), 1 deletion(-)\n"
          ]
        }
      ]
    },
    {
      "cell_type": "code",
      "source": [
        "!pip install -r requirements.txt -q"
      ],
      "metadata": {
        "colab": {
          "base_uri": "https://localhost:8080/"
        },
        "id": "AD8HudJTwE4j",
        "outputId": "1841c22d-572c-4b35-a52a-1643cc62724e"
      },
      "execution_count": 33,
      "outputs": [
        {
          "output_type": "stream",
          "name": "stdout",
          "text": [
            "\u001b[31mERROR: Operation cancelled by user\u001b[0m\u001b[31m\n",
            "\u001b[0mTraceback (most recent call last):\n",
            "  File \"/usr/local/lib/python3.11/dist-packages/pip/_internal/cli/base_command.py\", line 179, in exc_logging_wrapper\n",
            "    status = run_func(*args)\n",
            "             ^^^^^^^^^^^^^^^\n",
            "  File \"/usr/local/lib/python3.11/dist-packages/pip/_internal/cli/req_command.py\", line 67, in wrapper\n",
            "    return func(self, options, args)\n",
            "           ^^^^^^^^^^^^^^^^^^^^^^^^^\n",
            "  File \"/usr/local/lib/python3.11/dist-packages/pip/_internal/commands/install.py\", line 324, in run\n",
            "    session = self.get_default_session(options)\n",
            "              ^^^^^^^^^^^^^^^^^^^^^^^^^^^^^^^^^\n",
            "  File \"/usr/local/lib/python3.11/dist-packages/pip/_internal/cli/index_command.py\", line 71, in get_default_session\n",
            "    self._session = self.enter_context(self._build_session(options))\n",
            "                                       ^^^^^^^^^^^^^^^^^^^^^^^^^^^^\n",
            "  File \"/usr/local/lib/python3.11/dist-packages/pip/_internal/cli/index_command.py\", line 100, in _build_session\n",
            "    session = PipSession(\n",
            "              ^^^^^^^^^^^\n",
            "  File \"/usr/local/lib/python3.11/dist-packages/pip/_internal/network/session.py\", line 344, in __init__\n",
            "    self.headers[\"User-Agent\"] = user_agent()\n",
            "                                 ^^^^^^^^^^^^\n",
            "  File \"/usr/local/lib/python3.11/dist-packages/pip/_internal/network/session.py\", line 177, in user_agent\n",
            "    setuptools_dist = get_default_environment().get_distribution(\"setuptools\")\n",
            "                      ^^^^^^^^^^^^^^^^^^^^^^^^^^^^^^^^^^^^^^^^^^^^^^^^^^^^^^^^\n",
            "  File \"/usr/local/lib/python3.11/dist-packages/pip/_internal/metadata/importlib/_envs.py\", line 189, in get_distribution\n",
            "    return next(matches, None)\n",
            "           ^^^^^^^^^^^^^^^^^^^\n",
            "  File \"/usr/local/lib/python3.11/dist-packages/pip/_internal/metadata/importlib/_envs.py\", line 184, in <genexpr>\n",
            "    matches = (\n",
            "              ^\n",
            "  File \"/usr/local/lib/python3.11/dist-packages/pip/_internal/metadata/base.py\", line 612, in iter_all_distributions\n",
            "    for dist in self._iter_distributions():\n",
            "  File \"/usr/local/lib/python3.11/dist-packages/pip/_internal/metadata/importlib/_envs.py\", line 177, in _iter_distributions\n",
            "    for dist in finder.find_eggs(location):\n",
            "  File \"/usr/local/lib/python3.11/dist-packages/pip/_internal/metadata/importlib/_envs.py\", line 144, in find_eggs\n",
            "    yield from self._find_eggs_in_dir(location)\n",
            "  File \"/usr/local/lib/python3.11/dist-packages/pip/_internal/metadata/importlib/_envs.py\", line 111, in _find_eggs_in_dir\n",
            "    from pip._vendor.pkg_resources import find_distributions\n",
            "  File \"/usr/local/lib/python3.11/dist-packages/pip/_vendor/pkg_resources/__init__.py\", line 40, in <module>\n",
            "    import plistlib\n",
            "KeyboardInterrupt\n",
            "\n",
            "During handling of the above exception, another exception occurred:\n",
            "\n",
            "Traceback (most recent call last):\n",
            "  File \"/usr/local/bin/pip3\", line 10, in <module>\n",
            "    sys.exit(main())\n",
            "             ^^^^^^\n",
            "  File \"/usr/local/lib/python3.11/dist-packages/pip/_internal/cli/main.py\", line 80, in main\n",
            "    return command.main(cmd_args)\n",
            "           ^^^^^^^^^^^^^^^^^^^^^^\n",
            "  File \"/usr/local/lib/python3.11/dist-packages/pip/_internal/cli/base_command.py\", line 100, in main\n",
            "    return self._main(args)\n",
            "           ^^^^^^^^^^^^^^^^\n",
            "  File \"/usr/local/lib/python3.11/dist-packages/pip/_internal/cli/base_command.py\", line 232, in _main\n",
            "    return run(options, args)\n",
            "           ^^^^^^^^^^^^^^^^^^\n",
            "  File \"/usr/local/lib/python3.11/dist-packages/pip/_internal/cli/base_command.py\", line 215, in exc_logging_wrapper\n",
            "    logger.critical(\"Operation cancelled by user\")\n",
            "  File \"/usr/lib/python3.11/logging/__init__.py\", line 1536, in critical\n",
            "    self._log(CRITICAL, msg, args, **kwargs)\n",
            "  File \"/usr/lib/python3.11/logging/__init__.py\", line 1634, in _log\n",
            "    self.handle(record)\n",
            "  File \"/usr/lib/python3.11/logging/__init__.py\", line 1644, in handle\n",
            "    self.callHandlers(record)\n",
            "  File \"/usr/lib/python3.11/logging/__init__.py\", line 1706, in callHandlers\n",
            "    hdlr.handle(record)\n",
            "  File \"/usr/lib/python3.11/logging/__init__.py\", line 978, in handle\n",
            "    self.emit(record)\n",
            "  File \"/usr/local/lib/python3.11/dist-packages/pip/_internal/utils/logging.py\", line 177, in emit\n",
            "    self.console.print(renderable, overflow=\"ignore\", crop=False, style=style)\n",
            "  File \"/usr/local/lib/python3.11/dist-packages/pip/_vendor/rich/console.py\", line 1673, in print\n",
            "    with self:\n",
            "  File \"/usr/local/lib/python3.11/dist-packages/pip/_vendor/rich/console.py\", line 865, in __exit__\n",
            "    self._exit_buffer()\n",
            "  File \"/usr/local/lib/python3.11/dist-packages/pip/_vendor/rich/console.py\", line 823, in _exit_buffer\n",
            "    self._check_buffer()\n",
            "  File \"/usr/local/lib/python3.11/dist-packages/pip/_vendor/rich/console.py\", line 2060, in _check_buffer\n",
            "    self.file.write(text)\n",
            "KeyboardInterrupt\n",
            "^C\n"
          ]
        }
      ]
    },
    {
      "cell_type": "markdown",
      "source": [
        "We know this is a bad idea, but we haven't written a script to upload our graph data at will yet, so you can use our ArangoDB credentials for now. This `demo` user only have read access to our database."
      ],
      "metadata": {
        "id": "nCezqwpSzx_b"
      }
    },
    {
      "cell_type": "code",
      "source": [
        "secrets = \"\"\"\n",
        "OPENAI_API_KEY = \\\"<Put your OpenAI API Key here!!!!!!>\\\"\n",
        "\n",
        "LANGSMITH_TRACING=\\\"true\\\"\n",
        "LANGSMITH_ENDPOINT=\\\"https://api.smith.langchain.com\\\"\n",
        "LANGSMITH_API_KEY=\\\"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\\\"\n",
        "LANGSMITH_PROJECT=\\\"arangodb-hackathon\\\"\n",
        "\n",
        "DATABASE_HOST = \\\"https://b61c3b83bfe6.arangodb.cloud:8529\\\"\n",
        "DATABASE_USERNAME = \\\"demo\\\"\n",
        "DATABASE_PASSWORD = \\\"thisisademo\\\"\n",
        "DATABASE_NAME = \\\"DAC_devops_log\\\"\n",
        "\"\"\"\n",
        "with open(\".streamlit/secrets.toml\", \"w\") as file:\n",
        "    file.write(secrets)"
      ],
      "metadata": {
        "id": "9S5BNa8ezL5l"
      },
      "execution_count": 31,
      "outputs": []
    },
    {
      "cell_type": "code",
      "source": [
        "!echo \"Input password for website below $(wget -q -O - ipv4.icanhazip.com)\""
      ],
      "metadata": {
        "colab": {
          "base_uri": "https://localhost:8080/"
        },
        "id": "Q4DSEmRIysfI",
        "outputId": "3f1a272d-1b6b-4983-c563-a7ff51807e7a"
      },
      "execution_count": 27,
      "outputs": [
        {
          "output_type": "stream",
          "name": "stdout",
          "text": [
            "Input password for website below 34.125.184.119\n"
          ]
        }
      ]
    },
    {
      "cell_type": "code",
      "source": [
        "!streamlit run app.py & npx localtunnel --port 8501 --subdomain confluence-copilot"
      ],
      "metadata": {
        "colab": {
          "base_uri": "https://localhost:8080/"
        },
        "id": "naAC1Kw3x_YO",
        "outputId": "de8eea38-8a1e-4789-fc93-37f82962146d"
      },
      "execution_count": null,
      "outputs": [
        {
          "output_type": "stream",
          "name": "stdout",
          "text": [
            "\n",
            "Collecting usage statistics. To deactivate, set browser.gatherUsageStats to false.\n",
            "\u001b[0m\n",
            "\u001b[1G\u001b[0K⠙\u001b[1G\u001b[0K⠹\u001b[1G\u001b[0K⠸\u001b[1G\u001b[0K⠼\u001b[1G\u001b[0K⠴\u001b[1G\u001b[0K⠦\u001b[1G\u001b[0K\u001b[0m\n",
            "\u001b[34m\u001b[1m  You can now view your Streamlit app in your browser.\u001b[0m\n",
            "\u001b[0m\n",
            "\u001b[34m  Local URL: \u001b[0m\u001b[1mhttp://localhost:8501\u001b[0m\n",
            "\u001b[34m  Network URL: \u001b[0m\u001b[1mhttp://172.28.0.12:8501\u001b[0m\n",
            "\u001b[34m  External URL: \u001b[0m\u001b[1mhttp://34.125.184.119:8501\u001b[0m\n",
            "\u001b[0m\n",
            "your url is: https://confluence-copilot.loca.lt\n",
            "[16:42:24 +0000] [INFO]: NetworkX-cuGraph is available.\n",
            "[16:42:27 +0000] [INFO]: Graph 'bi_team_task_assignment' exists.\n",
            "[16:42:27 +0000] [INFO]: Default node type set to 'employee'\n",
            "2025-03-10 16:42:27.388 Uncaught app execution\n",
            "Traceback (most recent call last):\n",
            "  File \"/usr/local/lib/python3.11/dist-packages/streamlit/runtime/scriptrunner/exec_code.py\", line 121, in exec_func_with_error_handling\n",
            "    result = func()\n",
            "             ^^^^^^\n",
            "  File \"/usr/local/lib/python3.11/dist-packages/streamlit/runtime/scriptrunner/script_runner.py\", line 591, in code_to_exec\n",
            "    exec(code, module.__dict__)\n",
            "  File \"/content/arrango/src/ingest/app.py\", line 116, in <module>\n",
            "    task_assignment = db.get_task_assignment(team_tasks)\n",
            "                      ^^^^^^^^^^^^^^^^^^^^^^^^^^^^^^^^^^\n",
            "  File \"/content/arrango/src/ingest/database.py\", line 113, in get_task_assignment\n",
            "    return nxadb.DiGraph(name=f\"bi_team_task_assignment\")\n",
            "           ^^^^^^^^^^^^^^^^^^^^^^^^^^^^^^^^^^^^^^^^^^^^^^\n",
            "  File \"/usr/local/lib/python3.11/dist-packages/nx_arangodb/classes/digraph.py\", line 167, in __init__\n",
            "    super().__init__(\n",
            "  File \"/usr/local/lib/python3.11/dist-packages/nx_arangodb/classes/graph.py\", line 242, in __init__\n",
            "    super().__init__(*args, **kwargs)\n",
            "  File \"/usr/local/lib/python3.11/dist-packages/networkx/classes/digraph.py\", line 381, in __init__\n",
            "    self.graph.update(attr)\n",
            "  File \"/usr/local/lib/python3.11/dist-packages/nx_arangodb/classes/dict/graph.py\", line 230, in update\n",
            "    doc_update(self.db, self.graph_id, update_dict)\n",
            "  File \"/usr/local/lib/python3.11/dist-packages/nx_arangodb/classes/function.py\", line 626, in doc_update\n",
            "    db.update_document({**data, \"_id\": id}, keep_none=False, silent=True, **kwargs)\n",
            "  File \"/usr/local/lib/python3.11/dist-packages/arango/database.py\", line 1998, in update_document\n",
            "    return self._get_col_by_doc(document).update(\n",
            "           ^^^^^^^^^^^^^^^^^^^^^^^^^^^^^^^^^^^^^^\n",
            "  File \"/usr/local/lib/python3.11/dist-packages/arango/collection.py\", line 2793, in update\n",
            "    return self._execute(request, response_handler)\n",
            "           ^^^^^^^^^^^^^^^^^^^^^^^^^^^^^^^^^^^^^^^^\n",
            "  File \"/usr/local/lib/python3.11/dist-packages/arango/api.py\", line 74, in _execute\n",
            "    return self._executor.execute(request, response_handler)\n",
            "           ^^^^^^^^^^^^^^^^^^^^^^^^^^^^^^^^^^^^^^^^^^^^^^^^^\n",
            "  File \"/usr/local/lib/python3.11/dist-packages/arango/executor.py\", line 67, in execute\n",
            "    return response_handler(resp)\n",
            "           ^^^^^^^^^^^^^^^^^^^^^^\n",
            "  File \"/usr/local/lib/python3.11/dist-packages/arango/collection.py\", line 2785, in response_handler\n",
            "    raise DocumentUpdateError(resp, request)\n",
            "arango.exceptions.DocumentUpdateError: [HTTP 403][ERR 1004] read only: _graphs [write]\n"
          ]
        }
      ]
    }
  ],
  "metadata": {
    "language_info": {
      "name": "python"
    },
    "colab": {
      "provenance": [],
      "gpuType": "T4"
    },
    "accelerator": "GPU",
    "kernelspec": {
      "name": "python3",
      "display_name": "Python 3"
    }
  },
  "nbformat": 4,
  "nbformat_minor": 0
}