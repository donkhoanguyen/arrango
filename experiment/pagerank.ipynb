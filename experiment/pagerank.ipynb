{
 "cells": [
  {
   "cell_type": "code",
   "execution_count": 26,
   "metadata": {},
   "outputs": [
    {
     "name": "stdout",
     "output_type": "stream",
     "text": [
      "Requirement already satisfied: python-arango in /Users/khoadangnguyen/.pyenv/versions/3.12.0/lib/python3.12/site-packages (8.1.4)\n",
      "Requirement already satisfied: urllib3>=1.26.0 in /Users/khoadangnguyen/.pyenv/versions/3.12.0/lib/python3.12/site-packages (from python-arango) (2.2.3)\n",
      "Requirement already satisfied: requests in /Users/khoadangnguyen/.pyenv/versions/3.12.0/lib/python3.12/site-packages (from python-arango) (2.32.3)\n",
      "Requirement already satisfied: requests_toolbelt in /Users/khoadangnguyen/.pyenv/versions/3.12.0/lib/python3.12/site-packages (from python-arango) (1.0.0)\n",
      "Requirement already satisfied: PyJWT in /Users/khoadangnguyen/.pyenv/versions/3.12.0/lib/python3.12/site-packages (from python-arango) (2.10.1)\n",
      "Requirement already satisfied: setuptools>=42 in /Users/khoadangnguyen/.pyenv/versions/3.12.0/lib/python3.12/site-packages (from python-arango) (75.3.0)\n",
      "Requirement already satisfied: importlib_metadata>=4.7.1 in /Users/khoadangnguyen/.pyenv/versions/3.12.0/lib/python3.12/site-packages (from python-arango) (8.6.1)\n",
      "Requirement already satisfied: packaging>=23.1 in /Users/khoadangnguyen/.pyenv/versions/3.12.0/lib/python3.12/site-packages (from python-arango) (24.1)\n",
      "Requirement already satisfied: zipp>=3.20 in /Users/khoadangnguyen/.pyenv/versions/3.12.0/lib/python3.12/site-packages (from importlib_metadata>=4.7.1->python-arango) (3.21.0)\n",
      "Requirement already satisfied: charset-normalizer<4,>=2 in /Users/khoadangnguyen/.pyenv/versions/3.12.0/lib/python3.12/site-packages (from requests->python-arango) (3.4.0)\n",
      "Requirement already satisfied: idna<4,>=2.5 in /Users/khoadangnguyen/.pyenv/versions/3.12.0/lib/python3.12/site-packages (from requests->python-arango) (3.10)\n",
      "Requirement already satisfied: certifi>=2017.4.17 in /Users/khoadangnguyen/.pyenv/versions/3.12.0/lib/python3.12/site-packages (from requests->python-arango) (2024.8.30)\n"
     ]
    }
   ],
   "source": [
    "!pip install python-arango\n"
   ]
  },
  {
   "cell_type": "code",
   "execution_count": 2,
   "metadata": {},
   "outputs": [
    {
     "name": "stdout",
     "output_type": "stream",
     "text": [
      "zsh:1: command not found: nvidia-smi\n",
      "zsh:1: command not found: nvcc\n"
     ]
    }
   ],
   "source": [
    "!nvidia-smi\n",
    "!nvcc --version"
   ]
  },
  {
   "cell_type": "code",
   "execution_count": 1,
   "metadata": {},
   "outputs": [
    {
     "name": "stderr",
     "output_type": "stream",
     "text": [
      "[21:47:06 -0500] [INFO]: NetworkX-cuGraph is unavailable: No module named 'cupy'.\n"
     ]
    }
   ],
   "source": [
    "import networkx as nx\n",
    "import nx_arangodb as nxadb\n",
    "\n",
    "from arango import ArangoClient\n",
    "\n",
    "import pandas as pd\n",
    "import numpy as np\n",
    "import networkx as nx\n",
    "import matplotlib.pyplot as plt\n",
    "from random import randint\n",
    "import re\n",
    "\n",
    "from langgraph.prebuilt import create_react_agent\n",
    "from langgraph.checkpoint.memory import MemorySaver\n",
    "from langchain_openai import ChatOpenAI\n",
    "from langchain_community.graphs import ArangoGraph\n",
    "from langchain_community.chains.graph_qa.arangodb import ArangoGraphQAChain\n",
    "from langchain_core.tools import tool"
   ]
  },
  {
   "cell_type": "code",
   "execution_count": 39,
   "metadata": {},
   "outputs": [
    {
     "name": "stderr",
     "output_type": "stream",
     "text": [
      "[22:09:18 -0500] [INFO]: Graph 'sprint1' exists.\n",
      "[22:09:18 -0500] [INFO]: Default node type set to 'employee'\n"
     ]
    }
   ],
   "source": [
    "import os\n",
    "import networkx as nx\n",
    "import nx_arangodb as nxadb\n",
    "\n",
    "os.environ[\"DATABASE_HOST\"] = \"https://b61c3b83bfe6.arangodb.cloud:8529\"\n",
    "os.environ[\"DATABASE_USERNAME\"] = \"root\"\n",
    "os.environ[\"DATABASE_PASSWORD\"] = \"RHr0KzkRUVlp61IisH8G\"\n",
    "os.environ[\"DATABASE_NAME\"] = \"DAC_devops_log\"\n",
    "\n",
    "G = nxadb.Graph(name=\"sprint1\")"
   ]
  },
  {
   "cell_type": "code",
   "execution_count": 40,
   "metadata": {},
   "outputs": [
    {
     "name": "stdout",
     "output_type": "stream",
     "text": [
      "Graph named 'sprint1' with 126 nodes and 465 edges\n"
     ]
    }
   ],
   "source": [
    "print(G)"
   ]
  },
  {
   "cell_type": "code",
   "execution_count": 44,
   "metadata": {},
   "outputs": [
    {
     "data": {
      "text/plain": [
       "NodeDataView({'task/TSK-E6CFDD02': None, 'employee/8': None, 'employee/19': None, 'task/TSK-46138F7D': None, 'task/TSK-E73A7D25': None, 'task/TSK-FD3B1EFF': None, 'task/TSK-763CE1C3': None, 'task/TSK-59CE546C': None, 'task/TSK-2970AC03': None, 'task/TSK-CAFF3B09': None, 'task/TSK-89806FDF': None, 'employee/9': None, 'task/TSK-E2E87C0B': None, 'task/TSK-85D5D00C': None, 'task/TSK-0AEE35B2': None, 'task/TSK-98C9448B': None, 'task/TSK-DA566BCB': None, 'task/TSK-A8A24727': None, 'task/TSK-FBD87AD9': None, 'employee/32': None, 'employee/24': None, 'employee/7': None, 'employee/10': None, 'employee/15': None, 'task/TSK-84305F2F': None, 'task/TSK-41ECEB44': None, 'task/TSK-0115FED3': None, 'task/TSK-1A209469': None, 'task/TSK-3BA37747': None, 'task/TSK-B3B5A8F6': None, 'task/TSK-B03EF789': None, 'task/TSK-BBA87B09': None, 'employee/31': None, 'task/TSK-977CB080': None, 'employee/27': None, 'task/TSK-C440EB07': None, 'task/TSK-3941DB43': None, 'task/TSK-AE8CFDEC': None, 'task/TSK-C4D5CB75': None, 'employee/13': None, 'task/TSK-2F459E7F': None, 'employee/17': None, 'task/TSK-C891B895': None, 'task/TSK-A6994DD6': None, 'task/TSK-A3E27D20': None, 'task/TSK-2179FF75': None, 'task/TSK-1FE396B7': None, 'employee/14': None, 'task/TSK-D5031D4A': None, 'employee/20': None, 'task/TSK-CB292DC1': None, 'employee/16': None, 'employee/6': None, 'task/TSK-E2842052': None, 'task/TSK-514F6016': None, 'task/TSK-FBED5511': None, 'task/TSK-FAAA4D51': None, 'employee/26': None, 'employee/22': None, 'employee/12': None, 'task/TSK-DC3ED3E2': None, 'task/TSK-01D25D85': None, 'employee/30': None, 'employee/21': None, 'task/TSK-54F9521F': None, 'task/TSK-0E209EFC': None, 'employee/33': None, 'employee/3': None, 'task/TSK-CB0C0404': None, 'task/TSK-1B43CB90': None, 'task/TSK-EBA1C369': None, 'employee/35': None, 'task/TSK-991E6E11': None, 'task/TSK-5A434477': None, 'task/TSK-89754CBF': None, 'task/TSK-19A45EE8': None, 'task/TSK-DFB54467': None, 'task/TSK-93F18D57': None, 'task/TSK-3D21853C': None, 'employee/11': None, 'task/TSK-F567DBE1': None, 'task/TSK-0985DBA9': None, 'task/TSK-A0500206': None, 'task/TSK-C2D38D23': None, 'employee/25': None, 'task/TSK-F7E19B69': None, 'task/TSK-4A3587C9': None, 'task/TSK-91119F5B': None, 'task/TSK-7E9F09A9': None, 'task/TSK-736E3B28': None, 'task/TSK-39885F7F': None, 'task/TSK-B600DD62': None, 'employee/1': None, 'task/TSK-8CD3CA3E': None, 'task/TSK-FEA63216': None, 'employee/28': None, 'employee/4': None, 'task/TSK-FAC99DF1': None, 'employee/23': None, 'task/TSK-89BBB564': None, 'task/TSK-0885F3E9': None, 'task/TSK-AAF06E6A': None, 'task/TSK-795E9201': None, 'task/TSK-10847035': None, 'task/TSK-255E6310': None, 'employee/36': None, 'task/TSK-42E44473': None, 'task/TSK-5D974201': None, 'employee/18': None, 'employee/2': None, 'task/TSK-4D677758': None, 'task/TSK-5C2187CF': None, 'task/TSK-BE9555AC': None, 'task/TSK-2B1FAB57': None, 'task/TSK-F51C17B5': None, 'employee/29': None, 'task/TSK-BE4188D4': None, 'task/TSK-30DBEA24': None, 'task/TSK-A0CCA417': None, 'task/TSK-29CE08AD': None, 'task/TSK-983C30DC': None, 'employee/5': None, 'employee/34': None, 'task/TSK-1AA8BEAF': None, 'task/TSK-427652F3': None, 'task/TSK-FB3E490E': None}, data=107)"
      ]
     },
     "execution_count": 44,
     "metadata": {},
     "output_type": "execute_result"
    }
   ],
   "source": [
    "G.nodes(107)"
   ]
  },
  {
   "cell_type": "code",
   "execution_count": 49,
   "metadata": {},
   "outputs": [
    {
     "data": {
      "text/plain": [
       "NodeView(('task/TSK-E6CFDD02', 'employee/8', 'employee/19', 'task/TSK-46138F7D', 'task/TSK-E73A7D25', 'task/TSK-FD3B1EFF', 'task/TSK-763CE1C3', 'task/TSK-59CE546C', 'task/TSK-2970AC03', 'task/TSK-CAFF3B09', 'task/TSK-89806FDF', 'employee/9', 'task/TSK-E2E87C0B', 'task/TSK-85D5D00C', 'task/TSK-0AEE35B2', 'task/TSK-98C9448B', 'task/TSK-DA566BCB', 'task/TSK-A8A24727', 'task/TSK-FBD87AD9', 'employee/32', 'employee/24', 'employee/7', 'employee/10', 'employee/15', 'task/TSK-84305F2F', 'task/TSK-41ECEB44', 'task/TSK-0115FED3', 'task/TSK-1A209469', 'task/TSK-3BA37747', 'task/TSK-B3B5A8F6', 'task/TSK-B03EF789', 'task/TSK-BBA87B09', 'employee/31', 'task/TSK-977CB080', 'employee/27', 'task/TSK-C440EB07', 'task/TSK-3941DB43', 'task/TSK-AE8CFDEC', 'task/TSK-C4D5CB75', 'employee/13', 'task/TSK-2F459E7F', 'employee/17', 'task/TSK-C891B895', 'task/TSK-A6994DD6', 'task/TSK-A3E27D20', 'task/TSK-2179FF75', 'task/TSK-1FE396B7', 'employee/14', 'task/TSK-D5031D4A', 'employee/20', 'task/TSK-CB292DC1', 'employee/16', 'employee/6', 'task/TSK-E2842052', 'task/TSK-514F6016', 'task/TSK-FBED5511', 'task/TSK-FAAA4D51', 'employee/26', 'employee/22', 'employee/12', 'task/TSK-DC3ED3E2', 'task/TSK-01D25D85', 'employee/30', 'employee/21', 'task/TSK-54F9521F', 'task/TSK-0E209EFC', 'employee/33', 'employee/3', 'task/TSK-CB0C0404', 'task/TSK-1B43CB90', 'task/TSK-EBA1C369', 'employee/35', 'task/TSK-991E6E11', 'task/TSK-5A434477', 'task/TSK-89754CBF', 'task/TSK-19A45EE8', 'task/TSK-DFB54467', 'task/TSK-93F18D57', 'task/TSK-3D21853C', 'employee/11', 'task/TSK-F567DBE1', 'task/TSK-0985DBA9', 'task/TSK-A0500206', 'task/TSK-C2D38D23', 'employee/25', 'task/TSK-F7E19B69', 'task/TSK-4A3587C9', 'task/TSK-91119F5B', 'task/TSK-7E9F09A9', 'task/TSK-736E3B28', 'task/TSK-39885F7F', 'task/TSK-B600DD62', 'employee/1', 'task/TSK-8CD3CA3E', 'task/TSK-FEA63216', 'employee/28', 'employee/4', 'task/TSK-FAC99DF1', 'employee/23', 'task/TSK-89BBB564', 'task/TSK-0885F3E9', 'task/TSK-AAF06E6A', 'task/TSK-795E9201', 'task/TSK-10847035', 'task/TSK-255E6310', 'employee/36', 'task/TSK-42E44473', 'task/TSK-5D974201', 'employee/18', 'employee/2', 'task/TSK-4D677758', 'task/TSK-5C2187CF', 'task/TSK-BE9555AC', 'task/TSK-2B1FAB57', 'task/TSK-F51C17B5', 'employee/29', 'task/TSK-BE4188D4', 'task/TSK-30DBEA24', 'task/TSK-A0CCA417', 'task/TSK-29CE08AD', 'task/TSK-983C30DC', 'employee/5', 'employee/34', 'task/TSK-1AA8BEAF', 'task/TSK-427652F3', 'task/TSK-FB3E490E'))"
      ]
     },
     "execution_count": 49,
     "metadata": {},
     "output_type": "execute_result"
    }
   ],
   "source": [
    "G.nodes()"
   ]
  },
  {
   "cell_type": "code",
   "execution_count": 50,
   "metadata": {},
   "outputs": [
    {
     "name": "stdout",
     "output_type": "stream",
     "text": [
      "Total number of task nodes: 90\n",
      "First 5 task nodes: ['task/TSK-E6CFDD02', 'task/TSK-46138F7D', 'task/TSK-E73A7D25', 'task/TSK-FD3B1EFF', 'task/TSK-763CE1C3']\n"
     ]
    }
   ],
   "source": [
    "task_nodes = [node for node in G.nodes() if node.startswith('task/')]\n",
    "print(f\"Total number of task nodes: {len(task_nodes)}\")\n",
    "print(\"First 5 task nodes:\", task_nodes[:5])"
   ]
  },
  {
   "cell_type": "code",
   "execution_count": 56,
   "metadata": {},
   "outputs": [
    {
     "name": "stdout",
     "output_type": "stream",
     "text": [
      "Total number of nodes: 90\n",
      "First 5 nodes: ['task/TSK-E6CFDD02', 'task/TSK-46138F7D', 'task/TSK-E73A7D25', 'task/TSK-FD3B1EFF', 'task/TSK-763CE1C3']\n"
     ]
    }
   ],
   "source": [
    "# Print total number of nodes and first few examples\n",
    "print(f\"Total number of nodes: {len(task_nodes)}\")\n",
    "print(\"First 5 nodes:\", task_nodes[:5])"
   ]
  },
  {
   "cell_type": "code",
   "execution_count": 53,
   "metadata": {},
   "outputs": [
    {
     "name": "stderr",
     "output_type": "stream",
     "text": [
      "[14:27:26 -0500] [INFO]: Graph 'sprint1' load took 2.724703073501587s\n"
     ]
    }
   ],
   "source": [
    "pos = nx.spring_layout(G) "
   ]
  },
  {
   "cell_type": "code",
   "execution_count": null,
   "metadata": {},
   "outputs": [
    {
     "ename": "NotImplementedError",
     "evalue": "Subgraphing an ArangoDB Graph is not yet implemented",
     "output_type": "error",
     "traceback": [
      "\u001b[0;31m---------------------------------------------------------------------------\u001b[0m",
      "\u001b[0;31mNotImplementedError\u001b[0m                       Traceback (most recent call last)",
      "Cell \u001b[0;32mIn[57], line 1\u001b[0m\n\u001b[0;32m----> 1\u001b[0m k \u001b[38;5;241m=\u001b[39m \u001b[43mG\u001b[49m\u001b[38;5;241;43m.\u001b[39;49m\u001b[43msubgraph\u001b[49m\u001b[43m(\u001b[49m\u001b[43mtask_nodes\u001b[49m\u001b[43m)\u001b[49m  \n",
      "File \u001b[0;32m~/.pyenv/versions/3.12.0/lib/python3.12/site-packages/nx_arangodb/classes/graph.py:683\u001b[0m, in \u001b[0;36mGraph.subgraph_override\u001b[0;34m(self, nbunch)\u001b[0m\n\u001b[1;32m    681\u001b[0m \u001b[38;5;28;01mif\u001b[39;00m \u001b[38;5;28mself\u001b[39m\u001b[38;5;241m.\u001b[39mgraph_exists_in_db:\n\u001b[1;32m    682\u001b[0m     m \u001b[38;5;241m=\u001b[39m \u001b[38;5;124m\"\u001b[39m\u001b[38;5;124mSubgraphing an ArangoDB Graph is not yet implemented\u001b[39m\u001b[38;5;124m\"\u001b[39m\n\u001b[0;32m--> 683\u001b[0m     \u001b[38;5;28;01mraise\u001b[39;00m \u001b[38;5;167;01mNotImplementedError\u001b[39;00m(m)\n\u001b[1;32m    685\u001b[0m \u001b[38;5;28;01mreturn\u001b[39;00m \u001b[38;5;28msuper\u001b[39m()\u001b[38;5;241m.\u001b[39msubgraph(nbunch)\n",
      "\u001b[0;31mNotImplementedError\u001b[0m: Subgraphing an ArangoDB Graph is not yet implemented"
     ]
    }
   ],
   "source": [
    "k = G.subgraph(task_nodes)"
   ]
  },
  {
   "cell_type": "code",
   "execution_count": 51,
   "metadata": {},
   "outputs": [
    {
     "ename": "AttributeError",
     "evalue": "'list' object has no attribute 'nbunch_iter'",
     "output_type": "error",
     "traceback": [
      "\u001b[0;31m---------------------------------------------------------------------------\u001b[0m",
      "\u001b[0;31mAttributeError\u001b[0m                            Traceback (most recent call last)",
      "Cell \u001b[0;32mIn[51], line 2\u001b[0m\n\u001b[1;32m      1\u001b[0m task_nodes \u001b[38;5;241m=\u001b[39m [node \u001b[38;5;28;01mfor\u001b[39;00m node \u001b[38;5;129;01min\u001b[39;00m G\u001b[38;5;241m.\u001b[39mnodes() \u001b[38;5;28;01mif\u001b[39;00m node\u001b[38;5;241m.\u001b[39mstartswith(\u001b[38;5;124m'\u001b[39m\u001b[38;5;124mtask/\u001b[39m\u001b[38;5;124m'\u001b[39m)]\n\u001b[0;32m----> 2\u001b[0m result \u001b[38;5;241m=\u001b[39m \u001b[43mnx\u001b[49m\u001b[38;5;241;43m.\u001b[39;49m\u001b[43mpagerank\u001b[49m\u001b[43m(\u001b[49m\u001b[43mtask_nodes\u001b[49m\u001b[43m,\u001b[49m\u001b[43m \u001b[49m\u001b[43malpha\u001b[49m\u001b[38;5;241;43m=\u001b[39;49m\u001b[38;5;241;43m0.9\u001b[39;49m\u001b[43m)\u001b[49m\n",
      "File \u001b[0;32m<class 'networkx.utils.decorators.argmap'> compilation 8:3\u001b[0m, in \u001b[0;36margmap_pagerank_5\u001b[0;34m(G, alpha, personalization, max_iter, tol, nstart, weight, dangling, backend, **backend_kwargs)\u001b[0m\n\u001b[1;32m      1\u001b[0m \u001b[38;5;28;01mimport\u001b[39;00m \u001b[38;5;21;01mbz2\u001b[39;00m\n\u001b[1;32m      2\u001b[0m \u001b[38;5;28;01mimport\u001b[39;00m \u001b[38;5;21;01mcollections\u001b[39;00m\n\u001b[0;32m----> 3\u001b[0m \u001b[38;5;28;01mimport\u001b[39;00m \u001b[38;5;21;01mgzip\u001b[39;00m\n\u001b[1;32m      4\u001b[0m \u001b[38;5;28;01mimport\u001b[39;00m \u001b[38;5;21;01minspect\u001b[39;00m\n\u001b[1;32m      5\u001b[0m \u001b[38;5;28;01mimport\u001b[39;00m \u001b[38;5;21;01mitertools\u001b[39;00m\n",
      "File \u001b[0;32m~/.pyenv/versions/3.12.0/lib/python3.12/site-packages/networkx/utils/backends.py:1336\u001b[0m, in \u001b[0;36m_dispatchable.__call__\u001b[0;34m(self, backend, *args, **kwargs)\u001b[0m\n\u001b[1;32m   1334\u001b[0m \u001b[38;5;28;01mif\u001b[39;00m \u001b[38;5;129;01mnot\u001b[39;00m graph_backend_names \u001b[38;5;129;01mor\u001b[39;00m graph_backend_names \u001b[38;5;241m==\u001b[39m {backend_name}:\n\u001b[1;32m   1335\u001b[0m     \u001b[38;5;28;01mif\u001b[39;00m \u001b[38;5;28mself\u001b[39m\u001b[38;5;241m.\u001b[39m_can_backend_run(backend_name, args, kwargs):\n\u001b[0;32m-> 1336\u001b[0m         \u001b[38;5;28;01mreturn\u001b[39;00m \u001b[38;5;28;43mself\u001b[39;49m\u001b[38;5;241;43m.\u001b[39;49m\u001b[43m_call_with_backend\u001b[49m\u001b[43m(\u001b[49m\u001b[43mbackend_name\u001b[49m\u001b[43m,\u001b[49m\u001b[43m \u001b[49m\u001b[43margs\u001b[49m\u001b[43m,\u001b[49m\u001b[43m \u001b[49m\u001b[43mkwargs\u001b[49m\u001b[43m)\u001b[49m\n\u001b[1;32m   1337\u001b[0m \u001b[38;5;28;01melif\u001b[39;00m \u001b[38;5;28mself\u001b[39m\u001b[38;5;241m.\u001b[39m_can_convert(\n\u001b[1;32m   1338\u001b[0m     backend_name, graph_backend_names\n\u001b[1;32m   1339\u001b[0m ) \u001b[38;5;129;01mand\u001b[39;00m \u001b[38;5;28mself\u001b[39m\u001b[38;5;241m.\u001b[39m_can_backend_run(backend_name, args, kwargs):\n\u001b[1;32m   1340\u001b[0m     \u001b[38;5;28;01mif\u001b[39;00m \u001b[38;5;28mself\u001b[39m\u001b[38;5;241m.\u001b[39m_should_backend_run(backend_name, args, kwargs):\n",
      "File \u001b[0;32m~/.pyenv/versions/3.12.0/lib/python3.12/site-packages/networkx/utils/backends.py:1839\u001b[0m, in \u001b[0;36m_dispatchable._call_with_backend\u001b[0;34m(self, backend_name, args, kwargs, extra_message)\u001b[0m\n\u001b[1;32m   1837\u001b[0m \u001b[38;5;250m\u001b[39m\u001b[38;5;124;03m\"\"\"Call this dispatchable function with a backend without converting inputs.\"\"\"\u001b[39;00m\n\u001b[1;32m   1838\u001b[0m \u001b[38;5;28;01mif\u001b[39;00m backend_name \u001b[38;5;241m==\u001b[39m \u001b[38;5;124m\"\u001b[39m\u001b[38;5;124mnetworkx\u001b[39m\u001b[38;5;124m\"\u001b[39m:\n\u001b[0;32m-> 1839\u001b[0m     \u001b[38;5;28;01mreturn\u001b[39;00m \u001b[38;5;28;43mself\u001b[39;49m\u001b[38;5;241;43m.\u001b[39;49m\u001b[43morig_func\u001b[49m\u001b[43m(\u001b[49m\u001b[38;5;241;43m*\u001b[39;49m\u001b[43margs\u001b[49m\u001b[43m,\u001b[49m\u001b[43m \u001b[49m\u001b[38;5;241;43m*\u001b[39;49m\u001b[38;5;241;43m*\u001b[39;49m\u001b[43mkwargs\u001b[49m\u001b[43m)\u001b[49m\n\u001b[1;32m   1840\u001b[0m backend \u001b[38;5;241m=\u001b[39m _load_backend(backend_name)\n\u001b[1;32m   1841\u001b[0m _logger\u001b[38;5;241m.\u001b[39mdebug(\n\u001b[1;32m   1842\u001b[0m     \u001b[38;5;124m\"\u001b[39m\u001b[38;5;124mUsing backend \u001b[39m\u001b[38;5;124m'\u001b[39m\u001b[38;5;132;01m%s\u001b[39;00m\u001b[38;5;124m'\u001b[39m\u001b[38;5;124m for call to `\u001b[39m\u001b[38;5;132;01m%s\u001b[39;00m\u001b[38;5;124m'\u001b[39m\u001b[38;5;124m with arguments: \u001b[39m\u001b[38;5;132;01m%s\u001b[39;00m\u001b[38;5;124m\"\u001b[39m,\n\u001b[1;32m   1843\u001b[0m     backend_name,\n\u001b[1;32m   1844\u001b[0m     \u001b[38;5;28mself\u001b[39m\u001b[38;5;241m.\u001b[39mname,\n\u001b[1;32m   1845\u001b[0m     _LazyArgsRepr(\u001b[38;5;28mself\u001b[39m, args, kwargs),\n\u001b[1;32m   1846\u001b[0m )\n",
      "File \u001b[0;32m~/.pyenv/versions/3.12.0/lib/python3.12/site-packages/networkx/algorithms/link_analysis/pagerank_alg.py:111\u001b[0m, in \u001b[0;36mpagerank\u001b[0;34m(G, alpha, personalization, max_iter, tol, nstart, weight, dangling)\u001b[0m\n\u001b[1;32m     10\u001b[0m \u001b[38;5;129m@nx\u001b[39m\u001b[38;5;241m.\u001b[39m_dispatchable(edge_attrs\u001b[38;5;241m=\u001b[39m\u001b[38;5;124m\"\u001b[39m\u001b[38;5;124mweight\u001b[39m\u001b[38;5;124m\"\u001b[39m)\n\u001b[1;32m     11\u001b[0m \u001b[38;5;28;01mdef\u001b[39;00m \u001b[38;5;21mpagerank\u001b[39m(\n\u001b[1;32m     12\u001b[0m     G,\n\u001b[0;32m   (...)\u001b[0m\n\u001b[1;32m     19\u001b[0m     dangling\u001b[38;5;241m=\u001b[39m\u001b[38;5;28;01mNone\u001b[39;00m,\n\u001b[1;32m     20\u001b[0m ):\n\u001b[1;32m     21\u001b[0m \u001b[38;5;250m    \u001b[39m\u001b[38;5;124;03m\"\"\"Returns the PageRank of the nodes in the graph.\u001b[39;00m\n\u001b[1;32m     22\u001b[0m \n\u001b[1;32m     23\u001b[0m \u001b[38;5;124;03m    PageRank computes a ranking of the nodes in the graph G based on\u001b[39;00m\n\u001b[0;32m   (...)\u001b[0m\n\u001b[1;32m    109\u001b[0m \n\u001b[1;32m    110\u001b[0m \u001b[38;5;124;03m    \"\"\"\u001b[39;00m\n\u001b[0;32m--> 111\u001b[0m     \u001b[38;5;28;01mreturn\u001b[39;00m \u001b[43m_pagerank_scipy\u001b[49m\u001b[43m(\u001b[49m\n\u001b[1;32m    112\u001b[0m \u001b[43m        \u001b[49m\u001b[43mG\u001b[49m\u001b[43m,\u001b[49m\u001b[43m \u001b[49m\u001b[43malpha\u001b[49m\u001b[43m,\u001b[49m\u001b[43m \u001b[49m\u001b[43mpersonalization\u001b[49m\u001b[43m,\u001b[49m\u001b[43m \u001b[49m\u001b[43mmax_iter\u001b[49m\u001b[43m,\u001b[49m\u001b[43m \u001b[49m\u001b[43mtol\u001b[49m\u001b[43m,\u001b[49m\u001b[43m \u001b[49m\u001b[43mnstart\u001b[49m\u001b[43m,\u001b[49m\u001b[43m \u001b[49m\u001b[43mweight\u001b[49m\u001b[43m,\u001b[49m\u001b[43m \u001b[49m\u001b[43mdangling\u001b[49m\n\u001b[1;32m    113\u001b[0m \u001b[43m    \u001b[49m\u001b[43m)\u001b[49m\n",
      "File \u001b[0;32m~/.pyenv/versions/3.12.0/lib/python3.12/site-packages/networkx/algorithms/link_analysis/pagerank_alg.py:461\u001b[0m, in \u001b[0;36m_pagerank_scipy\u001b[0;34m(G, alpha, personalization, max_iter, tol, nstart, weight, dangling)\u001b[0m\n\u001b[1;32m    458\u001b[0m     \u001b[38;5;28;01mreturn\u001b[39;00m {}\n\u001b[1;32m    460\u001b[0m nodelist \u001b[38;5;241m=\u001b[39m \u001b[38;5;28mlist\u001b[39m(G)\n\u001b[0;32m--> 461\u001b[0m A \u001b[38;5;241m=\u001b[39m \u001b[43mnx\u001b[49m\u001b[38;5;241;43m.\u001b[39;49m\u001b[43mto_scipy_sparse_array\u001b[49m\u001b[43m(\u001b[49m\u001b[43mG\u001b[49m\u001b[43m,\u001b[49m\u001b[43m \u001b[49m\u001b[43mnodelist\u001b[49m\u001b[38;5;241;43m=\u001b[39;49m\u001b[43mnodelist\u001b[49m\u001b[43m,\u001b[49m\u001b[43m \u001b[49m\u001b[43mweight\u001b[49m\u001b[38;5;241;43m=\u001b[39;49m\u001b[43mweight\u001b[49m\u001b[43m,\u001b[49m\u001b[43m \u001b[49m\u001b[43mdtype\u001b[49m\u001b[38;5;241;43m=\u001b[39;49m\u001b[38;5;28;43mfloat\u001b[39;49m\u001b[43m)\u001b[49m\n\u001b[1;32m    462\u001b[0m S \u001b[38;5;241m=\u001b[39m A\u001b[38;5;241m.\u001b[39msum(axis\u001b[38;5;241m=\u001b[39m\u001b[38;5;241m1\u001b[39m)\n\u001b[1;32m    463\u001b[0m S[S \u001b[38;5;241m!=\u001b[39m \u001b[38;5;241m0\u001b[39m] \u001b[38;5;241m=\u001b[39m \u001b[38;5;241m1.0\u001b[39m \u001b[38;5;241m/\u001b[39m S[S \u001b[38;5;241m!=\u001b[39m \u001b[38;5;241m0\u001b[39m]\n",
      "File \u001b[0;32m<class 'networkx.utils.decorators.argmap'> compilation 12:3\u001b[0m, in \u001b[0;36margmap_to_scipy_sparse_array_9\u001b[0;34m(G, nodelist, dtype, weight, format, backend, **backend_kwargs)\u001b[0m\n\u001b[1;32m      1\u001b[0m \u001b[38;5;28;01mimport\u001b[39;00m \u001b[38;5;21;01mbz2\u001b[39;00m\n\u001b[1;32m      2\u001b[0m \u001b[38;5;28;01mimport\u001b[39;00m \u001b[38;5;21;01mcollections\u001b[39;00m\n\u001b[0;32m----> 3\u001b[0m \u001b[38;5;28;01mimport\u001b[39;00m \u001b[38;5;21;01mgzip\u001b[39;00m\n\u001b[1;32m      4\u001b[0m \u001b[38;5;28;01mimport\u001b[39;00m \u001b[38;5;21;01minspect\u001b[39;00m\n\u001b[1;32m      5\u001b[0m \u001b[38;5;28;01mimport\u001b[39;00m \u001b[38;5;21;01mitertools\u001b[39;00m\n",
      "File \u001b[0;32m~/.pyenv/versions/3.12.0/lib/python3.12/site-packages/networkx/utils/backends.py:1336\u001b[0m, in \u001b[0;36m_dispatchable.__call__\u001b[0;34m(self, backend, *args, **kwargs)\u001b[0m\n\u001b[1;32m   1334\u001b[0m \u001b[38;5;28;01mif\u001b[39;00m \u001b[38;5;129;01mnot\u001b[39;00m graph_backend_names \u001b[38;5;129;01mor\u001b[39;00m graph_backend_names \u001b[38;5;241m==\u001b[39m {backend_name}:\n\u001b[1;32m   1335\u001b[0m     \u001b[38;5;28;01mif\u001b[39;00m \u001b[38;5;28mself\u001b[39m\u001b[38;5;241m.\u001b[39m_can_backend_run(backend_name, args, kwargs):\n\u001b[0;32m-> 1336\u001b[0m         \u001b[38;5;28;01mreturn\u001b[39;00m \u001b[38;5;28;43mself\u001b[39;49m\u001b[38;5;241;43m.\u001b[39;49m\u001b[43m_call_with_backend\u001b[49m\u001b[43m(\u001b[49m\u001b[43mbackend_name\u001b[49m\u001b[43m,\u001b[49m\u001b[43m \u001b[49m\u001b[43margs\u001b[49m\u001b[43m,\u001b[49m\u001b[43m \u001b[49m\u001b[43mkwargs\u001b[49m\u001b[43m)\u001b[49m\n\u001b[1;32m   1337\u001b[0m \u001b[38;5;28;01melif\u001b[39;00m \u001b[38;5;28mself\u001b[39m\u001b[38;5;241m.\u001b[39m_can_convert(\n\u001b[1;32m   1338\u001b[0m     backend_name, graph_backend_names\n\u001b[1;32m   1339\u001b[0m ) \u001b[38;5;129;01mand\u001b[39;00m \u001b[38;5;28mself\u001b[39m\u001b[38;5;241m.\u001b[39m_can_backend_run(backend_name, args, kwargs):\n\u001b[1;32m   1340\u001b[0m     \u001b[38;5;28;01mif\u001b[39;00m \u001b[38;5;28mself\u001b[39m\u001b[38;5;241m.\u001b[39m_should_backend_run(backend_name, args, kwargs):\n",
      "File \u001b[0;32m~/.pyenv/versions/3.12.0/lib/python3.12/site-packages/networkx/utils/backends.py:1839\u001b[0m, in \u001b[0;36m_dispatchable._call_with_backend\u001b[0;34m(self, backend_name, args, kwargs, extra_message)\u001b[0m\n\u001b[1;32m   1837\u001b[0m \u001b[38;5;250m\u001b[39m\u001b[38;5;124;03m\"\"\"Call this dispatchable function with a backend without converting inputs.\"\"\"\u001b[39;00m\n\u001b[1;32m   1838\u001b[0m \u001b[38;5;28;01mif\u001b[39;00m backend_name \u001b[38;5;241m==\u001b[39m \u001b[38;5;124m\"\u001b[39m\u001b[38;5;124mnetworkx\u001b[39m\u001b[38;5;124m\"\u001b[39m:\n\u001b[0;32m-> 1839\u001b[0m     \u001b[38;5;28;01mreturn\u001b[39;00m \u001b[38;5;28;43mself\u001b[39;49m\u001b[38;5;241;43m.\u001b[39;49m\u001b[43morig_func\u001b[49m\u001b[43m(\u001b[49m\u001b[38;5;241;43m*\u001b[39;49m\u001b[43margs\u001b[49m\u001b[43m,\u001b[49m\u001b[43m \u001b[49m\u001b[38;5;241;43m*\u001b[39;49m\u001b[38;5;241;43m*\u001b[39;49m\u001b[43mkwargs\u001b[49m\u001b[43m)\u001b[49m\n\u001b[1;32m   1840\u001b[0m backend \u001b[38;5;241m=\u001b[39m _load_backend(backend_name)\n\u001b[1;32m   1841\u001b[0m _logger\u001b[38;5;241m.\u001b[39mdebug(\n\u001b[1;32m   1842\u001b[0m     \u001b[38;5;124m\"\u001b[39m\u001b[38;5;124mUsing backend \u001b[39m\u001b[38;5;124m'\u001b[39m\u001b[38;5;132;01m%s\u001b[39;00m\u001b[38;5;124m'\u001b[39m\u001b[38;5;124m for call to `\u001b[39m\u001b[38;5;132;01m%s\u001b[39;00m\u001b[38;5;124m'\u001b[39m\u001b[38;5;124m with arguments: \u001b[39m\u001b[38;5;132;01m%s\u001b[39;00m\u001b[38;5;124m\"\u001b[39m,\n\u001b[1;32m   1843\u001b[0m     backend_name,\n\u001b[1;32m   1844\u001b[0m     \u001b[38;5;28mself\u001b[39m\u001b[38;5;241m.\u001b[39mname,\n\u001b[1;32m   1845\u001b[0m     _LazyArgsRepr(\u001b[38;5;28mself\u001b[39m, args, kwargs),\n\u001b[1;32m   1846\u001b[0m )\n",
      "File \u001b[0;32m~/.pyenv/versions/3.12.0/lib/python3.12/site-packages/networkx/convert_matrix.py:677\u001b[0m, in \u001b[0;36mto_scipy_sparse_array\u001b[0;34m(G, nodelist, dtype, weight, format)\u001b[0m\n\u001b[1;32m    675\u001b[0m \u001b[38;5;28;01mif\u001b[39;00m nlen \u001b[38;5;241m==\u001b[39m \u001b[38;5;241m0\u001b[39m:\n\u001b[1;32m    676\u001b[0m     \u001b[38;5;28;01mraise\u001b[39;00m nx\u001b[38;5;241m.\u001b[39mNetworkXError(\u001b[38;5;124m\"\u001b[39m\u001b[38;5;124mnodelist has no nodes\u001b[39m\u001b[38;5;124m\"\u001b[39m)\n\u001b[0;32m--> 677\u001b[0m nodeset \u001b[38;5;241m=\u001b[39m \u001b[38;5;28mset\u001b[39m(\u001b[43mG\u001b[49m\u001b[38;5;241;43m.\u001b[39;49m\u001b[43mnbunch_iter\u001b[49m(nodelist))\n\u001b[1;32m    678\u001b[0m \u001b[38;5;28;01mif\u001b[39;00m nlen \u001b[38;5;241m!=\u001b[39m \u001b[38;5;28mlen\u001b[39m(nodeset):\n\u001b[1;32m    679\u001b[0m     \u001b[38;5;28;01mfor\u001b[39;00m n \u001b[38;5;129;01min\u001b[39;00m nodelist:\n",
      "\u001b[0;31mAttributeError\u001b[0m: 'list' object has no attribute 'nbunch_iter'"
     ]
    }
   ],
   "source": [
    "task_nodes = [node for node in G.nodes() if node.startswith('task/')]\n",
    "result = nx.pagerank(task_nodes, alpha=0.9)"
   ]
  },
  {
   "cell_type": "code",
   "execution_count": 47,
   "metadata": {},
   "outputs": [
    {
     "data": {
      "text/plain": [
       "{'task/TSK-5C2187CF': 0.011259029649689584,\n",
       " 'task/TSK-1B43CB90': 0.008716915540048005,\n",
       " 'task/TSK-736E3B28': 0.0048211056431513065,\n",
       " 'task/TSK-A8A24727': 0.0064170807701542714,\n",
       " 'employee/5': 0.006977209727646035,\n",
       " 'employee/2': 0.010954756717738792,\n",
       " 'task/TSK-983C30DC': 0.008478101056359934,\n",
       " 'task/TSK-CB292DC1': 0.004602250463871253,\n",
       " 'task/TSK-41ECEB44': 0.004728899665756579,\n",
       " 'task/TSK-E2842052': 0.005679760666581435,\n",
       " 'task/TSK-514F6016': 0.005699581277289667,\n",
       " 'task/TSK-0E209EFC': 0.008257544548629312,\n",
       " 'task/TSK-3941DB43': 0.005581128772343734,\n",
       " 'task/TSK-91119F5B': 0.004715410354935141,\n",
       " 'employee/29': 0.01163062941947933,\n",
       " 'task/TSK-2F459E7F': 0.005703558811707751,\n",
       " 'task/TSK-255E6310': 0.006623901421722717,\n",
       " 'task/TSK-DFB54467': 0.009355677319621836,\n",
       " 'employee/31': 0.005560733662471944,\n",
       " 'employee/14': 0.006818261395213891,\n",
       " 'employee/13': 0.015289491027553382,\n",
       " 'task/TSK-F7E19B69': 0.011390990391630561,\n",
       " 'employee/33': 0.006055499603256377,\n",
       " 'employee/3': 0.00864378789844059,\n",
       " 'employee/32': 0.011323871871299247,\n",
       " 'task/TSK-85D5D00C': 0.007618052794574719,\n",
       " 'task/TSK-2B1FAB57': 0.00923462760309881,\n",
       " 'task/TSK-977CB080': 0.005701529767802387,\n",
       " 'task/TSK-19A45EE8': 0.0037572623346721684,\n",
       " 'task/TSK-2970AC03': 0.005550077111167662,\n",
       " 'employee/4': 0.009501996264701412,\n",
       " 'task/TSK-10847035': 0.006763967461754787,\n",
       " 'task/TSK-39885F7F': 0.004599959676192785,\n",
       " 'task/TSK-84305F2F': 0.007496568154099433,\n",
       " 'employee/6': 0.009533184599455343,\n",
       " 'employee/35': 0.011614271528810435,\n",
       " 'employee/20': 0.012798999672792473,\n",
       " 'task/TSK-89754CBF': 0.007556703709278906,\n",
       " 'task/TSK-0885F3E9': 0.003794819872199768,\n",
       " 'employee/8': 0.009620425830486688,\n",
       " 'task/TSK-98C9448B': 0.011165693882664265,\n",
       " 'task/TSK-89806FDF': 0.008368354267492162,\n",
       " 'task/TSK-FEA63216': 0.007627441526395977,\n",
       " 'employee/25': 0.009346382561423228,\n",
       " 'task/TSK-BE4188D4': 0.007461092468950167,\n",
       " 'employee/1': 0.011477881030153955,\n",
       " 'employee/15': 0.010645728190477592,\n",
       " 'task/TSK-CAFF3B09': 0.0066647738690073345,\n",
       " 'task/TSK-C4D5CB75': 0.0047056825848810204,\n",
       " 'task/TSK-C440EB07': 0.006787719473748439,\n",
       " 'task/TSK-BBA87B09': 0.0028536138169554777,\n",
       " 'task/TSK-FAAA4D51': 0.007508605216143199,\n",
       " 'employee/11': 0.00964843378470348,\n",
       " 'task/TSK-C891B895': 0.005615647576461295,\n",
       " 'task/TSK-89BBB564': 0.008496666650098671,\n",
       " 'task/TSK-AAF06E6A': 0.009311224465604756,\n",
       " 'task/TSK-E2E87C0B': 0.0055274697547103985,\n",
       " 'task/TSK-A0CCA417': 0.006524126590338364,\n",
       " 'task/TSK-FD3B1EFF': 0.008529075681139175,\n",
       " 'task/TSK-F51C17B5': 0.010531166037831004,\n",
       " 'employee/28': 0.012263628355616039,\n",
       " 'task/TSK-A0500206': 0.010222232101804975,\n",
       " 'employee/26': 0.007648076037087041,\n",
       " 'task/TSK-DC3ED3E2': 0.004688635917192163,\n",
       " 'task/TSK-EBA1C369': 0.004779590811533912,\n",
       " 'employee/17': 0.00968482165240461,\n",
       " 'employee/19': 0.004766491642826257,\n",
       " 'task/TSK-0115FED3': 0.006594640922277976,\n",
       " 'employee/36': 0.010412818882296476,\n",
       " 'task/TSK-30DBEA24': 0.005753139499056605,\n",
       " 'task/TSK-991E6E11': 0.0036942388191933103,\n",
       " 'task/TSK-1A209469': 0.005711684166774855,\n",
       " 'task/TSK-A3E27D20': 0.00565462688240617,\n",
       " 'task/TSK-0985DBA9': 0.006460343035661717,\n",
       " 'task/TSK-5D974201': 0.009353289567321524,\n",
       " 'task/TSK-FB3E490E': 0.006605269164569433,\n",
       " 'task/TSK-8CD3CA3E': 0.009471380702349153,\n",
       " 'employee/23': 0.007727775474001354,\n",
       " 'task/TSK-29CE08AD': 0.011233534141008025,\n",
       " 'task/TSK-795E9201': 0.006739982841633355,\n",
       " 'task/TSK-4A3587C9': 0.008466406759779197,\n",
       " 'task/TSK-B600DD62': 0.00842772650331907,\n",
       " 'employee/9': 0.011627232287416602,\n",
       " 'task/TSK-C2D38D23': 0.009371294065197815,\n",
       " 'task/TSK-AE8CFDEC': 0.012402525624123056,\n",
       " 'task/TSK-DA566BCB': 0.004706326263138062,\n",
       " 'employee/34': 0.008335745895526672,\n",
       " 'employee/22': 0.010506109775234578,\n",
       " 'task/TSK-01D25D85': 0.009405543928486668,\n",
       " 'task/TSK-E6CFDD02': 0.008346256156451046,\n",
       " 'task/TSK-E73A7D25': 0.009416742954226055,\n",
       " 'employee/27': 0.010781074814028322,\n",
       " 'task/TSK-FBD87AD9': 0.01037484169869968,\n",
       " 'employee/7': 0.009563875897230897,\n",
       " 'employee/16': 0.008608804763878194,\n",
       " 'task/TSK-5A434477': 0.008325831452579617,\n",
       " 'task/TSK-42E44473': 0.008282628566059306,\n",
       " 'task/TSK-1FE396B7': 0.010437122826189797,\n",
       " 'task/TSK-CB0C0404': 0.00825669028565567,\n",
       " 'employee/21': 0.006614191135405087,\n",
       " 'task/TSK-F567DBE1': 0.00940277298748116,\n",
       " 'task/TSK-763CE1C3': 0.010348328140895726,\n",
       " 'task/TSK-B03EF789': 0.011321059528129538,\n",
       " 'task/TSK-427652F3': 0.008340327305284324,\n",
       " 'task/TSK-3BA37747': 0.00830987473565141,\n",
       " 'task/TSK-D5031D4A': 0.008508118309878354,\n",
       " 'task/TSK-7E9F09A9': 0.01219598592013205,\n",
       " 'employee/12': 0.00471162330596706,\n",
       " 'task/TSK-93F18D57': 0.005764042804922634,\n",
       " 'task/TSK-59CE546C': 0.010276245442466025,\n",
       " 'task/TSK-4D677758': 0.005632139303923851,\n",
       " 'task/TSK-3D21853C': 0.008392433694425189,\n",
       " 'task/TSK-FBED5511': 0.0036759465217020186,\n",
       " 'task/TSK-A6994DD6': 0.007439388481653113,\n",
       " 'task/TSK-2179FF75': 0.004804017085874928,\n",
       " 'employee/18': 0.00776770774402848,\n",
       " 'employee/24': 0.0078264903272692,\n",
       " 'task/TSK-FAC99DF1': 0.005541637656839994,\n",
       " 'task/TSK-54F9521F': 0.006630870132743341,\n",
       " 'task/TSK-0AEE35B2': 0.005582054398732235,\n",
       " 'task/TSK-BE9555AC': 0.007539360526435074,\n",
       " 'task/TSK-B3B5A8F6': 0.006723218094095786,\n",
       " 'employee/10': 0.010799421480761968,\n",
       " 'task/TSK-46138F7D': 0.004591275372019216,\n",
       " 'task/TSK-1AA8BEAF': 0.0037056619267388266,\n",
       " 'employee/30': 0.013222423015447616}"
      ]
     },
     "execution_count": 47,
     "metadata": {},
     "output_type": "execute_result"
    }
   ],
   "source": [
    "result"
   ]
  },
  {
   "cell_type": "code",
   "execution_count": null,
   "metadata": {},
   "outputs": [],
   "source": []
  }
 ],
 "metadata": {
  "kernelspec": {
   "display_name": "3.12.0",
   "language": "python",
   "name": "python3"
  },
  "language_info": {
   "codemirror_mode": {
    "name": "ipython",
    "version": 3
   },
   "file_extension": ".py",
   "mimetype": "text/x-python",
   "name": "python",
   "nbconvert_exporter": "python",
   "pygments_lexer": "ipython3",
   "version": "3.12.0"
  }
 },
 "nbformat": 4,
 "nbformat_minor": 2
}
