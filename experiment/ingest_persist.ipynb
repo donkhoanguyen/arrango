{
 "cells": [
  {
   "cell_type": "code",
   "execution_count": 3,
   "metadata": {
    "colab": {
     "base_uri": "https://localhost:8080/"
    },
    "executionInfo": {
     "elapsed": 7349,
     "status": "ok",
     "timestamp": 1740969944546,
     "user": {
      "displayName": "Vuong Ho",
      "userId": "00142954554496901229"
     },
     "user_tz": 300
    },
    "id": "R3Alh9lB45la",
    "outputId": "857361ca-7798-4ecc-befb-9122a73fa59f"
   },
   "outputs": [
    {
     "name": "stdout",
     "output_type": "stream",
     "text": [
      "\u001b[?25l   \u001b[90m━━━━━━━━━━━━━━━━━━━━━━━━━━━━━━━━━━━━━━━━\u001b[0m \u001b[32m0.0/114.6 kB\u001b[0m \u001b[31m?\u001b[0m eta \u001b[36m-:--:--\u001b[0m\r\u001b[2K   \u001b[90m━━━━━━━━━━━━━━━━━━━━━━━━━━━━━━━━━━━━━━━━\u001b[0m \u001b[32m114.6/114.6 kB\u001b[0m \u001b[31m4.8 MB/s\u001b[0m eta \u001b[36m0:00:00\u001b[0m\n",
      "\u001b[?25h"
     ]
    }
   ],
   "source": [
    "# For langchain\n",
    "!pip install langchain-openai langchain-experimental -q\n",
    "\n",
    "# For ArangoDB\n",
    "!pip install python-arango -q"
   ]
  },
  {
   "cell_type": "code",
   "execution_count": 32,
   "metadata": {},
   "outputs": [
    {
     "name": "stdout",
     "output_type": "stream",
     "text": [
      "Collecting matplotlib\n",
      "  Downloading matplotlib-3.10.1-cp311-cp311-win_amd64.whl (8.1 MB)\n",
      "     ---------------------------------------- 8.1/8.1 MB 17.2 MB/s eta 0:00:00\n",
      "Collecting contourpy>=1.0.1\n",
      "  Downloading contourpy-1.3.1-cp311-cp311-win_amd64.whl (219 kB)\n",
      "     ------------------------------------- 219.8/219.8 kB 13.1 MB/s eta 0:00:00\n",
      "Collecting cycler>=0.10\n",
      "  Downloading cycler-0.12.1-py3-none-any.whl (8.3 kB)\n",
      "Collecting fonttools>=4.22.0\n",
      "  Downloading fonttools-4.56.0-cp311-cp311-win_amd64.whl (2.2 MB)\n",
      "     ---------------------------------------- 2.2/2.2 MB 23.3 MB/s eta 0:00:00\n",
      "Collecting kiwisolver>=1.3.1\n",
      "  Downloading kiwisolver-1.4.8-cp311-cp311-win_amd64.whl (71 kB)\n",
      "     ---------------------------------------- 72.0/72.0 kB ? eta 0:00:00\n",
      "Requirement already satisfied: numpy>=1.23 in g:\\other computers\\main\\college\\zextracurriculars\\hackathon\\arrango_backup\\venv\\lib\\site-packages (from matplotlib) (1.26.4)\n",
      "Requirement already satisfied: packaging>=20.0 in g:\\other computers\\main\\college\\zextracurriculars\\hackathon\\arrango_backup\\venv\\lib\\site-packages (from matplotlib) (24.2)\n",
      "Requirement already satisfied: pillow>=8 in g:\\other computers\\main\\college\\zextracurriculars\\hackathon\\arrango_backup\\venv\\lib\\site-packages (from matplotlib) (11.1.0)\n",
      "Collecting pyparsing>=2.3.1\n",
      "  Downloading pyparsing-3.2.1-py3-none-any.whl (107 kB)\n",
      "     ---------------------------------------- 107.7/107.7 kB ? eta 0:00:00\n",
      "Requirement already satisfied: python-dateutil>=2.7 in g:\\other computers\\main\\college\\zextracurriculars\\hackathon\\arrango_backup\\venv\\lib\\site-packages (from matplotlib) (2.9.0.post0)\n",
      "Requirement already satisfied: six>=1.5 in g:\\other computers\\main\\college\\zextracurriculars\\hackathon\\arrango_backup\\venv\\lib\\site-packages (from python-dateutil>=2.7->matplotlib) (1.17.0)\n",
      "Installing collected packages: pyparsing, kiwisolver, fonttools, cycler, contourpy, matplotlib\n",
      "Successfully installed contourpy-1.3.1 cycler-0.12.1 fonttools-4.56.0 kiwisolver-1.4.8 matplotlib-3.10.1 pyparsing-3.2.1\n"
     ]
    },
    {
     "name": "stderr",
     "output_type": "stream",
     "text": [
      "\n",
      "[notice] A new release of pip available: 22.3 -> 25.0.1\n",
      "[notice] To update, run: python.exe -m pip install --upgrade pip\n"
     ]
    }
   ],
   "source": [
    "!pip install matplotlib"
   ]
  },
  {
   "cell_type": "code",
   "execution_count": 1,
   "metadata": {
    "executionInfo": {
     "elapsed": 11,
     "status": "ok",
     "timestamp": 1740970157968,
     "user": {
      "displayName": "Vuong Ho",
      "userId": "00142954554496901229"
     },
     "user_tz": 300
    },
    "id": "7GoPIbTQ59DL"
   },
   "outputs": [],
   "source": [
    "import os\n",
    "\n",
    "os.environ[\"DATABASE_HOST\"] = \"https://b61c3b83bfe6.arangodb.cloud:8529\"\n",
    "os.environ[\"DATABASE_USERNAME\"] = \"root\"\n",
    "os.environ[\"DATABASE_PASSWORD\"] = \"RHr0KzkRUVlp61IisH8G\"\n",
    "os.environ[\"DATABASE_NAME\"] = \"DAC_devops_log\""
   ]
  },
  {
   "cell_type": "code",
   "execution_count": 2,
   "metadata": {
    "executionInfo": {
     "elapsed": 905,
     "status": "ok",
     "timestamp": 1740970164929,
     "user": {
      "displayName": "Vuong Ho",
      "userId": "00142954554496901229"
     },
     "user_tz": 300
    },
    "id": "UykzJypX5RcD"
   },
   "outputs": [
    {
     "name": "stderr",
     "output_type": "stream",
     "text": [
      "[16:12:31 -0500] [INFO]: NetworkX-cuGraph is unavailable: No module named 'cupy'.\n"
     ]
    }
   ],
   "source": [
    "from arango import ArangoClient\n",
    "import networkx as nx\n",
    "import nx_arangodb as nxadb\n",
    "\n",
    "db = ArangoClient(hosts=\"https://b61c3b83bfe6.arangodb.cloud:8529\") \\\n",
    "    .db(username=\"root\",\n",
    "        password=\"RHr0KzkRUVlp61IisH8G\",\n",
    "        name=\"DAC_devops_log\",\n",
    "        verify=True)"
   ]
  },
  {
   "cell_type": "markdown",
   "metadata": {},
   "source": []
  },
  {
   "cell_type": "code",
   "execution_count": 10,
   "metadata": {},
   "outputs": [
    {
     "name": "stderr",
     "output_type": "stream",
     "text": [
      "[16:16:05 -0500] [INFO]: Graph 'ds_tasks_dependence_graph' exists.\n",
      "[16:16:05 -0500] [INFO]: Default node type set to 'ds_tasks'\n"
     ]
    }
   ],
   "source": [
    "task_dep_graph = nxadb.DiGraph(name=\"ds_tasks_dependence_graph\")"
   ]
  },
  {
   "cell_type": "code",
   "execution_count": 11,
   "metadata": {},
   "outputs": [
    {
     "name": "stdout",
     "output_type": "stream",
     "text": [
      "['ds_tasks/TSK-1EA40351', 'ds_tasks/TSK-61053B2F', 'ds_tasks/TSK-DC598064', 'ds_tasks/TSK-F01DFD69', 'ds_tasks/TSK-A10D4E86', 'ds_tasks/TSK-3B211663', 'ds_tasks/TSK-9A5C2E8E', 'ds_tasks/TSK-B2BA63BA', 'ds_tasks/TSK-6D002AAE', 'ds_tasks/TSK-139E76E6', 'ds_tasks/TSK-1EC35081', 'ds_tasks/TSK-74DF4453', 'ds_tasks/TSK-4989D136', 'ds_tasks/TSK-D7B94EC9', 'ds_tasks/TSK-E23C633E', 'ds_tasks/TSK-855D95B6', 'ds_tasks/TSK-E5FE227A', 'ds_tasks/TSK-A9FC79CE', 'ds_tasks/TSK-A55F85D0', 'ds_tasks/TSK-1356205C', 'ds_tasks/TSK-B746A5B7', 'ds_tasks/TSK-92ACEA8C', 'ds_tasks/TSK-9073F198', 'ds_tasks/TSK-34501DAC', 'ds_tasks/TSK-5510D3A9', 'ds_tasks/TSK-F34D1882', 'ds_tasks/TSK-4EBD67FD', 'ds_tasks/TSK-0D0D0F73', 'ds_tasks/TSK-CE2CF100', 'ds_tasks/TSK-FD4B906A', 'ds_tasks/TSK-DACF3342', 'ds_tasks/TSK-CC092721', 'ds_tasks/TSK-A12A42C7', 'ds_tasks/TSK-8849435A', 'ds_tasks/TSK-5BC70421', 'ds_tasks/TSK-8B768931', 'ds_tasks/TSK-7DE2A58D', 'ds_tasks/TSK-7A51B62D', 'ds_tasks/TSK-97096B82', 'ds_tasks/TSK-FEDA370B', 'ds_tasks/TSK-41ED6E50', 'ds_tasks/TSK-56A561D6', 'ds_tasks/TSK-3A44E413', 'ds_tasks/TSK-8EEB9C38', 'ds_tasks/TSK-0FD1F8A0', 'ds_tasks/TSK-48103DF8', 'ds_tasks/TSK-71E122C6', 'ds_tasks/TSK-57E6E7AA', 'ds_tasks/TSK-244A033D']\n"
     ]
    }
   ],
   "source": [
    "print(task_dep_graph.nodes)"
   ]
  },
  {
   "cell_type": "code",
   "execution_count": 8,
   "metadata": {},
   "outputs": [
    {
     "name": "stdout",
     "output_type": "stream",
     "text": [
      "<Cursor>\n",
      "{'_key': 'TSK-48103DF8', '_id': 'ds_tasks/TSK-48103DF8', '_rev': '_jVHvXZ2---', 'TaskID': 'TSK-48103DF8', 'Description': 'Create a project plan for data migration', 'AssignedEmployees': '2,27,6', 'Advisors': '18', 'PrecedingTasks': '', 'StoryPoints': '2', 'StartTime': '2025-03-09', 'EstimatedFinishTime': '2025-03-10', 'Status': 'Planned', 'ActualFinishTime': ''}\n",
      "{'_key': 'TSK-1EA40351', '_id': 'ds_tasks/TSK-1EA40351', '_rev': '_jVHvXZ2--A', 'TaskID': 'TSK-1EA40351', 'Description': 'Define data migration scope and objectives', 'AssignedEmployees': '16,34', 'Advisors': '7', 'PrecedingTasks': '', 'StoryPoints': '2', 'StartTime': '2025-03-08', 'EstimatedFinishTime': '2025-03-09', 'Status': 'Planned', 'ActualFinishTime': ''}\n",
      "{'_key': 'TSK-97096B82', '_id': 'ds_tasks/TSK-97096B82', '_rev': '_jVHvXZ2--B', 'TaskID': 'TSK-97096B82', 'Description': 'Perform initial data analysis to understand current data architecture', 'AssignedEmployees': '31', 'Advisors': '17,24', 'PrecedingTasks': '', 'StoryPoints': '8', 'StartTime': '2025-03-09', 'EstimatedFinishTime': '2025-03-13', 'Status': 'Planned', 'ActualFinishTime': ''}\n",
      "{'_key': 'TSK-7DE2A58D', '_id': 'ds_tasks/TSK-7DE2A58D', '_rev': '_jVHvXZ2--C', 'TaskID': 'TSK-7DE2A58D', 'Description': 'Identify data quality issues', 'AssignedEmployees': '12,21,2', 'Advisors': '15', 'PrecedingTasks': '', 'StoryPoints': '5', 'StartTime': '2025-03-12', 'EstimatedFinishTime': '2025-03-15', 'Status': 'Planned', 'ActualFinishTime': ''}\n",
      "{'_key': 'TSK-71E122C6', '_id': 'ds_tasks/TSK-71E122C6', '_rev': '_jVHvXZ2--D', 'TaskID': 'TSK-71E122C6', 'Description': 'Design new data schema', 'AssignedEmployees': '22', 'Advisors': '15', 'PrecedingTasks': '', 'StoryPoints': '13', 'StartTime': '2025-03-09', 'EstimatedFinishTime': '2025-03-15', 'Status': 'Planned', 'ActualFinishTime': ''}\n",
      "{'_key': 'TSK-9073F198', '_id': 'ds_tasks/TSK-9073F198', '_rev': '_jVHvXZ2--E', 'TaskID': 'TSK-9073F198', 'Description': 'Map old data schema to new data schema', 'AssignedEmployees': '24,18', 'Advisors': '27,25', 'PrecedingTasks': 'TSK-1EA40351,TSK-71E122C6,TSK-7DE2A58D', 'StoryPoints': '8', 'StartTime': '2025-03-11', 'EstimatedFinishTime': '2025-03-15', 'Status': 'Planned', 'ActualFinishTime': ''}\n",
      "{'_key': 'TSK-4989D136', '_id': 'ds_tasks/TSK-4989D136', '_rev': '_jVHvXZ2--F', 'TaskID': 'TSK-4989D136', 'Description': 'Develop data transformation rules', 'AssignedEmployees': '27,5', 'Advisors': '14,23', 'PrecedingTasks': 'TSK-48103DF8,TSK-97096B82,TSK-1EA40351,TSK-7DE2A58D', 'StoryPoints': '8', 'StartTime': '2025-03-13', 'EstimatedFinishTime': '2025-03-17', 'Status': 'Planned', 'ActualFinishTime': ''}\n",
      "{'_key': 'TSK-FEDA370B', '_id': 'ds_tasks/TSK-FEDA370B', '_rev': '_jVHvXZ2--G', 'TaskID': 'TSK-FEDA370B', 'Description': 'Create ETL scripts for data extraction', 'AssignedEmployees': '33,2', 'Advisors': '35,12', 'PrecedingTasks': 'TSK-4989D136,TSK-7DE2A58D,TSK-1EA40351', 'StoryPoints': '8', 'StartTime': '2025-03-12', 'EstimatedFinishTime': '2025-03-16', 'Status': 'Planned', 'ActualFinishTime': ''}\n",
      "{'_key': 'TSK-92ACEA8C', '_id': 'ds_tasks/TSK-92ACEA8C', '_rev': '_jVHvXZ2--H', 'TaskID': 'TSK-92ACEA8C', 'Description': 'Create ETL scripts for data transformation', 'AssignedEmployees': '4', 'Advisors': '8,16', 'PrecedingTasks': 'TSK-71E122C6,TSK-FEDA370B', 'StoryPoints': '10', 'StartTime': '2025-03-15', 'EstimatedFinishTime': '2025-03-20', 'Status': 'Planned', 'ActualFinishTime': ''}\n",
      "{'_key': 'TSK-0FD1F8A0', '_id': 'ds_tasks/TSK-0FD1F8A0', '_rev': '_jVHvXZ2--I', 'TaskID': 'TSK-0FD1F8A0', 'Description': 'Create ETL scripts for data loading', 'AssignedEmployees': '23', 'Advisors': '1', 'PrecedingTasks': '', 'StoryPoints': '8', 'StartTime': '2025-03-12', 'EstimatedFinishTime': '2025-03-16', 'Status': 'Planned', 'ActualFinishTime': ''}\n",
      "{'_key': 'TSK-57E6E7AA', '_id': 'ds_tasks/TSK-57E6E7AA', '_rev': '_jVHvXZ6---', 'TaskID': 'TSK-57E6E7AA', 'Description': 'Perform unit testing on ETL scripts', 'AssignedEmployees': '5,2,17', 'Advisors': '24', 'PrecedingTasks': 'TSK-FEDA370B,TSK-0FD1F8A0,TSK-97096B82', 'StoryPoints': '5', 'StartTime': '2025-03-13', 'EstimatedFinishTime': '2025-03-16', 'Status': 'Planned', 'ActualFinishTime': ''}\n",
      "{'_key': 'TSK-855D95B6', '_id': 'ds_tasks/TSK-855D95B6', '_rev': '_jVHvXZ6--_', 'TaskID': 'TSK-855D95B6', 'Description': 'Perform integration testing on ETL scripts', 'AssignedEmployees': '27', 'Advisors': '28', 'PrecedingTasks': 'TSK-4989D136,TSK-57E6E7AA', 'StoryPoints': '8', 'StartTime': '2025-03-13', 'EstimatedFinishTime': '2025-03-17', 'Status': 'Planned', 'ActualFinishTime': ''}\n",
      "{'_key': 'TSK-8B768931', '_id': 'ds_tasks/TSK-8B768931', '_rev': '_jVHvXZ6--A', 'TaskID': 'TSK-8B768931', 'Description': 'Resolve issues found during testing', 'AssignedEmployees': '36,12,1', 'Advisors': '27', 'PrecedingTasks': 'TSK-855D95B6', 'StoryPoints': '5', 'StartTime': '2025-03-13', 'EstimatedFinishTime': '2025-03-16', 'Status': 'Planned', 'ActualFinishTime': ''}\n",
      "{'_key': 'TSK-61053B2F', '_id': 'ds_tasks/TSK-61053B2F', '_rev': '_jVHvXZ6--B', 'TaskID': 'TSK-61053B2F', 'Description': 'Perform a trial data migration', 'AssignedEmployees': '17,6', 'Advisors': '35,3', 'PrecedingTasks': 'TSK-0FD1F8A0,TSK-71E122C6,TSK-FEDA370B,TSK-9073F198', 'StoryPoints': '13', 'StartTime': '2025-03-19', 'EstimatedFinishTime': '2025-03-25', 'Status': 'Planned', 'ActualFinishTime': ''}\n",
      "{'_key': 'TSK-41ED6E50', '_id': 'ds_tasks/TSK-41ED6E50', '_rev': '_jVHvXZ6--C', 'TaskID': 'TSK-41ED6E50', 'Description': 'Validate migrated data against original data', 'AssignedEmployees': '17,13,27', 'Advisors': '7', 'PrecedingTasks': 'TSK-7DE2A58D', 'StoryPoints': '10', 'StartTime': '2025-03-16', 'EstimatedFinishTime': '2025-03-21', 'Status': 'Planned', 'ActualFinishTime': ''}\n",
      "{'_key': 'TSK-34501DAC', '_id': 'ds_tasks/TSK-34501DAC', '_rev': '_jVHvXZ6--D', 'TaskID': 'TSK-34501DAC', 'Description': 'Optimize ETL performance', 'AssignedEmployees': '35,13', 'Advisors': '1', 'PrecedingTasks': '', 'StoryPoints': '8', 'StartTime': '2025-03-16', 'EstimatedFinishTime': '2025-03-20', 'Status': 'Planned', 'ActualFinishTime': ''}\n",
      "{'_key': 'TSK-A10D4E86', '_id': 'ds_tasks/TSK-A10D4E86', '_rev': '_jVHvXZ6--E', 'TaskID': 'TSK-A10D4E86', 'Description': 'Develop a data migration rollback plan', 'AssignedEmployees': '20,16', 'Advisors': '15,30', 'PrecedingTasks': 'TSK-48103DF8,TSK-1EA40351,TSK-FEDA370B,TSK-4989D136', 'StoryPoints': '5', 'StartTime': '2025-03-20', 'EstimatedFinishTime': '2025-03-23', 'Status': 'Planned', 'ActualFinishTime': ''}\n",
      "{'_key': 'TSK-B2BA63BA', '_id': 'ds_tasks/TSK-B2BA63BA', '_rev': '_jVHvXZ6--F', 'TaskID': 'TSK-B2BA63BA', 'Description': 'Develop a data validation tool', 'AssignedEmployees': '3,18', 'Advisors': '30', 'PrecedingTasks': 'TSK-9073F198,TSK-61053B2F,TSK-4989D136', 'StoryPoints': '8', 'StartTime': '2025-03-17', 'EstimatedFinishTime': '2025-03-21', 'Status': 'Planned', 'ActualFinishTime': ''}\n",
      "{'_key': 'TSK-5510D3A9', '_id': 'ds_tasks/TSK-5510D3A9', '_rev': '_jVHvXZ6--G', 'TaskID': 'TSK-5510D3A9', 'Description': 'Create an operational dashboard for monitoring data migration progress', 'AssignedEmployees': '15,1,28', 'Advisors': '17', 'PrecedingTasks': 'TSK-8B768931,TSK-97096B82', 'StoryPoints': '5', 'StartTime': '2025-03-17', 'EstimatedFinishTime': '2025-03-20', 'Status': 'Planned', 'ActualFinishTime': ''}\n",
      "{'_key': 'TSK-7A51B62D', '_id': 'ds_tasks/TSK-7A51B62D', '_rev': '_jVHvXZ6--H', 'TaskID': 'TSK-7A51B62D', 'Description': 'Perform final data migration', 'AssignedEmployees': '1', 'Advisors': '28', 'PrecedingTasks': 'TSK-9073F198,TSK-34501DAC', 'StoryPoints': '13', 'StartTime': '2025-03-19', 'EstimatedFinishTime': '2025-03-25', 'Status': 'Planned', 'ActualFinishTime': ''}\n",
      "{'_key': 'TSK-CC092721', '_id': 'ds_tasks/TSK-CC092721', '_rev': '_jVHvXZ6--I', 'TaskID': 'TSK-CC092721', 'Description': 'Validate final migrated data', 'AssignedEmployees': '20,29', 'Advisors': '3', 'PrecedingTasks': 'TSK-97096B82,TSK-A10D4E86', 'StoryPoints': '10', 'StartTime': '2025-03-19', 'EstimatedFinishTime': '2025-03-24', 'Status': 'Planned', 'ActualFinishTime': ''}\n",
      "{'_key': 'TSK-0D0D0F73', '_id': 'ds_tasks/TSK-0D0D0F73', '_rev': '_jVHvXZ6--J', 'TaskID': 'TSK-0D0D0F73', 'Description': 'Perform cutover to new data architecture', 'AssignedEmployees': '30', 'Advisors': '35,18', 'PrecedingTasks': '', 'StoryPoints': '8', 'StartTime': '2025-03-22', 'EstimatedFinishTime': '2025-03-26', 'Status': 'Planned', 'ActualFinishTime': ''}\n",
      "{'_key': 'TSK-B746A5B7', '_id': 'ds_tasks/TSK-B746A5B7', '_rev': '_jVHvXZ6--K', 'TaskID': 'TSK-B746A5B7', 'Description': 'Monitor data migration progress and troubleshoot issues', 'AssignedEmployees': '1', 'Advisors': '28', 'PrecedingTasks': 'TSK-CC092721,TSK-61053B2F,TSK-57E6E7AA', 'StoryPoints': '5', 'StartTime': '2025-03-21', 'EstimatedFinishTime': '2025-03-24', 'Status': 'Planned', 'ActualFinishTime': ''}\n",
      "{'_key': 'TSK-DC598064', '_id': 'ds_tasks/TSK-DC598064', '_rev': '_jVHvXZ6--L', 'TaskID': 'TSK-DC598064', 'Description': 'Perform post-migration data analysis', 'AssignedEmployees': '8,21', 'Advisors': '17,19', 'PrecedingTasks': 'TSK-41ED6E50,TSK-5510D3A9', 'StoryPoints': '8', 'StartTime': '2025-03-22', 'EstimatedFinishTime': '2025-03-26', 'Status': 'Planned', 'ActualFinishTime': ''}\n",
      "{'_key': 'TSK-F01DFD69', '_id': 'ds_tasks/TSK-F01DFD69', '_rev': '_jVHvXZ6--M', 'TaskID': 'TSK-F01DFD69', 'Description': 'Create a post-migration report', 'AssignedEmployees': '8,36', 'Advisors': '10,15', 'PrecedingTasks': '', 'StoryPoints': '3', 'StartTime': '2025-03-22', 'EstimatedFinishTime': '2025-03-24', 'Status': 'Planned', 'ActualFinishTime': ''}\n",
      "{'_key': 'TSK-3B211663', '_id': 'ds_tasks/TSK-3B211663', '_rev': '_jVHvXZ6--N', 'TaskID': 'TSK-3B211663', 'Description': 'Review and optimize new data architecture', 'AssignedEmployees': '36,15', 'Advisors': '11,8', 'PrecedingTasks': 'TSK-F01DFD69', 'StoryPoints': '5', 'StartTime': '2025-03-22', 'EstimatedFinishTime': '2025-03-25', 'Status': 'Planned', 'ActualFinishTime': ''}\n",
      "{'_key': 'TSK-FD4B906A', '_id': 'ds_tasks/TSK-FD4B906A', '_rev': '_jVHvXZ6--O', 'TaskID': 'TSK-FD4B906A', 'Description': 'Provide training to users on new data architecture', 'AssignedEmployees': '25,34,8', 'Advisors': '4', 'PrecedingTasks': 'TSK-34501DAC', 'StoryPoints': '5', 'StartTime': '2025-03-23', 'EstimatedFinishTime': '2025-03-26', 'Status': 'Planned', 'ActualFinishTime': ''}\n",
      "{'_key': 'TSK-6D002AAE', '_id': 'ds_tasks/TSK-6D002AAE', '_rev': '_jVHvXZ6--P', 'TaskID': 'TSK-6D002AAE', 'Description': 'Develop and implement data governance practices', 'AssignedEmployees': '18,3,27', 'Advisors': '35', 'PrecedingTasks': '', 'StoryPoints': '8', 'StartTime': '2025-03-22', 'EstimatedFinishTime': '2025-03-26', 'Status': 'Planned', 'ActualFinishTime': ''}\n",
      "{'_key': 'TSK-DACF3342', '_id': 'ds_tasks/TSK-DACF3342', '_rev': '_jVHvXZ6--Q', 'TaskID': 'TSK-DACF3342', 'Description': 'Implement data security measures', 'AssignedEmployees': '18', 'Advisors': '9', 'PrecedingTasks': 'TSK-92ACEA8C,TSK-1EA40351', 'StoryPoints': '5', 'StartTime': '2025-03-25', 'EstimatedFinishTime': '2025-03-28', 'Status': 'Planned', 'ActualFinishTime': ''}\n",
      "{'_key': 'TSK-E5FE227A', '_id': 'ds_tasks/TSK-E5FE227A', '_rev': '_jVHvXZ6--R', 'TaskID': 'TSK-E5FE227A', 'Description': 'Perform regular data quality checks', 'AssignedEmployees': '35', 'Advisors': '9', 'PrecedingTasks': '', 'StoryPoints': '3', 'StartTime': '2025-03-26', 'EstimatedFinishTime': '2025-03-28', 'Status': 'Planned', 'ActualFinishTime': ''}\n",
      "{'_key': 'TSK-A9FC79CE', '_id': 'ds_tasks/TSK-A9FC79CE', '_rev': '_jVHvXZ6--S', 'TaskID': 'TSK-A9FC79CE', 'Description': 'Perform regular data backups', 'AssignedEmployees': '11,30,12', 'Advisors': '24,10', 'PrecedingTasks': '', 'StoryPoints': '2', 'StartTime': '2025-03-24', 'EstimatedFinishTime': '2025-03-25', 'Status': 'Planned', 'ActualFinishTime': ''}\n",
      "{'_key': 'TSK-4EBD67FD', '_id': 'ds_tasks/TSK-4EBD67FD', '_rev': '_jVHvXZ6--T', 'TaskID': 'TSK-4EBD67FD', 'Description': 'Develop and implement data retention policies', 'AssignedEmployees': '15,10', 'Advisors': '6,28', 'PrecedingTasks': 'TSK-4989D136', 'StoryPoints': '5', 'StartTime': '2025-03-25', 'EstimatedFinishTime': '2025-03-28', 'Status': 'Planned', 'ActualFinishTime': ''}\n",
      "{'_key': 'TSK-56A561D6', '_id': 'ds_tasks/TSK-56A561D6', '_rev': '_jVHvXZ6--U', 'TaskID': 'TSK-56A561D6', 'Description': 'Maintain data migration documentation', 'AssignedEmployees': '11,28,17', 'Advisors': '1', 'PrecedingTasks': '', 'StoryPoints': '2', 'StartTime': '2025-03-27', 'EstimatedFinishTime': '2025-03-28', 'Status': 'Planned', 'ActualFinishTime': ''}\n",
      "{'_key': 'TSK-A12A42C7', '_id': 'ds_tasks/TSK-A12A42C7', '_rev': '_jVHvXZ6--V', 'TaskID': 'TSK-A12A42C7', 'Description': 'Maintain ETL scripts', 'AssignedEmployees': '22', 'Advisors': '33', 'PrecedingTasks': 'TSK-57E6E7AA,TSK-A9FC79CE,TSK-56A561D6', 'StoryPoints': '2', 'StartTime': '2025-03-28', 'EstimatedFinishTime': '2025-03-29', 'Status': 'Planned', 'ActualFinishTime': ''}\n",
      "{'_key': 'TSK-244A033D', '_id': 'ds_tasks/TSK-244A033D', '_rev': '_jVHvXZ6--W', 'TaskID': 'TSK-244A033D', 'Description': 'Perform regular performance tuning of data architecture', 'AssignedEmployees': '17,20', 'Advisors': '15,34', 'PrecedingTasks': 'TSK-56A561D6,TSK-A9FC79CE,TSK-3B211663,TSK-92ACEA8C', 'StoryPoints': '5', 'StartTime': '2025-03-26', 'EstimatedFinishTime': '2025-03-29', 'Status': 'Planned', 'ActualFinishTime': ''}\n",
      "{'_key': 'TSK-8EEB9C38', '_id': 'ds_tasks/TSK-8EEB9C38', '_rev': '_jVHvXZ6--X', 'TaskID': 'TSK-8EEB9C38', 'Description': 'Resolve user-reported data issues', 'AssignedEmployees': '15,33', 'Advisors': '7,4', 'PrecedingTasks': 'TSK-3B211663', 'StoryPoints': '3', 'StartTime': '2025-03-26', 'EstimatedFinishTime': '2025-03-28', 'Status': 'Planned', 'ActualFinishTime': ''}\n",
      "{'_key': 'TSK-9A5C2E8E', '_id': 'ds_tasks/TSK-9A5C2E8E', '_rev': '_jVHvXZ6--Y', 'TaskID': 'TSK-9A5C2E8E', 'Description': 'Perform regular system updates and patches', 'AssignedEmployees': '3,31,20', 'Advisors': '6,26', 'PrecedingTasks': 'TSK-8EEB9C38,TSK-F01DFD69,TSK-56A561D6,TSK-8B768931', 'StoryPoints': '2', 'StartTime': '2025-03-30', 'EstimatedFinishTime': '2025-03-31', 'Status': 'Planned', 'ActualFinishTime': ''}\n",
      "{'_key': 'TSK-E23C633E', '_id': 'ds_tasks/TSK-E23C633E', '_rev': '_jVHvXZ6--Z', 'TaskID': 'TSK-E23C633E', 'Description': 'Manage data migration project risks and issues', 'AssignedEmployees': '2', 'Advisors': '26,14', 'PrecedingTasks': 'TSK-56A561D6,TSK-9A5C2E8E,TSK-61053B2F,TSK-34501DAC', 'StoryPoints': '3', 'StartTime': '2025-03-29', 'EstimatedFinishTime': '2025-03-31', 'Status': 'Planned', 'ActualFinishTime': ''}\n",
      "{'_key': 'TSK-8849435A', '_id': 'ds_tasks/TSK-8849435A', '_rev': '_jVHvXZ6--a', 'TaskID': 'TSK-8849435A', 'Description': 'Manage data migration project stakeholders', 'AssignedEmployees': '27,7,1', 'Advisors': '6', 'PrecedingTasks': 'TSK-F01DFD69', 'StoryPoints': '2', 'StartTime': '2025-03-31', 'EstimatedFinishTime': '2025-04-01', 'Status': 'Planned', 'ActualFinishTime': ''}\n",
      "{'_key': 'TSK-F34D1882', '_id': 'ds_tasks/TSK-F34D1882', '_rev': '_jVHvXZ6--b', 'TaskID': 'TSK-F34D1882', 'Description': 'Manage data migration project communications', 'AssignedEmployees': '8,33', 'Advisors': '28', 'PrecedingTasks': 'TSK-7A51B62D,TSK-A9FC79CE,TSK-E23C633E', 'StoryPoints': '2', 'StartTime': '2025-03-30', 'EstimatedFinishTime': '2025-03-31', 'Status': 'Planned', 'ActualFinishTime': ''}\n",
      "{'_key': 'TSK-D7B94EC9', '_id': 'ds_tasks/TSK-D7B94EC9', '_rev': '_jVHvXZ6--c', 'TaskID': 'TSK-D7B94EC9', 'Description': 'Perform regular project status reporting', 'AssignedEmployees': '14,33,5', 'Advisors': '15,8', 'PrecedingTasks': '', 'StoryPoints': '2', 'StartTime': '2025-03-31', 'EstimatedFinishTime': '2025-04-01', 'Status': 'Planned', 'ActualFinishTime': ''}\n",
      "{'_key': 'TSK-139E76E6', '_id': 'ds_tasks/TSK-139E76E6', '_rev': '_jVHvXZ6--d', 'TaskID': 'TSK-139E76E6', 'Description': 'Manage data migration project resources', 'AssignedEmployees': '13,23', 'Advisors': '10,1', 'PrecedingTasks': 'TSK-41ED6E50,TSK-A12A42C7,TSK-0D0D0F73,TSK-9073F198', 'StoryPoints': '2', 'StartTime': '2025-03-29', 'EstimatedFinishTime': '2025-03-30', 'Status': 'Planned', 'ActualFinishTime': ''}\n",
      "{'_key': 'TSK-CE2CF100', '_id': 'ds_tasks/TSK-CE2CF100', '_rev': '_jVHvXZ6--e', 'TaskID': 'TSK-CE2CF100', 'Description': 'Manage data migration project budget', 'AssignedEmployees': '22,12', 'Advisors': '25,27', 'PrecedingTasks': 'TSK-4EBD67FD', 'StoryPoints': '3', 'StartTime': '2025-03-29', 'EstimatedFinishTime': '2025-03-31', 'Status': 'Planned', 'ActualFinishTime': ''}\n",
      "{'_key': 'TSK-3A44E413', '_id': 'ds_tasks/TSK-3A44E413', '_rev': '_jVHvXZ6--f', 'TaskID': 'TSK-3A44E413', 'Description': 'Perform post-project review', 'AssignedEmployees': '26,33', 'Advisors': '31,20', 'PrecedingTasks': 'TSK-7A51B62D,TSK-1EA40351,TSK-61053B2F,TSK-A10D4E86', 'StoryPoints': '2', 'StartTime': '2025-04-01', 'EstimatedFinishTime': '2025-04-02', 'Status': 'Planned', 'ActualFinishTime': ''}\n",
      "{'_key': 'TSK-1EC35081', '_id': 'ds_tasks/TSK-1EC35081', '_rev': '_jVHvXZ6--g', 'TaskID': 'TSK-1EC35081', 'Description': 'Capture and document lessons learned', 'AssignedEmployees': '32,25,5', 'Advisors': '14,11', 'PrecedingTasks': 'TSK-DC598064', 'StoryPoints': '2', 'StartTime': '2025-03-31', 'EstimatedFinishTime': '2025-04-01', 'Status': 'Planned', 'ActualFinishTime': ''}\n",
      "{'_key': 'TSK-A55F85D0', '_id': 'ds_tasks/TSK-A55F85D0', '_rev': '_jVHvXZ6--h', 'TaskID': 'TSK-A55F85D0', 'Description': 'Close out data migration project', 'AssignedEmployees': '9,22,11', 'Advisors': '2,36', 'PrecedingTasks': 'TSK-F01DFD69,TSK-3A44E413,TSK-92ACEA8C,TSK-F34D1882', 'StoryPoints': '2', 'StartTime': '2025-04-02', 'EstimatedFinishTime': '2025-04-03', 'Status': 'Planned', 'ActualFinishTime': ''}\n",
      "{'_key': 'TSK-1356205C', '_id': 'ds_tasks/TSK-1356205C', '_rev': '_jVHvXZ6--i', 'TaskID': 'TSK-1356205C', 'Description': 'Archive data migration project documents', 'AssignedEmployees': '13,12', 'Advisors': '32', 'PrecedingTasks': '', 'StoryPoints': '1', 'StartTime': '2025-04-02', 'EstimatedFinishTime': '2025-04-03', 'Status': 'Planned', 'ActualFinishTime': ''}\n",
      "{'_key': 'TSK-5BC70421', '_id': 'ds_tasks/TSK-5BC70421', '_rev': '_jVHvXZ6--j', 'TaskID': 'TSK-5BC70421', 'Description': 'Release data migration project resources', 'AssignedEmployees': '36,31', 'Advisors': '2', 'PrecedingTasks': 'TSK-A55F85D0,TSK-41ED6E50,TSK-71E122C6,TSK-139E76E6', 'StoryPoints': '1', 'StartTime': '2025-04-04', 'EstimatedFinishTime': '2025-04-05', 'Status': 'Planned', 'ActualFinishTime': ''}\n",
      "{'_key': 'TSK-74DF4453', '_id': 'ds_tasks/TSK-74DF4453', '_rev': '_jVHvXZ6--k', 'TaskID': 'TSK-74DF4453', 'Description': 'Celebrate data migration project success', 'AssignedEmployees': '29,16', 'Advisors': '28', 'PrecedingTasks': '', 'StoryPoints': '1', 'StartTime': '2025-04-04', 'EstimatedFinishTime': '2025-04-05', 'Status': 'Planned', 'ActualFinishTime': ''}\n"
     ]
    }
   ],
   "source": [
    "task_col = db.collection(\"ds_tasks\")\n",
    "\n",
    "print(task_col.all())\n",
    "for task in task_col.all():\n",
    "    print(task)"
   ]
  },
  {
   "cell_type": "code",
   "execution_count": null,
   "metadata": {},
   "outputs": [],
   "source": []
  },
  {
   "cell_type": "code",
   "execution_count": null,
   "metadata": {},
   "outputs": [
    {
     "name": "stderr",
     "output_type": "stream",
     "text": [
      "[18:50:24 -0500] [WARNING]: Note that copying a graph loses the connection to the database\n"
     ]
    },
    {
     "name": "stdout",
     "output_type": "stream",
     "text": [
      "{'ds_tasks/TSK-1EA40351': 'Completed', 'ds_tasks/TSK-61053B2F': 'Blocked', 'ds_tasks/TSK-DC598064': 'In Progress', 'ds_tasks/TSK-F01DFD69': 'Completed', 'ds_tasks/TSK-A10D4E86': 'Completed', 'ds_tasks/TSK-3B211663': 'Completed', 'ds_tasks/TSK-9A5C2E8E': 'In Progress', 'ds_tasks/TSK-B2BA63BA': 'Blocked', 'ds_tasks/TSK-6D002AAE': 'Blocked', 'ds_tasks/TSK-139E76E6': 'In Progress', 'ds_tasks/TSK-1EC35081': 'Blocked', 'ds_tasks/TSK-74DF4453': 'In Progress', 'ds_tasks/TSK-4989D136': 'Completed', 'ds_tasks/TSK-D7B94EC9': 'In Progress', 'ds_tasks/TSK-E23C633E': 'Blocked', 'ds_tasks/TSK-855D95B6': 'Blocked', 'ds_tasks/TSK-E5FE227A': 'Blocked', 'ds_tasks/TSK-A9FC79CE': 'Completed', 'ds_tasks/TSK-A55F85D0': 'Blocked', 'ds_tasks/TSK-1356205C': 'In Progress', 'ds_tasks/TSK-B746A5B7': 'In Progress', 'ds_tasks/TSK-92ACEA8C': 'Completed', 'ds_tasks/TSK-9073F198': 'Completed', 'ds_tasks/TSK-34501DAC': 'Completed', 'ds_tasks/TSK-5510D3A9': 'In Progress', 'ds_tasks/TSK-F34D1882': 'In Progress', 'ds_tasks/TSK-4EBD67FD': 'In Progress', 'ds_tasks/TSK-0D0D0F73': 'Completed', 'ds_tasks/TSK-CE2CF100': 'In Progress', 'ds_tasks/TSK-FD4B906A': 'In Progress', 'ds_tasks/TSK-DACF3342': 'In Progress', 'ds_tasks/TSK-CC092721': 'In Progress', 'ds_tasks/TSK-A12A42C7': 'In Progress', 'ds_tasks/TSK-8849435A': 'In Progress', 'ds_tasks/TSK-5BC70421': 'In Progress', 'ds_tasks/TSK-8B768931': 'Completed', 'ds_tasks/TSK-7DE2A58D': 'Completed', 'ds_tasks/TSK-7A51B62D': 'In Progress', 'ds_tasks/TSK-97096B82': 'Completed', 'ds_tasks/TSK-FEDA370B': 'Completed', 'ds_tasks/TSK-41ED6E50': 'In Progress', 'ds_tasks/TSK-56A561D6': 'In Progress', 'ds_tasks/TSK-3A44E413': 'In Progress', 'ds_tasks/TSK-8EEB9C38': 'Blocked', 'ds_tasks/TSK-0FD1F8A0': 'Completed', 'ds_tasks/TSK-48103DF8': 'Completed', 'ds_tasks/TSK-71E122C6': 'In Progress', 'ds_tasks/TSK-57E6E7AA': 'Completed', 'ds_tasks/TSK-244A033D': 'In Progress'}\n",
      "Counter({'In Progress': 23, 'Completed': 17, 'Blocked': 9})\n"
     ]
    }
   ],
   "source": [
    "import random\n",
    "\n",
    "\n",
    "def assign_nodes(G):\n",
    "    layers = nx.topological_generations(G.copy())\n",
    "\n",
    "    assignment = {node: \"Planned\" for node in G.nodes}\n",
    "    completed_probability = 1\n",
    "    layers = [sorted(generation) for generation in layers]\n",
    "    length = len(layers)\n",
    "    for level, nodes in enumerate(layers):\n",
    "        for node in nodes:\n",
    "            bad = False\n",
    "            for _, out_neighbor in G.out_edges(node):\n",
    "                if assignment[out_neighbor] != \"Completed\":\n",
    "                    bad = True\n",
    "                    break\n",
    "            if bad:\n",
    "                continue\n",
    "            if random.random() < completed_probability:\n",
    "                if random.random() < 0.3:\n",
    "                    assignment[node] = \"Blocked\"\n",
    "                else:\n",
    "                    assignment[node] = \"In Progress\"\n",
    "            else:\n",
    "                \n",
    "                assignment[node] = \"Completed\"\n",
    "        completed_probability -= 1 / (length)\n",
    "\n",
    "    return assignment\n",
    "\n",
    "from collections import Counter\n",
    "assignment = assign_nodes(task_dep_graph)\n",
    "print(assignment)\n",
    "print(Counter(assignment.values()))\n"
   ]
  },
  {
   "cell_type": "code",
   "execution_count": null,
   "metadata": {},
   "outputs": [],
   "source": []
  },
  {
   "cell_type": "code",
   "execution_count": null,
   "metadata": {},
   "outputs": [],
   "source": []
  },
  {
   "cell_type": "code",
   "execution_count": null,
   "metadata": {},
   "outputs": [
    {
     "name": "stdout",
     "output_type": "stream",
     "text": [
      "Counter({'In Progress': 22, 'Blocked': 16, 'Completed': 11})\n"
     ]
    }
   ],
   "source": []
  }
 ],
 "metadata": {
  "colab": {
   "provenance": []
  },
  "kernelspec": {
   "display_name": "venv",
   "language": "python",
   "name": "python3"
  },
  "language_info": {
   "codemirror_mode": {
    "name": "ipython",
    "version": 3
   },
   "file_extension": ".py",
   "mimetype": "text/x-python",
   "name": "python",
   "nbconvert_exporter": "python",
   "pygments_lexer": "ipython3",
   "version": "3.11.0"
  }
 },
 "nbformat": 4,
 "nbformat_minor": 0
}
