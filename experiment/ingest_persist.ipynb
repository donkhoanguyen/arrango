{
 "cells": [
  {
   "cell_type": "code",
   "execution_count": 3,
   "metadata": {
    "colab": {
     "base_uri": "https://localhost:8080/"
    },
    "executionInfo": {
     "elapsed": 7349,
     "status": "ok",
     "timestamp": 1740969944546,
     "user": {
      "displayName": "Vuong Ho",
      "userId": "00142954554496901229"
     },
     "user_tz": 300
    },
    "id": "R3Alh9lB45la",
    "outputId": "857361ca-7798-4ecc-befb-9122a73fa59f"
   },
   "outputs": [
    {
     "name": "stdout",
     "output_type": "stream",
     "text": [
      "\u001b[?25l   \u001b[90m━━━━━━━━━━━━━━━━━━━━━━━━━━━━━━━━━━━━━━━━\u001b[0m \u001b[32m0.0/114.6 kB\u001b[0m \u001b[31m?\u001b[0m eta \u001b[36m-:--:--\u001b[0m\r\u001b[2K   \u001b[90m━━━━━━━━━━━━━━━━━━━━━━━━━━━━━━━━━━━━━━━━\u001b[0m \u001b[32m114.6/114.6 kB\u001b[0m \u001b[31m4.8 MB/s\u001b[0m eta \u001b[36m0:00:00\u001b[0m\n",
      "\u001b[?25h"
     ]
    }
   ],
   "source": [
    "# For langchain\n",
    "!pip install langchain-openai langchain-experimental -q\n",
    "\n",
    "# For ArangoDB\n",
    "!pip install python-arango -q"
   ]
  },
  {
   "cell_type": "code",
   "execution_count": 32,
   "metadata": {},
   "outputs": [
    {
     "name": "stdout",
     "output_type": "stream",
     "text": [
      "Collecting matplotlib\n",
      "  Downloading matplotlib-3.10.1-cp311-cp311-win_amd64.whl (8.1 MB)\n",
      "     ---------------------------------------- 8.1/8.1 MB 17.2 MB/s eta 0:00:00\n",
      "Collecting contourpy>=1.0.1\n",
      "  Downloading contourpy-1.3.1-cp311-cp311-win_amd64.whl (219 kB)\n",
      "     ------------------------------------- 219.8/219.8 kB 13.1 MB/s eta 0:00:00\n",
      "Collecting cycler>=0.10\n",
      "  Downloading cycler-0.12.1-py3-none-any.whl (8.3 kB)\n",
      "Collecting fonttools>=4.22.0\n",
      "  Downloading fonttools-4.56.0-cp311-cp311-win_amd64.whl (2.2 MB)\n",
      "     ---------------------------------------- 2.2/2.2 MB 23.3 MB/s eta 0:00:00\n",
      "Collecting kiwisolver>=1.3.1\n",
      "  Downloading kiwisolver-1.4.8-cp311-cp311-win_amd64.whl (71 kB)\n",
      "     ---------------------------------------- 72.0/72.0 kB ? eta 0:00:00\n",
      "Requirement already satisfied: numpy>=1.23 in g:\\other computers\\main\\college\\zextracurriculars\\hackathon\\arrango_backup\\venv\\lib\\site-packages (from matplotlib) (1.26.4)\n",
      "Requirement already satisfied: packaging>=20.0 in g:\\other computers\\main\\college\\zextracurriculars\\hackathon\\arrango_backup\\venv\\lib\\site-packages (from matplotlib) (24.2)\n",
      "Requirement already satisfied: pillow>=8 in g:\\other computers\\main\\college\\zextracurriculars\\hackathon\\arrango_backup\\venv\\lib\\site-packages (from matplotlib) (11.1.0)\n",
      "Collecting pyparsing>=2.3.1\n",
      "  Downloading pyparsing-3.2.1-py3-none-any.whl (107 kB)\n",
      "     ---------------------------------------- 107.7/107.7 kB ? eta 0:00:00\n",
      "Requirement already satisfied: python-dateutil>=2.7 in g:\\other computers\\main\\college\\zextracurriculars\\hackathon\\arrango_backup\\venv\\lib\\site-packages (from matplotlib) (2.9.0.post0)\n",
      "Requirement already satisfied: six>=1.5 in g:\\other computers\\main\\college\\zextracurriculars\\hackathon\\arrango_backup\\venv\\lib\\site-packages (from python-dateutil>=2.7->matplotlib) (1.17.0)\n",
      "Installing collected packages: pyparsing, kiwisolver, fonttools, cycler, contourpy, matplotlib\n",
      "Successfully installed contourpy-1.3.1 cycler-0.12.1 fonttools-4.56.0 kiwisolver-1.4.8 matplotlib-3.10.1 pyparsing-3.2.1\n"
     ]
    },
    {
     "name": "stderr",
     "output_type": "stream",
     "text": [
      "\n",
      "[notice] A new release of pip available: 22.3 -> 25.0.1\n",
      "[notice] To update, run: python.exe -m pip install --upgrade pip\n"
     ]
    }
   ],
   "source": [
    "!pip install matplotlib"
   ]
  },
  {
   "cell_type": "code",
   "execution_count": 24,
   "metadata": {
    "executionInfo": {
     "elapsed": 11,
     "status": "ok",
     "timestamp": 1740970157968,
     "user": {
      "displayName": "Vuong Ho",
      "userId": "00142954554496901229"
     },
     "user_tz": 300
    },
    "id": "7GoPIbTQ59DL"
   },
   "outputs": [],
   "source": [
    "import os\n",
    "\n",
    "os.environ[\"DATABASE_HOST\"] = \"https://b61c3b83bfe6.arangodb.cloud:8529\"\n",
    "os.environ[\"DATABASE_USERNAME\"] = \"root\"\n",
    "os.environ[\"DATABASE_PASSWORD\"] = \"RHr0KzkRUVlp61IisH8G\"\n",
    "os.environ[\"DATABASE_NAME\"] = \"DAC_devops_log\""
   ]
  },
  {
   "cell_type": "code",
   "execution_count": 25,
   "metadata": {
    "executionInfo": {
     "elapsed": 905,
     "status": "ok",
     "timestamp": 1740970164929,
     "user": {
      "displayName": "Vuong Ho",
      "userId": "00142954554496901229"
     },
     "user_tz": 300
    },
    "id": "UykzJypX5RcD"
   },
   "outputs": [],
   "source": [
    "from arango import ArangoClient\n",
    "import networkx as nx\n",
    "import nx_arangodb as nxadb\n",
    "\n",
    "db = ArangoClient(hosts=\"https://b61c3b83bfe6.arangodb.cloud:8529\") \\\n",
    "    .db(username=\"root\",\n",
    "        password=\"RHr0KzkRUVlp61IisH8G\",\n",
    "        name=\"DAC_devops_log\",\n",
    "        verify=True)"
   ]
  },
  {
   "cell_type": "markdown",
   "metadata": {},
   "source": []
  },
  {
   "cell_type": "code",
   "execution_count": 26,
   "metadata": {},
   "outputs": [
    {
     "name": "stderr",
     "output_type": "stream",
     "text": [
      "[00:27:50 -0500] [INFO]: Graph 'tasks_sprint1' exists.\n",
      "[00:27:50 -0500] [INFO]: Default node type set to 'task'\n"
     ]
    }
   ],
   "source": [
    "task_dep_graph = nxadb.DiGraph(name=\"tasks_sprint1\")"
   ]
  },
  {
   "cell_type": "code",
   "execution_count": 27,
   "metadata": {},
   "outputs": [
    {
     "name": "stdout",
     "output_type": "stream",
     "text": [
      "['task/TSK-5C2187CF', 'task/TSK-EBA1C369', 'task/TSK-C4D5CB75', 'task/TSK-A8A24727', 'task/TSK-CB292DC1', 'task/TSK-CB0C0404', 'task/TSK-29CE08AD', 'task/TSK-89BBB564', 'task/TSK-8CD3CA3E', 'task/TSK-A0500206', 'task/TSK-39885F7F', 'task/TSK-FAC99DF1', 'task/TSK-0E209EFC', 'task/TSK-0115FED3', 'task/TSK-255E6310', 'task/TSK-1AA8BEAF', 'task/TSK-5D974201', 'task/TSK-84305F2F', 'task/TSK-01D25D85', 'task/TSK-BE9555AC', 'task/TSK-B03EF789', 'task/TSK-BE4188D4', 'task/TSK-0985DBA9', 'task/TSK-59CE546C', 'task/TSK-C891B895', 'task/TSK-54F9521F', 'task/TSK-BBA87B09', 'task/TSK-514F6016', 'task/TSK-93F18D57', 'task/TSK-3D21853C', 'task/TSK-2B1FAB57', 'task/TSK-D5031D4A', 'task/TSK-DC3ED3E2', 'task/TSK-B600DD62', 'task/TSK-427652F3', 'task/TSK-0885F3E9', 'task/TSK-1FE396B7', 'task/TSK-19A45EE8', 'task/TSK-E6CFDD02', 'task/TSK-7E9F09A9', 'task/TSK-736E3B28', 'task/TSK-4A3587C9', 'task/TSK-2970AC03', 'task/TSK-E2842052', 'task/TSK-E2E87C0B', 'task/TSK-983C30DC', 'task/TSK-10847035', 'task/TSK-AE8CFDEC', 'task/TSK-89806FDF', 'task/TSK-3BA37747', 'task/TSK-FAAA4D51', 'task/TSK-85D5D00C', 'task/TSK-F567DBE1', 'task/TSK-4D677758', 'task/TSK-DA566BCB', 'task/TSK-1B43CB90', 'task/TSK-FEA63216', 'task/TSK-AAF06E6A', 'task/TSK-FD3B1EFF', 'task/TSK-5A434477', 'task/TSK-991E6E11', 'task/TSK-F51C17B5', 'task/TSK-795E9201', 'task/TSK-1A209469', 'task/TSK-FBED5511', 'task/TSK-A0CCA417', 'task/TSK-41ECEB44', 'task/TSK-2179FF75', 'task/TSK-3941DB43', 'task/TSK-763CE1C3', 'task/TSK-46138F7D', 'task/TSK-0AEE35B2', 'task/TSK-89754CBF', 'task/TSK-42E44473', 'task/TSK-91119F5B', 'task/TSK-977CB080', 'task/TSK-E73A7D25', 'task/TSK-FB3E490E', 'task/TSK-A3E27D20', 'task/TSK-C2D38D23', 'task/TSK-FBD87AD9', 'task/TSK-2F459E7F', 'task/TSK-F7E19B69', 'task/TSK-A6994DD6', 'task/TSK-98C9448B', 'task/TSK-C440EB07', 'task/TSK-CAFF3B09', 'task/TSK-B3B5A8F6', 'task/TSK-30DBEA24', 'task/TSK-DFB54467']\n"
     ]
    }
   ],
   "source": [
    "print(task_dep_graph.nodes)"
   ]
  },
  {
   "cell_type": "code",
   "execution_count": 17,
   "metadata": {},
   "outputs": [
    {
     "name": "stdout",
     "output_type": "stream",
     "text": [
      "<Cursor>\n",
      "{'_key': 'TSK-FAC99DF1', '_id': 'task/TSK-FAC99DF1', '_rev': '_jTkZs4q--_', 'TaskID': 'TSK-FAC99DF1', 'Description': 'Deployment to production environment', 'StoryPoints': '5', 'Status': 'Planned', 'size': 10, 'duration': 5}\n",
      "{'_key': 'TSK-E2842052', '_id': 'task/TSK-E2842052', '_rev': '_jTkZtFi--A', 'TaskID': 'TSK-E2842052', 'Description': 'Performing a performance test on the server', 'StoryPoints': '7', 'Status': 'Planned', 'size': 10, 'duration': 7}\n",
      "{'_key': 'TSK-FAAA4D51', '_id': 'task/TSK-FAAA4D51', '_rev': '_jTkZtUe---', 'TaskID': 'TSK-FAAA4D51', 'Description': 'Conduct initial data analysis to identify data types, data volume, and data anomalies', 'StoryPoints': '3', 'Status': 'Planned', 'size': 10, 'duration': 3}\n",
      "{'_key': 'TSK-A3E27D20', '_id': 'task/TSK-A3E27D20', '_rev': '_jTkZtky--_', 'TaskID': 'TSK-A3E27D20', 'Description': 'Preparation for deployment', 'StoryPoints': '2', 'Status': 'Planned', 'size': 10, 'duration': 2}\n",
      "{'_key': 'TSK-C440EB07', '_id': 'task/TSK-C440EB07', '_rev': '_jTkZtqi--_', 'TaskID': 'TSK-C440EB07', 'Description': 'Perform user acceptance testing and gather feedback', 'StoryPoints': '3', 'Status': 'Planned', 'size': 10, 'duration': 3}\n",
      "{'_key': 'TSK-3BA37747', '_id': 'task/TSK-3BA37747', '_rev': '_jTkZtwO--_', 'TaskID': 'TSK-3BA37747', 'Description': 'Performance testing and optimization', 'StoryPoints': '8', 'Status': 'Planned', 'size': 10, 'duration': 8}\n",
      "{'_key': 'TSK-E73A7D25', '_id': 'task/TSK-E73A7D25', '_rev': '_jTkZt12--A', 'TaskID': 'TSK-E73A7D25', 'Description': 'Post-deployment monitoring and issue resolution', 'StoryPoints': '5', 'Status': 'Planned', 'size': 10, 'duration': 5}\n",
      "{'_key': 'TSK-F7E19B69', '_id': 'task/TSK-F7E19B69', '_rev': '_jTkZt9G--_', 'TaskID': 'TSK-F7E19B69', 'Description': 'Setting up the logging and monitoring system', 'StoryPoints': '7', 'Status': 'Planned', 'size': 10, 'duration': 7}\n",
      "{'_key': 'TSK-10847035', '_id': 'task/TSK-10847035', '_rev': '_jTkZuEi--A', 'TaskID': 'TSK-10847035', 'Description': 'Configuring network settings for server', 'StoryPoints': '5', 'Status': 'Planned', 'size': 10, 'duration': 5}\n",
      "{'_key': 'TSK-91119F5B', '_id': 'task/TSK-91119F5B', '_rev': '_jTkZuKu--_', 'TaskID': 'TSK-91119F5B', 'Description': 'Develop and implement a plan for system backup and recovery', 'StoryPoints': '5', 'Status': 'Planned', 'size': 10, 'duration': 5}\n",
      "{'_key': 'TSK-991E6E11', '_id': 'task/TSK-991E6E11', '_rev': '_jTkZuQe--A', 'TaskID': 'TSK-991E6E11', 'Description': 'Reviewing and improving security measures', 'StoryPoints': '5', 'Status': 'Planned', 'size': 10, 'duration': 5}\n",
      "{'_key': 'TSK-2F459E7F', '_id': 'task/TSK-2F459E7F', '_rev': '_jTkZuWi--A', 'TaskID': 'TSK-2F459E7F', 'Description': 'Execute data migration cutover', 'StoryPoints': '13', 'Status': 'Planned', 'size': 10, 'duration': 13}\n",
      "{'_key': 'TSK-89754CBF', '_id': 'task/TSK-89754CBF', '_rev': '_jTkZucq--A', 'TaskID': 'TSK-89754CBF', 'Description': 'Develop rollback strategy in case of migration failure', 'StoryPoints': '3', 'Status': 'Planned', 'size': 10, 'duration': 3}\n",
      "{'_key': 'TSK-A6994DD6', '_id': 'task/TSK-A6994DD6', '_rev': '_jTkZumy--A', 'TaskID': 'TSK-A6994DD6', 'Description': 'User acceptance testing', 'StoryPoints': '3', 'Status': 'Planned', 'size': 10, 'duration': 3}\n",
      "{'_key': 'TSK-D5031D4A', '_id': 'task/TSK-D5031D4A', '_rev': '_jTkZut---_', 'TaskID': 'TSK-D5031D4A', 'Description': 'Create documentation for new data and system architecture', 'StoryPoints': '2', 'Status': 'Planned', 'size': 10, 'duration': 2}\n",
      "{'_key': 'TSK-2B1FAB57', '_id': 'task/TSK-2B1FAB57', '_rev': '_jTkZuy2--_', 'TaskID': 'TSK-2B1FAB57', 'Description': 'Implementation of payment gateway', 'StoryPoints': '13', 'Status': 'Planned', 'size': 10, 'duration': 13}\n",
      "{'_key': 'TSK-CB292DC1', '_id': 'task/TSK-CB292DC1', '_rev': '_jTkZu4u--A', 'TaskID': 'TSK-CB292DC1', 'Description': 'Setting up continuous integration/continuous deployment (CI/CD) tools', 'StoryPoints': '9', 'Status': 'Planned', 'size': 10, 'duration': 9}\n",
      "{'_key': 'TSK-DC3ED3E2', '_id': 'task/TSK-DC3ED3E2', '_rev': '_jTkZv-2--A', 'TaskID': 'TSK-DC3ED3E2', 'Description': 'Setting up a production environment', 'StoryPoints': '10', 'Status': 'Planned', 'size': 10, 'duration': 10}\n",
      "{'_key': 'TSK-E2E87C0B', '_id': 'task/TSK-E2E87C0B', '_rev': '_jTkZvFS--_', 'TaskID': 'TSK-E2E87C0B', 'Description': 'Identify and fix any data discrepancies', 'StoryPoints': '5', 'Status': 'Planned', 'size': 10, 'duration': 5}\n",
      "{'_key': 'TSK-98C9448B', '_id': 'task/TSK-98C9448B', '_rev': '_jTkZvK2--_', 'TaskID': 'TSK-98C9448B', 'Description': 'Creation of project timeline and task allocation', 'StoryPoints': '3', 'Status': 'Planned', 'size': 10, 'duration': 3}\n",
      "{'_key': 'TSK-A0CCA417', '_id': 'task/TSK-A0CCA417', '_rev': '_jTkZvVO--_', 'TaskID': 'TSK-A0CCA417', 'Description': 'Setting up the server’s firewall and security settings', 'StoryPoints': '7', 'Status': 'Planned', 'size': 10, 'duration': 7}\n",
      "{'_key': 'TSK-0885F3E9', '_id': 'task/TSK-0885F3E9', '_rev': '_jTkZvb---_', 'TaskID': 'TSK-0885F3E9', 'Description': 'Perform post-migration data validation', 'StoryPoints': '8', 'Status': 'Planned', 'size': 10, 'duration': 8}\n",
      "{'_key': 'TSK-BE4188D4', '_id': 'task/TSK-BE4188D4', '_rev': '_jTkZvlu--A', 'TaskID': 'TSK-BE4188D4', 'Description': 'Setting up monitoring and alerts for the live application', 'StoryPoints': '5', 'Status': 'Planned', 'size': 10, 'duration': 5}\n",
      "{'_key': 'TSK-BE9555AC', '_id': 'task/TSK-BE9555AC', '_rev': '_jTkZv0e--A', 'TaskID': 'TSK-BE9555AC', 'Description': 'Setting up a system for tracking software bugs', 'StoryPoints': '5', 'Status': 'Planned', 'size': 10, 'duration': 5}\n",
      "{'_key': 'TSK-42E44473', '_id': 'task/TSK-42E44473', '_rev': '_jTkZv6y--_', 'TaskID': 'TSK-42E44473', 'Description': 'Identify data dependencies within the existing system', 'StoryPoints': '5', 'Status': 'Planned', 'size': 10, 'duration': 5}\n",
      "{'_key': 'TSK-FB3E490E', '_id': 'task/TSK-FB3E490E', '_rev': '_jTkZwAe--_', 'TaskID': 'TSK-FB3E490E', 'Description': 'Configuring caching for the server', 'StoryPoints': '7', 'Status': 'Planned', 'size': 10, 'duration': 7}\n",
      "{'_key': 'TSK-7E9F09A9', '_id': 'task/TSK-7E9F09A9', '_rev': '_jTkZwHO--A', 'TaskID': 'TSK-7E9F09A9', 'Description': 'Refine ETL pipeline based on test results', 'StoryPoints': '5', 'Status': 'Planned', 'size': 10, 'duration': 5}\n",
      "{'_key': 'TSK-B600DD62', '_id': 'task/TSK-B600DD62', '_rev': '_jTkZwM2--A', 'TaskID': 'TSK-B600DD62', 'Description': 'Create a plan for incremental data updates', 'StoryPoints': '5', 'Status': 'Planned', 'size': 10, 'duration': 5}\n",
      "{'_key': 'TSK-8CD3CA3E', '_id': 'task/TSK-8CD3CA3E', '_rev': '_jTkZwSa--_', 'TaskID': 'TSK-8CD3CA3E', 'Description': 'Test the ETL pipeline on a subset of data', 'StoryPoints': '5', 'Status': 'Planned', 'size': 10, 'duration': 5}\n",
      "{'_key': 'TSK-977CB080', '_id': 'task/TSK-977CB080', '_rev': '_jTkZwYG---', 'TaskID': 'TSK-977CB080', 'Description': 'Setting up automatic database backup', 'StoryPoints': '8', 'Status': 'Planned', 'size': 10, 'duration': 8}\n",
      "{'_key': 'TSK-30DBEA24', '_id': 'task/TSK-30DBEA24', '_rev': '_jTkZwdu--_', 'TaskID': 'TSK-30DBEA24', 'Description': 'Automating tests and setup of test environments', 'StoryPoints': '8', 'Status': 'Planned', 'size': 10, 'duration': 8}\n",
      "{'_key': 'TSK-85D5D00C', '_id': 'task/TSK-85D5D00C', '_rev': '_jTkZwni--_', 'TaskID': 'TSK-85D5D00C', 'Description': 'Front-end design mockup creation', 'StoryPoints': '3', 'Status': 'Planned', 'size': 10, 'duration': 3}\n",
      "{'_key': 'TSK-AAF06E6A', '_id': 'task/TSK-AAF06E6A', '_rev': '_jTkZwtO--_', 'TaskID': 'TSK-AAF06E6A', 'Description': 'Final review and approval of the project', 'StoryPoints': '2', 'Status': 'Planned', 'size': 10, 'duration': 2}\n",
      "{'_key': 'TSK-C891B895', '_id': 'task/TSK-C891B895', '_rev': '_jTkZwy6---', 'TaskID': 'TSK-C891B895', 'Description': 'Back-end application design', 'StoryPoints': '5', 'Status': 'Planned', 'size': 10, 'duration': 5}\n",
      "{'_key': 'TSK-F567DBE1', '_id': 'task/TSK-F567DBE1', '_rev': '_jTkZw5---_', 'TaskID': 'TSK-F567DBE1', 'Description': 'Design the schema for the new system based on data analysis outcomes', 'StoryPoints': '8', 'Status': 'Planned', 'size': 10, 'duration': 8}\n",
      "{'_key': 'TSK-3941DB43', '_id': 'task/TSK-3941DB43', '_rev': '_jTkZx_---A', 'TaskID': 'TSK-3941DB43', 'Description': 'Develop a plan for ongoing data management', 'StoryPoints': '3', 'Status': 'Planned', 'size': 10, 'duration': 3}\n",
      "{'_key': 'TSK-EBA1C369', '_id': 'task/TSK-EBA1C369', '_rev': '_jTkZxNK--A', 'TaskID': 'TSK-EBA1C369', 'Description': 'Design preliminary data migration strategy', 'StoryPoints': '3', 'Status': 'Planned', 'size': 10, 'duration': 3}\n",
      "{'_key': 'TSK-1AA8BEAF', '_id': 'task/TSK-1AA8BEAF', '_rev': '_jTkZxYe--_', 'TaskID': 'TSK-1AA8BEAF', 'Description': 'Develop training materials for the new system', 'StoryPoints': '2', 'Status': 'Planned', 'size': 10, 'duration': 2}\n",
      "{'_key': 'TSK-54F9521F', '_id': 'task/TSK-54F9521F', '_rev': '_jTkZxeC--_', 'TaskID': 'TSK-54F9521F', 'Description': 'Bug fixing after user acceptance testing', 'StoryPoints': '5', 'Status': 'Planned', 'size': 10, 'duration': 5}\n",
      "{'_key': 'TSK-C4D5CB75', '_id': 'task/TSK-C4D5CB75', '_rev': '_jTkZxzm--_', 'TaskID': 'TSK-C4D5CB75', 'Description': 'Configuring SSL for secure communication', 'StoryPoints': '6', 'Status': 'Planned', 'size': 10, 'duration': 6}\n",
      "{'_key': 'TSK-5C2187CF', '_id': 'task/TSK-5C2187CF', '_rev': '_jTkZx6K--A', 'TaskID': 'TSK-5C2187CF', 'Description': 'Integration of front-end and back-end', 'StoryPoints': '5', 'Status': 'Planned', 'size': 10, 'duration': 5}\n",
      "{'_key': 'TSK-0115FED3', '_id': 'task/TSK-0115FED3', '_rev': '_jTkZy_u--A', 'TaskID': 'TSK-0115FED3', 'Description': 'Configuring the build and deployment pipelines', 'StoryPoints': '10', 'Status': 'Planned', 'size': 10, 'duration': 10}\n",
      "{'_key': 'TSK-FEA63216', '_id': 'task/TSK-FEA63216', '_rev': '_jTkZyKe--_', 'TaskID': 'TSK-FEA63216', 'Description': 'Creating documentation for the setup process', 'StoryPoints': '4', 'Status': 'Planned', 'size': 10, 'duration': 4}\n",
      "{'_key': 'TSK-59CE546C', '_id': 'task/TSK-59CE546C', '_rev': '_jTkZyQy---', 'TaskID': 'TSK-59CE546C', 'Description': 'Development of user profile management features', 'StoryPoints': '8', 'Status': 'Planned', 'size': 10, 'duration': 8}\n",
      "{'_key': 'TSK-C2D38D23', '_id': 'task/TSK-C2D38D23', '_rev': '_jTkZyX---A', 'TaskID': 'TSK-C2D38D23', 'Description': 'Create a data migration cutover plan', 'StoryPoints': '2', 'Status': 'Planned', 'size': 10, 'duration': 2}\n",
      "{'_key': 'TSK-E6CFDD02', '_id': 'task/TSK-E6CFDD02', '_rev': '_jTkZycu--A', 'TaskID': 'TSK-E6CFDD02', 'Description': 'Development of database schema', 'StoryPoints': '5', 'Status': 'Planned', 'size': 10, 'duration': 5}\n",
      "{'_key': 'TSK-DFB54467', '_id': 'task/TSK-DFB54467', '_rev': '_jTkZyii--_', 'TaskID': 'TSK-DFB54467', 'Description': 'Analyze dry run results and make necessary adjustments', 'StoryPoints': '5', 'Status': 'Planned', 'size': 10, 'duration': 5}\n",
      "{'_key': 'TSK-BBA87B09', '_id': 'task/TSK-BBA87B09', '_rev': '_jTkZyqq--_', 'TaskID': 'TSK-BBA87B09', 'Description': 'Configuring server for scalability', 'StoryPoints': '9', 'Status': 'Planned', 'size': 10, 'duration': 9}\n",
      "{'_key': 'TSK-93F18D57', '_id': 'task/TSK-93F18D57', '_rev': '_jTkZywW--_', 'TaskID': 'TSK-93F18D57', 'Description': 'Setting up a test environment for QA', 'StoryPoints': '6', 'Status': 'Planned', 'size': 10, 'duration': 6}\n",
      "{'_key': 'TSK-514F6016', '_id': 'task/TSK-514F6016', '_rev': '_jTkZy2O---', 'TaskID': 'TSK-514F6016', 'Description': 'Designing and implementing backup and disaster recovery plan', 'StoryPoints': '8', 'Status': 'Planned', 'size': 10, 'duration': 8}\n",
      "{'_key': 'TSK-AE8CFDEC', '_id': 'task/TSK-AE8CFDEC', '_rev': '_jTkZy8---A', 'TaskID': 'TSK-AE8CFDEC', 'Description': 'Creating user accounts for project team', 'StoryPoints': '3', 'Status': 'Planned', 'size': 10, 'duration': 3}\n",
      "{'_key': 'TSK-B3B5A8F6', '_id': 'task/TSK-B3B5A8F6', '_rev': '_jTkZzCu--_', 'TaskID': 'TSK-B3B5A8F6', 'Description': 'Implementing load balancing for the server', 'StoryPoints': '11', 'Status': 'Planned', 'size': 10, 'duration': 11}\n",
      "{'_key': 'TSK-FD3B1EFF', '_id': 'task/TSK-FD3B1EFF', '_rev': '_jTkZzLS--_', 'TaskID': 'TSK-FD3B1EFF', 'Description': 'Testing server accessibility and network connectivity', 'StoryPoints': '4', 'Status': 'Planned', 'size': 10, 'duration': 4}\n",
      "{'_key': 'TSK-4D677758', '_id': 'task/TSK-4D677758', '_rev': '_jTkZzVe--_', 'TaskID': 'TSK-4D677758', 'Description': 'Documentation of project and code', 'StoryPoints': '2', 'Status': 'Planned', 'size': 10, 'duration': 2}\n",
      "{'_key': 'TSK-0AEE35B2', '_id': 'task/TSK-0AEE35B2', '_rev': '_jTkZzkG--A', 'TaskID': 'TSK-0AEE35B2', 'Description': 'Setting up automated testing tools', 'StoryPoints': '8', 'Status': 'Planned', 'size': 10, 'duration': 8}\n",
      "{'_key': 'TSK-39885F7F', '_id': 'task/TSK-39885F7F', '_rev': '_jTkZz0u--_', 'TaskID': 'TSK-39885F7F', 'Description': 'Setting up backup and recovery processes', 'StoryPoints': '8', 'Status': 'Planned', 'size': 10, 'duration': 8}\n",
      "{'_key': 'TSK-0E209EFC', '_id': 'task/TSK-0E209EFC', '_rev': '_jTkZz7C---', 'TaskID': 'TSK-0E209EFC', 'Description': 'Prepare the system for data migration cutover', 'StoryPoints': '3', 'Status': 'Planned', 'size': 10, 'duration': 3}\n",
      "{'_key': 'TSK-DA566BCB', '_id': 'task/TSK-DA566BCB', '_rev': '_jTkZ0Ai--A', 'TaskID': 'TSK-DA566BCB', 'Description': 'Maintenance and regular update of the application', 'StoryPoints': '5', 'Status': 'Planned', 'size': 10, 'duration': 5}\n",
      "{'_key': 'TSK-A8A24727', '_id': 'task/TSK-A8A24727', '_rev': '_jTkZ0GS---', 'TaskID': 'TSK-A8A24727', 'Description': 'Design of application architecture', 'StoryPoints': '5', 'Status': 'Planned', 'size': 10, 'duration': 5}\n",
      "{'_key': 'TSK-1B43CB90', '_id': 'task/TSK-1B43CB90', '_rev': '_jTkZ0Nu--A', 'TaskID': 'TSK-1B43CB90', 'Description': 'Installing the necessary software on server', 'StoryPoints': '6', 'Status': 'Planned', 'size': 10, 'duration': 6}\n",
      "{'_key': 'TSK-F51C17B5', '_id': 'task/TSK-F51C17B5', '_rev': '_jTkZ0TO--_', 'TaskID': 'TSK-F51C17B5', 'Description': 'Setting up API endpoints', 'StoryPoints': '8', 'Status': 'Planned', 'size': 10, 'duration': 8}\n",
      "{'_key': 'TSK-FBD87AD9', '_id': 'task/TSK-FBD87AD9', '_rev': '_jTkZ0ZC--_', 'TaskID': 'TSK-FBD87AD9', 'Description': 'Implement data validation checks in the ETL pipeline', 'StoryPoints': '8', 'Status': 'Planned', 'size': 10, 'duration': 8}\n",
      "{'_key': 'TSK-5A434477', '_id': 'task/TSK-5A434477', '_rev': '_jTkZ0eq---', 'TaskID': 'TSK-5A434477', 'Description': 'Develop initial data transformation plan based on schema design', 'StoryPoints': '5', 'Status': 'Planned', 'size': 10, 'duration': 5}\n",
      "{'_key': 'TSK-41ECEB44', '_id': 'task/TSK-41ECEB44', '_rev': '_jTkZ0kK--_', 'TaskID': 'TSK-41ECEB44', 'Description': 'Setting up continuous integration and continuous deployment (CI/CD)', 'StoryPoints': '8', 'Status': 'Planned', 'size': 10, 'duration': 8}\n",
      "{'_key': 'TSK-CB0C0404', '_id': 'task/TSK-CB0C0404', '_rev': '_jTkZ0pu--_', 'TaskID': 'TSK-CB0C0404', 'Description': 'Initial project setup and configuration', 'StoryPoints': '2', 'Status': 'Planned', 'size': 10, 'duration': 2}\n",
      "{'_key': 'TSK-46138F7D', '_id': 'task/TSK-46138F7D', '_rev': '_jTkZ0vS---', 'TaskID': 'TSK-46138F7D', 'Description': 'Provide training to end-users on the new system', 'StoryPoints': '2', 'Status': 'Planned', 'size': 10, 'duration': 2}\n",
      "{'_key': 'TSK-89806FDF', '_id': 'task/TSK-89806FDF', '_rev': '_jTkZ01G--A', 'TaskID': 'TSK-89806FDF', 'Description': 'Create and execute a plan for ongoing data quality checks', 'StoryPoints': '8', 'Status': 'Planned', 'size': 10, 'duration': 8}\n",
      "{'_key': 'TSK-427652F3', '_id': 'task/TSK-427652F3', '_rev': '_jTkZ06q--A', 'TaskID': 'TSK-427652F3', 'Description': 'Development of reporting functionality', 'StoryPoints': '5', 'Status': 'Planned', 'size': 10, 'duration': 5}\n",
      "{'_key': 'TSK-795E9201', '_id': 'task/TSK-795E9201', '_rev': '_jTkZ1IG--A', 'TaskID': 'TSK-795E9201', 'Description': 'Setting up the server environment', 'StoryPoints': '8', 'Status': 'Planned', 'size': 10, 'duration': 8}\n",
      "{'_key': 'TSK-29CE08AD', '_id': 'task/TSK-29CE08AD', '_rev': '_jTkZ1OK--_', 'TaskID': 'TSK-29CE08AD', 'Description': 'Update data dictionary and data models', 'StoryPoints': '2', 'Status': 'Planned', 'size': 10, 'duration': 2}\n",
      "{'_key': 'TSK-255E6310', '_id': 'task/TSK-255E6310', '_rev': '_jTkZ1a2--A', 'TaskID': 'TSK-255E6310', 'Description': 'Development of search functionality', 'StoryPoints': '5', 'Status': 'Planned', 'size': 10, 'duration': 5}\n",
      "{'_key': 'TSK-5D974201', '_id': 'task/TSK-5D974201', '_rev': '_jTkZ1hG--A', 'TaskID': 'TSK-5D974201', 'Description': 'Conduct a final review of data migration and provide a comprehensive report', 'StoryPoints': '3', 'Status': 'Planned', 'size': 10, 'duration': 3}\n",
      "{'_key': 'TSK-3D21853C', '_id': 'task/TSK-3D21853C', '_rev': '_jTkZ1my--_', 'TaskID': 'TSK-3D21853C', 'Description': 'Setting up the incident alert system', 'StoryPoints': '6', 'Status': 'Planned', 'size': 10, 'duration': 6}\n",
      "{'_key': 'TSK-84305F2F', '_id': 'task/TSK-84305F2F', '_rev': '_jTkZ1su---', 'TaskID': 'TSK-84305F2F', 'Description': 'Training of end-users', 'StoryPoints': '3', 'Status': 'Planned', 'size': 10, 'duration': 3}\n",
      "{'_key': 'TSK-89BBB564', '_id': 'task/TSK-89BBB564', '_rev': '_jTkZ1yO---', 'TaskID': 'TSK-89BBB564', 'Description': 'Refine ETL processes based on post-migration validation results', 'StoryPoints': '8', 'Status': 'Planned', 'size': 10, 'duration': 8}\n",
      "{'_key': 'TSK-2970AC03', '_id': 'task/TSK-2970AC03', '_rev': '_jTkZ13y---', 'TaskID': 'TSK-2970AC03', 'Description': 'Performing a stress test on the server', 'StoryPoints': '7', 'Status': 'Planned', 'size': 10, 'duration': 7}\n",
      "{'_key': 'TSK-0985DBA9', '_id': 'task/TSK-0985DBA9', '_rev': '_jTkZ19W--A', 'TaskID': 'TSK-0985DBA9', 'Description': 'Develop a data validation plan', 'StoryPoints': '2', 'Status': 'Planned', 'size': 10, 'duration': 2}\n",
      "{'_key': 'TSK-4A3587C9', '_id': 'task/TSK-4A3587C9', '_rev': '_jTkZ2C2--_', 'TaskID': 'TSK-4A3587C9', 'Description': 'Setting up the version control system', 'StoryPoints': '5', 'Status': 'Planned', 'size': 10, 'duration': 5}\n",
      "{'_key': 'TSK-CAFF3B09', '_id': 'task/TSK-CAFF3B09', '_rev': '_jTkZ2Ii--A', 'TaskID': 'TSK-CAFF3B09', 'Description': 'Initial testing and bug fixing', 'StoryPoints': '5', 'Status': 'Planned', 'size': 10, 'duration': 5}\n",
      "{'_key': 'TSK-FBED5511', '_id': 'task/TSK-FBED5511', '_rev': '_jTkZ2OG--_', 'TaskID': 'TSK-FBED5511', 'Description': 'Configure DNS settings for the server', 'StoryPoints': '4', 'Status': 'Planned', 'size': 10, 'duration': 4}\n",
      "{'_key': 'TSK-1A209469', '_id': 'task/TSK-1A209469', '_rev': '_jTkZ2Tm--_', 'TaskID': 'TSK-1A209469', 'Description': 'Setting up database replication', 'StoryPoints': '9', 'Status': 'Planned', 'size': 10, 'duration': 9}\n",
      "{'_key': 'TSK-2179FF75', '_id': 'task/TSK-2179FF75', '_rev': '_jTkZ2Zq--_', 'TaskID': 'TSK-2179FF75', 'Description': 'Performing a security audit of the server', 'StoryPoints': '7', 'Status': 'Planned', 'size': 10, 'duration': 7}\n",
      "{'_key': 'TSK-A0500206', '_id': 'task/TSK-A0500206', '_rev': '_jTkZ2fO--A', 'TaskID': 'TSK-A0500206', 'Description': 'Create an ETL pipeline for the initial batch of data', 'StoryPoints': '8', 'Status': 'Planned', 'size': 10, 'duration': 8}\n",
      "{'_key': 'TSK-736E3B28', '_id': 'task/TSK-736E3B28', '_rev': '_jTkZ2lC--A', 'TaskID': 'TSK-736E3B28', 'Description': 'Training the team on the new system and processes', 'StoryPoints': '6', 'Status': 'Planned', 'size': 10, 'duration': 6}\n",
      "{'_key': 'TSK-983C30DC', '_id': 'task/TSK-983C30DC', '_rev': '_jTkZ2qm--_', 'TaskID': 'TSK-983C30DC', 'Description': 'Development of user authentication module', 'StoryPoints': '8', 'Status': 'Planned', 'size': 10, 'duration': 8}\n",
      "{'_key': 'TSK-1FE396B7', '_id': 'task/TSK-1FE396B7', '_rev': '_jTkZ2xW--_', 'TaskID': 'TSK-1FE396B7', 'Description': 'Setting up a staging environment', 'StoryPoints': '8', 'Status': 'Planned', 'size': 10, 'duration': 8}\n",
      "{'_key': 'TSK-01D25D85', '_id': 'task/TSK-01D25D85', '_rev': '_jTkZ226--_', 'TaskID': 'TSK-01D25D85', 'Description': 'Implementation of data encryption for user data', 'StoryPoints': '8', 'Status': 'Planned', 'size': 10, 'duration': 8}\n",
      "{'_key': 'TSK-763CE1C3', '_id': 'task/TSK-763CE1C3', '_rev': '_jTkZ3-2--_', 'TaskID': 'TSK-763CE1C3', 'Description': 'Implementation of user interface based on mockup', 'StoryPoints': '8', 'Status': 'Planned', 'size': 10, 'duration': 8}\n",
      "{'_key': 'TSK-19A45EE8', '_id': 'task/TSK-19A45EE8', '_rev': '_jTkZ3Eu--_', 'TaskID': 'TSK-19A45EE8', 'Description': 'Monitor system performance after migration', 'StoryPoints': '2', 'Status': 'Planned', 'size': 10, 'duration': 2}\n",
      "{'_key': 'TSK-B03EF789', '_id': 'task/TSK-B03EF789', '_rev': '_jTkZ3Ka--A', 'TaskID': 'TSK-B03EF789', 'Description': 'Perform full data migration dry run', 'StoryPoints': '13', 'Status': 'Planned', 'size': 10, 'duration': 13}\n"
     ]
    }
   ],
   "source": [
    "task_col = db.collection(\"task\")\n",
    "\n",
    "print(task_col.all())\n",
    "for task in task_col.all():\n",
    "    print(task)"
   ]
  },
  {
   "cell_type": "code",
   "execution_count": 11,
   "metadata": {},
   "outputs": [],
   "source": [
    "from collections import deque\n",
    "\n",
    "\n",
    "def layered_topo_sort(G):\n",
    "    \"\"\"\n",
    "    Performs a topological sort on a directed acyclic graph (DAG) using the peeling technique.\n",
    "    \n",
    "    :param G: Directed graph (DiGraph) from NetworkX\n",
    "    :return: A list of layers, where each layer is a list of nodes.\n",
    "    \"\"\"\n",
    "    # Ensure the graph is a DAG\n",
    "    if not nx.is_directed_acyclic_graph(G):\n",
    "        raise ValueError(\"The graph is not a Directed Acyclic Graph (DAG)\")\n",
    "    \n",
    "    # In-degree calculation: count the number of incoming edges for each node\n",
    "    in_degree = {node: G.in_degree(node) for node in G.nodes}\n",
    "    \n",
    "    layers = []\n",
    "    \n",
    "    # Use a queue to keep track of nodes with zero in-degree (ready to be processed)\n",
    "    queue = deque([node for node, degree in in_degree.items() if degree == 0])\n",
    "    \n",
    "    while queue:\n",
    "        layer = []\n",
    "        \n",
    "        # Process all nodes with zero in-degree at the current level\n",
    "        for _ in range(len(queue)):\n",
    "            node = queue.popleft()\n",
    "            layer.append(node)\n",
    "            \n",
    "            # For all outgoing edges, reduce in-degree of target nodes\n",
    "            for neighbor in G.neighbors(node):\n",
    "                in_degree[neighbor] -= 1\n",
    "                if in_degree[neighbor] == 0:\n",
    "                    queue.append(neighbor)\n",
    "        \n",
    "        # Add the processed layer to the result\n",
    "        layers.append(layer)\n",
    "    \n",
    "    return layers"
   ]
  },
  {
   "cell_type": "code",
   "execution_count": 15,
   "metadata": {},
   "outputs": [
    {
     "name": "stdout",
     "output_type": "stream",
     "text": [
      "[]\n"
     ]
    }
   ],
   "source": [
    "print(task_dep_graph.nodes)"
   ]
  },
  {
   "cell_type": "code",
   "execution_count": 12,
   "metadata": {},
   "outputs": [],
   "source": [
    "layered_sort = layered_topo_sort(task_dep_graph)"
   ]
  },
  {
   "cell_type": "code",
   "execution_count": 10,
   "metadata": {},
   "outputs": [
    {
     "ename": "IndexError",
     "evalue": "list index out of range",
     "output_type": "error",
     "traceback": [
      "\u001b[31m---------------------------------------------------------------------------\u001b[39m",
      "\u001b[31mIndexError\u001b[39m                                Traceback (most recent call last)",
      "\u001b[36mCell\u001b[39m\u001b[36m \u001b[39m\u001b[32mIn[10]\u001b[39m\u001b[32m, line 1\u001b[39m\n\u001b[32m----> \u001b[39m\u001b[32m1\u001b[39m \u001b[38;5;28mprint\u001b[39m(\u001b[43mlayered_sort\u001b[49m\u001b[43m[\u001b[49m\u001b[32;43m0\u001b[39;49m\u001b[43m]\u001b[49m)\n",
      "\u001b[31mIndexError\u001b[39m: list index out of range"
     ]
    }
   ],
   "source": [
    "print(layered_sort[0])"
   ]
  },
  {
   "cell_type": "code",
   "execution_count": 22,
   "metadata": {},
   "outputs": [
    {
     "data": {
      "text/plain": [
       "InEdgeDataView([('task/TSK-29CE08AD', 'task/TSK-5A434477'), ('task/TSK-0985DBA9', 'task/TSK-5A434477'), ('task/TSK-A0500206', 'task/TSK-5A434477'), ('task/TSK-B03EF789', 'task/TSK-5A434477'), ('task/TSK-FBD87AD9', 'task/TSK-5A434477')])"
      ]
     },
     "execution_count": 22,
     "metadata": {},
     "output_type": "execute_result"
    }
   ],
   "source": [
    "task_dep_graph.in_edges(layered_sort[-1][0])"
   ]
  },
  {
   "cell_type": "code",
   "execution_count": 28,
   "metadata": {},
   "outputs": [
    {
     "name": "stderr",
     "output_type": "stream",
     "text": [
      "[00:28:04 -0500] [INFO]: Graph 'tasks_sprint1' load took 2.3997955322265625s\n"
     ]
    },
    {
     "name": "stdout",
     "output_type": "stream",
     "text": [
      "{'task/TSK-93F18D57': 0, 'task/TSK-AAF06E6A': 0, 'task/TSK-2970AC03': 0, 'task/TSK-BBA87B09': 0, 'task/TSK-A3E27D20': 0, 'task/TSK-46138F7D': 0, 'task/TSK-3D21853C': 0, 'task/TSK-DA566BCB': 0, 'task/TSK-1AA8BEAF': 0, 'task/TSK-91119F5B': 0, 'task/TSK-01D25D85': 0, 'task/TSK-DC3ED3E2': 0, 'task/TSK-0AEE35B2': 0, 'task/TSK-2179FF75': 0, 'task/TSK-BE4188D4': 0, 'task/TSK-89806FDF': 0, 'task/TSK-30DBEA24': 0, 'task/TSK-39885F7F': 0, 'task/TSK-0885F3E9': 0, 'task/TSK-D5031D4A': 0, 'task/TSK-E2E87C0B': 0, 'task/TSK-BE9555AC': 0, 'task/TSK-514F6016': 0, 'task/TSK-FEA63216': 0, 'task/TSK-0E209EFC': 0, 'task/TSK-5D974201': 0, 'task/TSK-991E6E11': 0, 'task/TSK-C440EB07': 0, 'task/TSK-FBED5511': 0, 'task/TSK-84305F2F': 0, 'task/TSK-1A209469': 1, 'task/TSK-977CB080': 1, 'task/TSK-4A3587C9': 1, 'task/TSK-FD3B1EFF': 1, 'task/TSK-2B1FAB57': 1, 'task/TSK-8CD3CA3E': 1, 'task/TSK-CAFF3B09': 1, 'task/TSK-4D677758': 1, 'task/TSK-255E6310': 1, 'task/TSK-B600DD62': 1, 'task/TSK-89754CBF': 1, 'task/TSK-F51C17B5': 1, 'task/TSK-41ECEB44': 1, 'task/TSK-0985DBA9': 1, 'task/TSK-2F459E7F': 1, 'task/TSK-3941DB43': 1, 'task/TSK-19A45EE8': 1, 'task/TSK-E73A7D25': 1, 'task/TSK-795E9201': 2, 'task/TSK-E2842052': 2, 'task/TSK-59CE546C': 2, 'task/TSK-EBA1C369': 2, 'task/TSK-FAC99DF1': 2, 'task/TSK-29CE08AD': 2, 'task/TSK-C4D5CB75': 2, 'task/TSK-FB3E490E': 2, 'task/TSK-1FE396B7': 2, 'task/TSK-54F9521F': 2, 'task/TSK-10847035': 3, 'task/TSK-3BA37747': 3, 'task/TSK-89BBB564': 3, 'task/TSK-B3B5A8F6': 3, 'task/TSK-736E3B28': 3, 'task/TSK-1B43CB90': 3, 'task/TSK-F7E19B69': 3, 'task/TSK-A6994DD6': 3, 'task/TSK-763CE1C3': 3, 'task/TSK-427652F3': 4, 'task/TSK-C2D38D23': 4, 'task/TSK-A0CCA417': 4, 'task/TSK-0115FED3': 4, 'task/TSK-AE8CFDEC': 4, 'task/TSK-CB292DC1': 4, 'task/TSK-983C30DC': 4, 'task/TSK-FBD87AD9': 5, 'task/TSK-B03EF789': 5, 'task/TSK-DFB54467': 5, 'task/TSK-5C2187CF': 5, 'task/TSK-C891B895': 5, 'task/TSK-E6CFDD02': 5, 'task/TSK-7E9F09A9': 6, 'task/TSK-F567DBE1': 6, 'task/TSK-85D5D00C': 6, 'task/TSK-CB0C0404': 6, 'task/TSK-98C9448B': 6, 'task/TSK-A8A24727': 6, 'task/TSK-42E44473': 7, 'task/TSK-A0500206': 7, 'task/TSK-FAAA4D51': 7, 'task/TSK-5A434477': 8}\n",
      "Node colors based on layers:\n",
      "Node task/TSK-FEA63216 is Red\n",
      "Node task/TSK-D5031D4A is Red\n",
      "Node task/TSK-AAF06E6A is Red\n",
      "Node task/TSK-5D974201 is Red\n",
      "Node task/TSK-91119F5B is Red\n",
      "Node task/TSK-BE9555AC is Red\n",
      "Node task/TSK-30DBEA24 is Red\n",
      "Node task/TSK-89806FDF is Red\n",
      "Node task/TSK-991E6E11 is Red\n",
      "Node task/TSK-514F6016 is Red\n",
      "Node task/TSK-01D25D85 is Red\n",
      "Node task/TSK-0885F3E9 is Red\n",
      "Node task/TSK-0AEE35B2 is Red\n",
      "Node task/TSK-DC3ED3E2 is Red\n",
      "Node task/TSK-0E209EFC is Red\n",
      "Node task/TSK-FBED5511 is Red\n",
      "Node task/TSK-84305F2F is Red\n",
      "Node task/TSK-A3E27D20 is Red\n",
      "Node task/TSK-2970AC03 is Red\n",
      "Node task/TSK-39885F7F is Red\n",
      "Node task/TSK-E2E87C0B is Red\n",
      "Node task/TSK-93F18D57 is Red\n",
      "Node task/TSK-46138F7D is Red\n",
      "Node task/TSK-DA566BCB is Red\n",
      "Node task/TSK-BE4188D4 is Red\n",
      "Node task/TSK-C440EB07 is Red\n",
      "Node task/TSK-3D21853C is Red\n",
      "Node task/TSK-BBA87B09 is Red\n",
      "Node task/TSK-1AA8BEAF is Red\n",
      "Node task/TSK-2179FF75 is Red\n",
      "Node task/TSK-89754CBF is Green\n",
      "Node task/TSK-CAFF3B09 is Green\n",
      "Node task/TSK-F51C17B5 is Green\n",
      "Node task/TSK-4D677758 is Green\n",
      "Node task/TSK-2F459E7F is Green\n",
      "Node task/TSK-977CB080 is Green\n",
      "Node task/TSK-41ECEB44 is Green\n",
      "Node task/TSK-3941DB43 is Green\n",
      "Node task/TSK-0985DBA9 is Green\n",
      "Node task/TSK-255E6310 is Green\n",
      "Node task/TSK-4A3587C9 is Green\n",
      "Node task/TSK-FD3B1EFF is Green\n",
      "Node task/TSK-B600DD62 is Green\n",
      "Node task/TSK-1A209469 is Green\n",
      "Node task/TSK-19A45EE8 is Green\n",
      "Node task/TSK-E73A7D25 is Green\n",
      "Node task/TSK-2B1FAB57 is Green\n",
      "Node task/TSK-8CD3CA3E is Green\n",
      "Node task/TSK-FB3E490E is Green\n",
      "Node task/TSK-54F9521F is Green\n",
      "Node task/TSK-29CE08AD is Green\n",
      "Node task/TSK-E2842052 is Green\n",
      "Node task/TSK-59CE546C is Green\n",
      "Node task/TSK-1FE396B7 is Green\n",
      "Node task/TSK-FAC99DF1 is Green\n",
      "Node task/TSK-C4D5CB75 is Green\n",
      "Node task/TSK-EBA1C369 is Green\n",
      "Node task/TSK-795E9201 is Green\n",
      "Node task/TSK-736E3B28 is Green\n",
      "Node task/TSK-763CE1C3 is Green\n",
      "Node task/TSK-A6994DD6 is Green\n",
      "Node task/TSK-1B43CB90 is Green\n",
      "Node task/TSK-F7E19B69 is Green\n",
      "Node task/TSK-B3B5A8F6 is Green\n",
      "Node task/TSK-3BA37747 is Green\n",
      "Node task/TSK-89BBB564 is Green\n",
      "Node task/TSK-10847035 is Green\n",
      "Node task/TSK-C2D38D23 is Green\n",
      "Node task/TSK-427652F3 is Green\n",
      "Node task/TSK-A0CCA417 is Green\n",
      "Node task/TSK-CB292DC1 is Green\n",
      "Node task/TSK-0115FED3 is Green\n",
      "Node task/TSK-983C30DC is Green\n",
      "Node task/TSK-AE8CFDEC is Green\n",
      "Node task/TSK-C891B895 is Green\n",
      "Node task/TSK-DFB54467 is Green\n",
      "Node task/TSK-E6CFDD02 is Green\n",
      "Node task/TSK-FBD87AD9 is Green\n",
      "Node task/TSK-5C2187CF is Green\n",
      "Node task/TSK-B03EF789 is Green\n",
      "Node task/TSK-7E9F09A9 is Green\n",
      "Node task/TSK-98C9448B is Green\n",
      "Node task/TSK-F567DBE1 is Green\n",
      "Node task/TSK-CB0C0404 is Green\n",
      "Node task/TSK-A8A24727 is Green\n",
      "Node task/TSK-85D5D00C is Green\n",
      "Node task/TSK-42E44473 is Green\n",
      "Node task/TSK-FAAA4D51 is Green\n",
      "Node task/TSK-A0500206 is Green\n",
      "Node task/TSK-5A434477 is Blue\n",
      "\n",
      "Layer assignments:\n",
      "Node task/TSK-93F18D57 is in layer 0\n",
      "Node task/TSK-AAF06E6A is in layer 0\n",
      "Node task/TSK-2970AC03 is in layer 0\n",
      "Node task/TSK-BBA87B09 is in layer 0\n",
      "Node task/TSK-A3E27D20 is in layer 0\n",
      "Node task/TSK-46138F7D is in layer 0\n",
      "Node task/TSK-3D21853C is in layer 0\n",
      "Node task/TSK-DA566BCB is in layer 0\n",
      "Node task/TSK-1AA8BEAF is in layer 0\n",
      "Node task/TSK-91119F5B is in layer 0\n",
      "Node task/TSK-01D25D85 is in layer 0\n",
      "Node task/TSK-DC3ED3E2 is in layer 0\n",
      "Node task/TSK-0AEE35B2 is in layer 0\n",
      "Node task/TSK-2179FF75 is in layer 0\n",
      "Node task/TSK-BE4188D4 is in layer 0\n",
      "Node task/TSK-89806FDF is in layer 0\n",
      "Node task/TSK-30DBEA24 is in layer 0\n",
      "Node task/TSK-39885F7F is in layer 0\n",
      "Node task/TSK-0885F3E9 is in layer 0\n",
      "Node task/TSK-D5031D4A is in layer 0\n",
      "Node task/TSK-E2E87C0B is in layer 0\n",
      "Node task/TSK-BE9555AC is in layer 0\n",
      "Node task/TSK-514F6016 is in layer 0\n",
      "Node task/TSK-FEA63216 is in layer 0\n",
      "Node task/TSK-0E209EFC is in layer 0\n",
      "Node task/TSK-5D974201 is in layer 0\n",
      "Node task/TSK-991E6E11 is in layer 0\n",
      "Node task/TSK-C440EB07 is in layer 0\n",
      "Node task/TSK-FBED5511 is in layer 0\n",
      "Node task/TSK-84305F2F is in layer 0\n",
      "Node task/TSK-1A209469 is in layer 1\n",
      "Node task/TSK-977CB080 is in layer 1\n",
      "Node task/TSK-4A3587C9 is in layer 1\n",
      "Node task/TSK-FD3B1EFF is in layer 1\n",
      "Node task/TSK-2B1FAB57 is in layer 1\n",
      "Node task/TSK-8CD3CA3E is in layer 1\n",
      "Node task/TSK-CAFF3B09 is in layer 1\n",
      "Node task/TSK-4D677758 is in layer 1\n",
      "Node task/TSK-255E6310 is in layer 1\n",
      "Node task/TSK-B600DD62 is in layer 1\n",
      "Node task/TSK-89754CBF is in layer 1\n",
      "Node task/TSK-F51C17B5 is in layer 1\n",
      "Node task/TSK-41ECEB44 is in layer 1\n",
      "Node task/TSK-0985DBA9 is in layer 1\n",
      "Node task/TSK-2F459E7F is in layer 1\n",
      "Node task/TSK-3941DB43 is in layer 1\n",
      "Node task/TSK-19A45EE8 is in layer 1\n",
      "Node task/TSK-E73A7D25 is in layer 1\n",
      "Node task/TSK-795E9201 is in layer 2\n",
      "Node task/TSK-E2842052 is in layer 2\n",
      "Node task/TSK-59CE546C is in layer 2\n",
      "Node task/TSK-EBA1C369 is in layer 2\n",
      "Node task/TSK-FAC99DF1 is in layer 2\n",
      "Node task/TSK-29CE08AD is in layer 2\n",
      "Node task/TSK-C4D5CB75 is in layer 2\n",
      "Node task/TSK-FB3E490E is in layer 2\n",
      "Node task/TSK-1FE396B7 is in layer 2\n",
      "Node task/TSK-54F9521F is in layer 2\n",
      "Node task/TSK-10847035 is in layer 3\n",
      "Node task/TSK-3BA37747 is in layer 3\n",
      "Node task/TSK-89BBB564 is in layer 3\n",
      "Node task/TSK-B3B5A8F6 is in layer 3\n",
      "Node task/TSK-736E3B28 is in layer 3\n",
      "Node task/TSK-1B43CB90 is in layer 3\n",
      "Node task/TSK-F7E19B69 is in layer 3\n",
      "Node task/TSK-A6994DD6 is in layer 3\n",
      "Node task/TSK-763CE1C3 is in layer 3\n",
      "Node task/TSK-427652F3 is in layer 4\n",
      "Node task/TSK-C2D38D23 is in layer 4\n",
      "Node task/TSK-A0CCA417 is in layer 4\n",
      "Node task/TSK-0115FED3 is in layer 4\n",
      "Node task/TSK-AE8CFDEC is in layer 4\n",
      "Node task/TSK-CB292DC1 is in layer 4\n",
      "Node task/TSK-983C30DC is in layer 4\n",
      "Node task/TSK-FBD87AD9 is in layer 5\n",
      "Node task/TSK-B03EF789 is in layer 5\n",
      "Node task/TSK-DFB54467 is in layer 5\n",
      "Node task/TSK-5C2187CF is in layer 5\n",
      "Node task/TSK-C891B895 is in layer 5\n",
      "Node task/TSK-E6CFDD02 is in layer 5\n",
      "Node task/TSK-7E9F09A9 is in layer 6\n",
      "Node task/TSK-F567DBE1 is in layer 6\n",
      "Node task/TSK-85D5D00C is in layer 6\n",
      "Node task/TSK-CB0C0404 is in layer 6\n",
      "Node task/TSK-98C9448B is in layer 6\n",
      "Node task/TSK-A8A24727 is in layer 6\n",
      "Node task/TSK-42E44473 is in layer 7\n",
      "Node task/TSK-A0500206 is in layer 7\n",
      "Node task/TSK-FAAA4D51 is in layer 7\n",
      "Node task/TSK-5A434477 is in layer 8\n"
     ]
    }
   ],
   "source": [
    "import networkx as nx\n",
    "import random\n",
    "\n",
    "def color_dag(dag):\n",
    "    # Perform topological sorting\n",
    "    topo_order = list(nx.topological_sort(dag))\n",
    "    \n",
    "    # Initialize dictionary for layers\n",
    "    layers = {}\n",
    "    \n",
    "    # Perform layering of the nodes (BFS-like approach)\n",
    "    # We'll use a dictionary to track the minimum distance of each node from the source nodes\n",
    "    for node in topo_order:\n",
    "        # If the node has no incoming edges, it's a source, so assign to layer 0\n",
    "        if dag.in_degree(node) == 0:\n",
    "            layers[node] = 0\n",
    "        else:\n",
    "            # Assign to the layer of the maximum incoming node + 1\n",
    "            incoming_layers = [layers[neighbor] for neighbor in dag.predecessors(node)]\n",
    "            layers[node] = max(incoming_layers) + 1\n",
    "\n",
    "    print(layers)\n",
    "    # Find the max layer value (bottom layer)\n",
    "    max_layer = max(layers.values())\n",
    "    \n",
    "    # Create color mapping\n",
    "    node_colors = {}\n",
    "    for node, layer in layers.items():\n",
    "        if layer == 0:\n",
    "            node_colors[node] = \"Red\"  # Topmost layer\n",
    "        elif layer == max_layer:\n",
    "            node_colors[node] = \"Blue\"  # Bottom layer\n",
    "        else:\n",
    "            node_colors[node] = \"Green\"  # Intermediate layers\n",
    "    \n",
    "    # Shuffle the nodes in each layer for randomness\n",
    "    layer_nodes = {layer: [] for layer in range(max_layer + 1)}\n",
    "    for node, layer in layers.items():\n",
    "        layer_nodes[layer].append(node)\n",
    "\n",
    "    # Randomize node order in each layer\n",
    "    for layer in layer_nodes:\n",
    "        random.shuffle(layer_nodes[layer])\n",
    "\n",
    "    # Rebuild node_colors with randomized positions per layer\n",
    "    randomized_node_colors = {}\n",
    "    for layer in range(max_layer + 1):\n",
    "        for i, node in enumerate(layer_nodes[layer]):\n",
    "            randomized_node_colors[node] = node_colors[node]\n",
    "    \n",
    "    return randomized_node_colors, layers\n",
    "\n",
    "\n",
    "# Example usage:\n",
    "\n",
    "# Create a DAG\n",
    "dag = nx.DiGraph()\n",
    "dag.add_edges_from([\n",
    "    ('A', 'B'),\n",
    "    ('A', 'C'),\n",
    "    ('B', 'D'),\n",
    "    ('C', 'D'),\n",
    "    ('D', 'E'),\n",
    "])\n",
    "\n",
    "# Call the function to color the DAG\n",
    "node_colors, layers = color_dag(task_dep_graph)\n",
    "\n",
    "# Print the results\n",
    "print(\"Node colors based on layers:\")\n",
    "for node, color in node_colors.items():\n",
    "    print(f\"Node {node} is {color}\")\n",
    "\n",
    "print(\"\\nLayer assignments:\")\n",
    "for node, layer in layers.items():\n",
    "    print(f\"Node {node} is in layer {layer}\")"
   ]
  },
  {
   "cell_type": "code",
   "execution_count": null,
   "metadata": {},
   "outputs": [
    {
     "name": "stdout",
     "output_type": "stream",
     "text": [
      "0\n",
      "0.8888888888888888\n",
      "1\n",
      "0.7777777777777777\n",
      "2\n",
      "0.6666666666666665\n",
      "3\n",
      "0.5555555555555554\n",
      "4\n",
      "0.44444444444444425\n",
      "5\n",
      "0.33333333333333315\n",
      "6\n",
      "0.22222222222222204\n",
      "7\n",
      "0.11111111111111094\n",
      "8\n",
      "-1.6653345369377348e-16\n"
     ]
    }
   ],
   "source": [
    "def assign_nodes(G):\n",
    "    layers = nx.topological_generations(G)\n",
    "\n",
    "    assignment = {node: \"Planned\" for node in G.nodes}\n",
    "    completed_probability = 1\n",
    "    layers = [sorted(generation) for generation in layers]\n",
    "    length = len(layers)\n",
    "    for level, nodes in enumerate(layers):\n",
    "        for node in nodes:\n",
    "            if random.random() < completed_probability:\n",
    "                if random.random() < 0.3:\n",
    "                    assignment[node] = \"Blocked\"\n",
    "                else:\n",
    "                    assignment[node] = \"In Progress\"\n",
    "            else:\n",
    "                assignment[node] = \"Completed\"\n",
    "        completed_probability -= 1 / (length)\n",
    "\n",
    "    return assignment\n",
    "\n",
    "print(assign_nodes(task_dep_graph))\n"
   ]
  },
  {
   "cell_type": "code",
   "execution_count": null,
   "metadata": {},
   "outputs": [],
   "source": []
  }
 ],
 "metadata": {
  "colab": {
   "provenance": []
  },
  "kernelspec": {
   "display_name": "venv",
   "language": "python",
   "name": "python3"
  },
  "language_info": {
   "codemirror_mode": {
    "name": "ipython",
    "version": 3
   },
   "file_extension": ".py",
   "mimetype": "text/x-python",
   "name": "python",
   "nbconvert_exporter": "python",
   "pygments_lexer": "ipython3",
   "version": "3.11.0"
  }
 },
 "nbformat": 4,
 "nbformat_minor": 0
}
