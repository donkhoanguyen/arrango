{
 "cells": [
  {
   "cell_type": "code",
   "execution_count": 2,
   "metadata": {},
   "outputs": [],
   "source": [
    "import pandas as pd"
   ]
  },
  {
   "cell_type": "code",
   "execution_count": 12,
   "metadata": {},
   "outputs": [
    {
     "name": "stdout",
     "output_type": "stream",
     "text": [
      "<class 'pandas.core.frame.DataFrame'>\n",
      "RangeIndex: 90 entries, 0 to 89\n",
      "Data columns (total 2 columns):\n",
      " #   Column          Non-Null Count  Dtype \n",
      "---  ------          --------------  ----- \n",
      " 0   TaskID          90 non-null     object\n",
      " 1   PrecedingTasks  57 non-null     object\n",
      "dtypes: object(2)\n",
      "memory usage: 1.5+ KB\n"
     ]
    }
   ],
   "source": [
    "tasks_connection = pd.read_csv('../../data/tasks.csv')[['TaskID', 'PrecedingTasks']]\n",
    "tasks_connection.info()"
   ]
  },
  {
   "cell_type": "code",
   "execution_count": 13,
   "metadata": {
    "vscode": {
     "languageId": "ruby"
    }
   },
   "outputs": [],
   "source": [
    "# Split PrecedingTasks by comma and explode\n",
    "tasks_connection['PrecedingTasks'] = tasks_connection['PrecedingTasks'].str.split(',')\n",
    "tasks_with_exploded_precedents = tasks_connection.explode('PrecedingTasks')\n",
    "tasks_with_exploded_precedents['PrecedingTasks'] = tasks_with_exploded_precedents['PrecedingTasks'].str.strip()"
   ]
  },
  {
   "cell_type": "code",
   "execution_count": 18,
   "metadata": {
    "vscode": {
     "languageId": "ruby"
    }
   },
   "outputs": [
    {
     "data": {
      "text/html": [
       "<div>\n",
       "<style scoped>\n",
       "    .dataframe tbody tr th:only-of-type {\n",
       "        vertical-align: middle;\n",
       "    }\n",
       "\n",
       "    .dataframe tbody tr th {\n",
       "        vertical-align: top;\n",
       "    }\n",
       "\n",
       "    .dataframe thead th {\n",
       "        text-align: right;\n",
       "    }\n",
       "</style>\n",
       "<table border=\"1\" class=\"dataframe\">\n",
       "  <thead>\n",
       "    <tr style=\"text-align: right;\">\n",
       "      <th></th>\n",
       "      <th>TaskID</th>\n",
       "      <th>PrecedingTasks</th>\n",
       "    </tr>\n",
       "  </thead>\n",
       "  <tbody>\n",
       "    <tr>\n",
       "      <th>6</th>\n",
       "      <td>TSK-5C2187CF</td>\n",
       "      <td>TSK-98C9448B</td>\n",
       "    </tr>\n",
       "    <tr>\n",
       "      <th>7</th>\n",
       "      <td>TSK-5C2187CF</td>\n",
       "      <td>TSK-A8A24727</td>\n",
       "    </tr>\n",
       "    <tr>\n",
       "      <th>8</th>\n",
       "      <td>TSK-5C2187CF</td>\n",
       "      <td>TSK-CB0C0404</td>\n",
       "    </tr>\n",
       "    <tr>\n",
       "      <th>9</th>\n",
       "      <td>TSK-5C2187CF</td>\n",
       "      <td>TSK-85D5D00C</td>\n",
       "    </tr>\n",
       "    <tr>\n",
       "      <th>10</th>\n",
       "      <td>TSK-983C30DC</td>\n",
       "      <td>TSK-5C2187CF</td>\n",
       "    </tr>\n",
       "    <tr>\n",
       "      <th>11</th>\n",
       "      <td>TSK-983C30DC</td>\n",
       "      <td>TSK-C891B895</td>\n",
       "    </tr>\n",
       "    <tr>\n",
       "      <th>12</th>\n",
       "      <td>TSK-983C30DC</td>\n",
       "      <td>TSK-E6CFDD02</td>\n",
       "    </tr>\n",
       "    <tr>\n",
       "      <th>13</th>\n",
       "      <td>TSK-763CE1C3</td>\n",
       "      <td>TSK-98C9448B</td>\n",
       "    </tr>\n",
       "    <tr>\n",
       "      <th>14</th>\n",
       "      <td>TSK-763CE1C3</td>\n",
       "      <td>TSK-A8A24727</td>\n",
       "    </tr>\n",
       "    <tr>\n",
       "      <th>15</th>\n",
       "      <td>TSK-763CE1C3</td>\n",
       "      <td>TSK-983C30DC</td>\n",
       "    </tr>\n",
       "  </tbody>\n",
       "</table>\n",
       "</div>"
      ],
      "text/plain": [
       "          TaskID PrecedingTasks\n",
       "6   TSK-5C2187CF   TSK-98C9448B\n",
       "7   TSK-5C2187CF   TSK-A8A24727\n",
       "8   TSK-5C2187CF   TSK-CB0C0404\n",
       "9   TSK-5C2187CF   TSK-85D5D00C\n",
       "10  TSK-983C30DC   TSK-5C2187CF\n",
       "11  TSK-983C30DC   TSK-C891B895\n",
       "12  TSK-983C30DC   TSK-E6CFDD02\n",
       "13  TSK-763CE1C3   TSK-98C9448B\n",
       "14  TSK-763CE1C3   TSK-A8A24727\n",
       "15  TSK-763CE1C3   TSK-983C30DC"
      ]
     },
     "execution_count": 18,
     "metadata": {},
     "output_type": "execute_result"
    }
   ],
   "source": [
    "tasks_with_exploded_precedents = tasks_with_exploded_precedents.reset_index(drop=True)\n",
    "tasks_with_exploded_precedents = tasks_with_exploded_precedents.dropna(subset=['PrecedingTasks'])\n",
    "tasks_with_exploded_precedents.head(10)"
   ]
  },
  {
   "cell_type": "code",
   "execution_count": 19,
   "metadata": {},
   "outputs": [],
   "source": [
    "tasks_with_exploded_precedents.to_csv('../../data/edge_task_to_task.csv', index=False)"
   ]
  },
  {
   "cell_type": "code",
   "execution_count": null,
   "metadata": {},
   "outputs": [],
   "source": []
  }
 ],
 "metadata": {
  "kernelspec": {
   "display_name": "3.12.0",
   "language": "python",
   "name": "python3"
  },
  "language_info": {
   "codemirror_mode": {
    "name": "ipython",
    "version": 3
   },
   "file_extension": ".py",
   "mimetype": "text/x-python",
   "name": "python",
   "nbconvert_exporter": "python",
   "pygments_lexer": "ipython3",
   "version": "3.12.0"
  }
 },
 "nbformat": 4,
 "nbformat_minor": 2
}
