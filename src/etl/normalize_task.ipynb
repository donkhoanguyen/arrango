{
 "cells": [
  {
   "cell_type": "code",
   "execution_count": 19,
   "metadata": {},
   "outputs": [],
   "source": [
    "import pandas as pd"
   ]
  },
  {
   "cell_type": "code",
   "execution_count": null,
   "metadata": {},
   "outputs": [
    {
     "name": "stdout",
     "output_type": "stream",
     "text": [
      "<class 'pandas.core.frame.DataFrame'>\n",
      "RangeIndex: 35 entries, 0 to 34\n",
      "Data columns (total 2 columns):\n",
      " #   Column          Non-Null Count  Dtype \n",
      "---  ------          --------------  ----- \n",
      " 0   TaskID          35 non-null     object\n",
      " 1   PrecedingTasks  20 non-null     object\n",
      "dtypes: object(2)\n",
      "memory usage: 688.0+ bytes\n"
     ]
    }
   ],
   "source": [
    "tasks_connection = pd.read_csv('../../data/tasks/bi/bi_tasks.csv')[['TaskID', 'PrecedingTasks']]\n",
    "tasks_connection.info()"
   ]
  },
  {
   "cell_type": "code",
   "execution_count": 21,
   "metadata": {
    "vscode": {
     "languageId": "ruby"
    }
   },
   "outputs": [],
   "source": [
    "# Split PrecedingTasks by comma and explode\n",
    "tasks_connection['PrecedingTasks'] = tasks_connection['PrecedingTasks'].str.split(',')\n",
    "tasks_with_exploded_precedents = tasks_connection.explode('PrecedingTasks')\n",
    "tasks_with_exploded_precedents['PrecedingTasks'] = tasks_with_exploded_precedents['PrecedingTasks'].str.strip()"
   ]
  },
  {
   "cell_type": "code",
   "execution_count": 22,
   "metadata": {
    "vscode": {
     "languageId": "ruby"
    }
   },
   "outputs": [
    {
     "data": {
      "text/html": [
       "<div>\n",
       "<style scoped>\n",
       "    .dataframe tbody tr th:only-of-type {\n",
       "        vertical-align: middle;\n",
       "    }\n",
       "\n",
       "    .dataframe tbody tr th {\n",
       "        vertical-align: top;\n",
       "    }\n",
       "\n",
       "    .dataframe thead th {\n",
       "        text-align: right;\n",
       "    }\n",
       "</style>\n",
       "<table border=\"1\" class=\"dataframe\">\n",
       "  <thead>\n",
       "    <tr style=\"text-align: right;\">\n",
       "      <th></th>\n",
       "      <th>TaskID</th>\n",
       "      <th>PrecedingTasks</th>\n",
       "    </tr>\n",
       "  </thead>\n",
       "  <tbody>\n",
       "    <tr>\n",
       "      <th>5</th>\n",
       "      <td>TSK-F50BC3EB</td>\n",
       "      <td>TSK-D06E25BC</td>\n",
       "    </tr>\n",
       "    <tr>\n",
       "      <th>6</th>\n",
       "      <td>TSK-F50BC3EB</td>\n",
       "      <td>TSK-2E5F6331</td>\n",
       "    </tr>\n",
       "    <tr>\n",
       "      <th>7</th>\n",
       "      <td>TSK-F50BC3EB</td>\n",
       "      <td>TSK-DFA13576</td>\n",
       "    </tr>\n",
       "    <tr>\n",
       "      <th>10</th>\n",
       "      <td>TSK-755D848A</td>\n",
       "      <td>TSK-DFA13576</td>\n",
       "    </tr>\n",
       "    <tr>\n",
       "      <th>11</th>\n",
       "      <td>TSK-C647ABF9</td>\n",
       "      <td>TSK-F50BC3EB</td>\n",
       "    </tr>\n",
       "    <tr>\n",
       "      <th>13</th>\n",
       "      <td>TSK-8457B661</td>\n",
       "      <td>TSK-D06E25BC</td>\n",
       "    </tr>\n",
       "    <tr>\n",
       "      <th>14</th>\n",
       "      <td>TSK-E9F2B0EB</td>\n",
       "      <td>TSK-0BEEDC1F</td>\n",
       "    </tr>\n",
       "    <tr>\n",
       "      <th>15</th>\n",
       "      <td>TSK-E9F2B0EB</td>\n",
       "      <td>TSK-D06E25BC</td>\n",
       "    </tr>\n",
       "    <tr>\n",
       "      <th>16</th>\n",
       "      <td>TSK-E9F2B0EB</td>\n",
       "      <td>TSK-8457B661</td>\n",
       "    </tr>\n",
       "    <tr>\n",
       "      <th>17</th>\n",
       "      <td>TSK-0FE4A0BA</td>\n",
       "      <td>TSK-C647ABF9</td>\n",
       "    </tr>\n",
       "  </tbody>\n",
       "</table>\n",
       "</div>"
      ],
      "text/plain": [
       "          TaskID PrecedingTasks\n",
       "5   TSK-F50BC3EB   TSK-D06E25BC\n",
       "6   TSK-F50BC3EB   TSK-2E5F6331\n",
       "7   TSK-F50BC3EB   TSK-DFA13576\n",
       "10  TSK-755D848A   TSK-DFA13576\n",
       "11  TSK-C647ABF9   TSK-F50BC3EB\n",
       "13  TSK-8457B661   TSK-D06E25BC\n",
       "14  TSK-E9F2B0EB   TSK-0BEEDC1F\n",
       "15  TSK-E9F2B0EB   TSK-D06E25BC\n",
       "16  TSK-E9F2B0EB   TSK-8457B661\n",
       "17  TSK-0FE4A0BA   TSK-C647ABF9"
      ]
     },
     "execution_count": 22,
     "metadata": {},
     "output_type": "execute_result"
    }
   ],
   "source": [
    "tasks_with_exploded_precedents = tasks_with_exploded_precedents.reset_index(drop=True)\n",
    "tasks_with_exploded_precedents = tasks_with_exploded_precedents.dropna(subset=['PrecedingTasks'])\n",
    "tasks_with_exploded_precedents.head(10)"
   ]
  },
  {
   "cell_type": "code",
   "execution_count": 23,
   "metadata": {},
   "outputs": [],
   "source": [
    "tasks_with_exploded_precedents.to_csv('../../data/tasks/dg/dg_task_dependence.csv', index=False)"
   ]
  },
  {
   "cell_type": "code",
   "execution_count": null,
   "metadata": {},
   "outputs": [],
   "source": []
  }
 ],
 "metadata": {
  "kernelspec": {
   "display_name": "Python 3",
   "language": "python",
   "name": "python3"
  },
  "language_info": {
   "codemirror_mode": {
    "name": "ipython",
    "version": 3
   },
   "file_extension": ".py",
   "mimetype": "text/x-python",
   "name": "python",
   "nbconvert_exporter": "python",
   "pygments_lexer": "ipython3",
   "version": "3.11.0"
  }
 },
 "nbformat": 4,
 "nbformat_minor": 2
}
