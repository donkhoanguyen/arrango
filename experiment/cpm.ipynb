{
 "cells": [
  {
   "cell_type": "code",
   "execution_count": 2,
   "metadata": {},
   "outputs": [
    {
     "name": "stderr",
     "output_type": "stream",
     "text": [
      "[20:24:36 -0500] [INFO]: NetworkX-cuGraph is unavailable: No module named 'cupy'.\n"
     ]
    }
   ],
   "source": [
    "# 5. Import the required modules\n",
    "\n",
    "import networkx as nx\n",
    "import nx_arangodb as nxadb\n",
    "\n",
    "from arango import ArangoClient\n",
    "\n",
    "import pandas as pd\n",
    "import numpy as np\n",
    "import networkx as nx\n",
    "import matplotlib.pyplot as plt\n",
    "from random import randint\n",
    "import re\n",
    "\n",
    "from langgraph.prebuilt import create_react_agent\n",
    "from langgraph.checkpoint.memory import MemorySaver\n",
    "from langchain_openai import ChatOpenAI\n",
    "from langchain_community.graphs import ArangoGraph\n",
    "from langchain_community.chains.graph_qa.arangodb import ArangoGraphQAChain\n",
    "from langchain_core.tools import tool\n",
    "\n",
    "import os\n",
    "import networkx as nx\n",
    "import nx_arangodb as nxadb\n",
    "\n",
    "os.environ[\"DATABASE_HOST\"] = \"https://b61c3b83bfe6.arangodb.cloud:8529\"\n",
    "os.environ[\"DATABASE_USERNAME\"] = \"root\"\n",
    "os.environ[\"DATABASE_PASSWORD\"] = \"RHr0KzkRUVlp61IisH8G\"\n",
    "os.environ[\"DATABASE_NAME\"] = \"DAC_devops_log\"\n",
    "\n",
    "db = ArangoClient(hosts=\"https://b61c3b83bfe6.arangodb.cloud:8529\") \\\n",
    "    .db(username=\"root\", \n",
    "        password=\"RHr0KzkRUVlp61IisH8G\", \n",
    "        name=\"DAC_devops_log\",\n",
    "        verify=True)"
   ]
  },
  {
   "cell_type": "code",
   "execution_count": 3,
   "metadata": {},
   "outputs": [
    {
     "name": "stderr",
     "output_type": "stream",
     "text": [
      "[20:24:40 -0500] [INFO]: Graph 'tasks_sprint1' exists.\n",
      "[20:24:40 -0500] [INFO]: Default node type set to 'task'\n"
     ]
    }
   ],
   "source": [
    "arango_graph = ArangoGraph(db)\n",
    "G_adb = nxadb.DiGraph(name=\"tasks_sprint1\")"
   ]
  },
  {
   "cell_type": "code",
   "execution_count": 5,
   "metadata": {},
   "outputs": [],
   "source": [
    "for node in G_adb.nodes():\n",
    "    story_points = G_adb.nodes[node].get(\"StoryPoints\", \"1\")  # Default to 1 if missing\n",
    "    G_adb.nodes[node][\"duration\"] = int(story_points)  # Ensure integer conversion"
   ]
  },
  {
   "cell_type": "code",
   "execution_count": 6,
   "metadata": {},
   "outputs": [
    {
     "name": "stderr",
     "output_type": "stream",
     "text": [
      "[20:25:46 -0500] [INFO]: Graph 'tasks_sprint1' load took 2.33601975440979s\n"
     ]
    },
    {
     "name": "stdout",
     "output_type": "stream",
     "text": [
      "Critical Path: ['task/TSK-D5031D4A', 'task/TSK-B600DD62', 'task/TSK-29CE08AD', 'task/TSK-89BBB564', 'task/TSK-C2D38D23', 'task/TSK-FBD87AD9', 'task/TSK-7E9F09A9', 'task/TSK-A0500206', 'task/TSK-5A434477']\n",
      "Total Project Duration: 45\n"
     ]
    }
   ],
   "source": [
    "# Find the longest path (Critical Path)\n",
    "critical_path = nx.algorithms.dag.dag_longest_path(G_adb, weight=\"duration\")\n",
    "\n",
    "# Compute total project duration\n",
    "critical_path_length = sum(G_adb.nodes[node][\"duration\"] for node in critical_path)\n",
    "\n",
    "print(\"Critical Path:\", critical_path)\n",
    "print(\"Total Project Duration:\", critical_path_length)"
   ]
  },
  {
   "cell_type": "code",
   "execution_count": 11,
   "metadata": {},
   "outputs": [
    {
     "name": "stderr",
     "output_type": "stream",
     "text": [
      "[20:30:36 -0500] [INFO]: Graph 'tasks_sprint1' load took 2.530318260192871s\n",
      "INFO:nx_arangodb:Graph 'tasks_sprint1' load took 2.530318260192871s\n",
      "[20:30:38 -0500] [INFO]: Graph 'tasks_sprint1' load took 2.7433159351348877s\n",
      "INFO:nx_arangodb:Graph 'tasks_sprint1' load took 2.7433159351348877s\n"
     ]
    },
    {
     "name": "stdout",
     "output_type": "stream",
     "text": [
      "Task task/TSK-FAC99DF1: Slack Time = 19\n",
      "Task task/TSK-E2842052: Slack Time = 26\n",
      "Task task/TSK-FAAA4D51: Slack Time = 16\n",
      "Task task/TSK-A3E27D20: Slack Time = 50\n",
      "Task task/TSK-C440EB07: Slack Time = 23\n",
      "Task task/TSK-3BA37747: Slack Time = 19\n",
      "Task task/TSK-E73A7D25: Slack Time = 11\n",
      "Task task/TSK-F7E19B69: Slack Time = 11\n",
      "Task task/TSK-10847035: Slack Time = 26\n",
      "Task task/TSK-91119F5B: Slack Time = 47\n",
      "Task task/TSK-991E6E11: Slack Time = 47\n",
      "Task task/TSK-2F459E7F: Slack Time = 36\n",
      "Task task/TSK-89754CBF: Slack Time = 21\n",
      "Task task/TSK-A6994DD6: Slack Time = 34\n",
      "Task task/TSK-D5031D4A: Slack Time = 7\n",
      "Task task/TSK-2B1FAB57: Slack Time = 0\n",
      "Task task/TSK-CB292DC1: Slack Time = 12\n",
      "Task task/TSK-DC3ED3E2: Slack Time = 32\n",
      "Task task/TSK-E2E87C0B: Slack Time = 19\n",
      "Task task/TSK-98C9448B: Slack Time = 2\n",
      "Task task/TSK-A0CCA417: Slack Time = 14\n",
      "Task task/TSK-0885F3E9: Slack Time = 44\n",
      "Task task/TSK-BE4188D4: Slack Time = 0\n",
      "Task task/TSK-BE9555AC: Slack Time = 14\n",
      "Task task/TSK-42E44473: Slack Time = 14\n",
      "Task task/TSK-FB3E490E: Slack Time = 18\n",
      "Task task/TSK-7E9F09A9: Slack Time = 6\n",
      "Task task/TSK-B600DD62: Slack Time = 7\n",
      "Task task/TSK-8CD3CA3E: Slack Time = 26\n",
      "Task task/TSK-977CB080: Slack Time = 26\n",
      "Task task/TSK-30DBEA24: Slack Time = 19\n",
      "Task task/TSK-85D5D00C: Slack Time = 2\n",
      "Task task/TSK-AAF06E6A: Slack Time = 3\n",
      "Task task/TSK-C891B895: Slack Time = 5\n",
      "Task task/TSK-F567DBE1: Slack Time = 11\n",
      "Task task/TSK-3941DB43: Slack Time = 33\n",
      "Task task/TSK-EBA1C369: Slack Time = 36\n",
      "Task task/TSK-1AA8BEAF: Slack Time = 50\n",
      "Task task/TSK-54F9521F: Slack Time = 11\n",
      "Task task/TSK-C4D5CB75: Slack Time = 30\n",
      "Task task/TSK-5C2187CF: Slack Time = 0\n",
      "Task task/TSK-0115FED3: Slack Time = 11\n",
      "Task task/TSK-FEA63216: Slack Time = 31\n",
      "Task task/TSK-59CE546C: Slack Time = 0\n",
      "Task task/TSK-C2D38D23: Slack Time = 6\n",
      "Task task/TSK-E6CFDD02: Slack Time = 5\n",
      "Task task/TSK-DFB54467: Slack Time = 9\n",
      "Task task/TSK-BBA87B09: Slack Time = 43\n",
      "Task task/TSK-93F18D57: Slack Time = 26\n",
      "Task task/TSK-514F6016: Slack Time = 13\n",
      "Task task/TSK-AE8CFDEC: Slack Time = 18\n",
      "Task task/TSK-B3B5A8F6: Slack Time = 18\n",
      "Task task/TSK-FD3B1EFF: Slack Time = 38\n",
      "Task task/TSK-4D677758: Slack Time = 19\n",
      "Task task/TSK-0AEE35B2: Slack Time = 11\n",
      "Task task/TSK-39885F7F: Slack Time = 41\n",
      "Task task/TSK-0E209EFC: Slack Time = 23\n",
      "Task task/TSK-DA566BCB: Slack Time = 47\n",
      "Task task/TSK-A8A24727: Slack Time = 0\n",
      "Task task/TSK-1B43CB90: Slack Time = 22\n",
      "Task task/TSK-F51C17B5: Slack Time = 11\n",
      "Task task/TSK-FBD87AD9: Slack Time = 6\n",
      "Task task/TSK-5A434477: Slack Time = 6\n",
      "Task task/TSK-41ECEB44: Slack Time = 36\n",
      "Task task/TSK-CB0C0404: Slack Time = 3\n",
      "Task task/TSK-46138F7D: Slack Time = 24\n",
      "Task task/TSK-89806FDF: Slack Time = 6\n",
      "Task task/TSK-427652F3: Slack Time = 19\n",
      "Task task/TSK-795E9201: Slack Time = 29\n",
      "Task task/TSK-29CE08AD: Slack Time = 6\n",
      "Task task/TSK-255E6310: Slack Time = 34\n",
      "Task task/TSK-5D974201: Slack Time = 13\n",
      "Task task/TSK-3D21853C: Slack Time = 29\n",
      "Task task/TSK-84305F2F: Slack Time = 13\n",
      "Task task/TSK-89BBB564: Slack Time = 6\n",
      "Task task/TSK-2970AC03: Slack Time = 45\n",
      "Task task/TSK-0985DBA9: Slack Time = 29\n",
      "Task task/TSK-4A3587C9: Slack Time = 34\n",
      "Task task/TSK-CAFF3B09: Slack Time = 36\n",
      "Task task/TSK-FBED5511: Slack Time = 42\n",
      "Task task/TSK-1A209469: Slack Time = 29\n",
      "Task task/TSK-2179FF75: Slack Time = 38\n",
      "Task task/TSK-A0500206: Slack Time = 6\n",
      "Task task/TSK-736E3B28: Slack Time = 22\n",
      "Task task/TSK-983C30DC: Slack Time = 0\n",
      "Task task/TSK-1FE396B7: Slack Time = 11\n",
      "Task task/TSK-01D25D85: Slack Time = 10\n",
      "Task task/TSK-763CE1C3: Slack Time = 0\n",
      "Task task/TSK-19A45EE8: Slack Time = 47\n",
      "Task task/TSK-B03EF789: Slack Time = 6\n"
     ]
    }
   ],
   "source": [
    "# Step 1: Compute earliest start (ES) and finish (EF)\n",
    "es = {}  # Earliest Start\n",
    "ef = {}  # Earliest Finish\n",
    "\n",
    "for node in nx.topological_sort(G_adb):\n",
    "    es[node] = max((ef.get(pred, 0) for pred in G_adb.predecessors(node)), default=0)\n",
    "    ef[node] = es[node] + G_adb.nodes[node][\"duration\"]\n",
    "\n",
    "# Step 2: Compute latest finish (LF) and start (LS)\n",
    "lf = {}  # Latest Finish\n",
    "ls = {}  # Latest Start\n",
    "\n",
    "# Start from the last node in the topological order\n",
    "project_duration = max(ef.values())  # Total project duration\n",
    "for node in reversed(list(nx.topological_sort(G_adb))):\n",
    "    lf[node] = min((ls.get(succ, project_duration) for succ in G_adb.successors(node)), default=project_duration)\n",
    "    ls[node] = lf[node] - G_adb.nodes[node][\"duration\"]\n",
    "\n",
    "# Step 3: Compute slack time\n",
    "slack = {node: ls[node] - es[node] for node in G_adb.nodes()}\n",
    "\n",
    "# Print Slack times\n",
    "for node, s in slack.items():\n",
    "    print(f\"Task {node}: Slack Time = {s}\")"
   ]
  },
  {
   "cell_type": "code",
   "execution_count": 12,
   "metadata": {},
   "outputs": [
    {
     "name": "stdout",
     "output_type": "stream",
     "text": [
      "{'task/TSK-5A434477': 52, 'task/TSK-A0500206': 47, 'task/TSK-42E44473': 52, 'task/TSK-FAAA4D51': 52, 'task/TSK-A8A24727': 52, 'task/TSK-85D5D00C': 52, 'task/TSK-98C9448B': 52, 'task/TSK-CB0C0404': 52, 'task/TSK-F567DBE1': 52, 'task/TSK-7E9F09A9': 39, 'task/TSK-E6CFDD02': 52, 'task/TSK-5C2187CF': 47, 'task/TSK-C891B895': 52, 'task/TSK-B03EF789': 39, 'task/TSK-FBD87AD9': 34, 'task/TSK-DFB54467': 34, 'task/TSK-427652F3': 47, 'task/TSK-0115FED3': 52, 'task/TSK-AE8CFDEC': 52, 'task/TSK-CB292DC1': 52, 'task/TSK-A0CCA417': 52, 'task/TSK-983C30DC': 42, 'task/TSK-C2D38D23': 26, 'task/TSK-3BA37747': 42, 'task/TSK-736E3B28': 52, 'task/TSK-1B43CB90': 52, 'task/TSK-F7E19B69': 42, 'task/TSK-B3B5A8F6': 52, 'task/TSK-A6994DD6': 52, 'task/TSK-763CE1C3': 34, 'task/TSK-89BBB564': 24, 'task/TSK-10847035': 52, 'task/TSK-FAC99DF1': 34, 'task/TSK-EBA1C369': 52, 'task/TSK-C4D5CB75': 52, 'task/TSK-1FE396B7': 35, 'task/TSK-FB3E490E': 41, 'task/TSK-54F9521F': 26, 'task/TSK-29CE08AD': 16, 'task/TSK-59CE546C': 26, 'task/TSK-E2842052': 47, 'task/TSK-795E9201': 52, 'task/TSK-CAFF3B09': 49, 'task/TSK-255E6310': 47, 'task/TSK-4D677758': 29, 'task/TSK-8CD3CA3E': 39, 'task/TSK-F51C17B5': 27, 'task/TSK-FD3B1EFF': 49, 'task/TSK-E73A7D25': 21, 'task/TSK-41ECEB44': 52, 'task/TSK-4A3587C9': 45, 'task/TSK-B600DD62': 14, 'task/TSK-89754CBF': 26, 'task/TSK-2B1FAB57': 18, 'task/TSK-3941DB43': 39, 'task/TSK-19A45EE8': 52, 'task/TSK-2F459E7F': 52, 'task/TSK-0985DBA9': 34, 'task/TSK-977CB080': 40, 'task/TSK-1A209469': 44, 'task/TSK-30DBEA24': 27, 'task/TSK-01D25D85': 18, 'task/TSK-89806FDF': 14, 'task/TSK-BE9555AC': 19, 'task/TSK-FEA63216': 35, 'task/TSK-2970AC03': 52, 'task/TSK-DC3ED3E2': 42, 'task/TSK-A3E27D20': 52, 'task/TSK-991E6E11': 52, 'task/TSK-2179FF75': 45, 'task/TSK-E2E87C0B': 24, 'task/TSK-91119F5B': 52, 'task/TSK-1AA8BEAF': 52, 'task/TSK-84305F2F': 16, 'task/TSK-514F6016': 21, 'task/TSK-3D21853C': 35, 'task/TSK-D5031D4A': 9, 'task/TSK-46138F7D': 26, 'task/TSK-DA566BCB': 52, 'task/TSK-AAF06E6A': 5, 'task/TSK-39885F7F': 49, 'task/TSK-FBED5511': 46, 'task/TSK-0AEE35B2': 19, 'task/TSK-C440EB07': 26, 'task/TSK-5D974201': 16, 'task/TSK-0E209EFC': 26, 'task/TSK-0885F3E9': 52, 'task/TSK-93F18D57': 32, 'task/TSK-BBA87B09': 52, 'task/TSK-BE4188D4': 5}\n"
     ]
    }
   ],
   "source": [
    "print(lf)"
   ]
  },
  {
   "cell_type": "code",
   "execution_count": null,
   "metadata": {},
   "outputs": [],
   "source": []
  }
 ],
 "metadata": {
  "kernelspec": {
   "display_name": "3.12.0",
   "language": "python",
   "name": "python3"
  },
  "language_info": {
   "codemirror_mode": {
    "name": "ipython",
    "version": 3
   },
   "file_extension": ".py",
   "mimetype": "text/x-python",
   "name": "python",
   "nbconvert_exporter": "python",
   "pygments_lexer": "ipython3",
   "version": "3.12.0"
  }
 },
 "nbformat": 4,
 "nbformat_minor": 2
}
